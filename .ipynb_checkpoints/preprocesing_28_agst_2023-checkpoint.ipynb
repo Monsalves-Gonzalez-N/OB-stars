{
 "cells": [
  {
   "cell_type": "code",
   "execution_count": 18,
   "id": "9d1e7008",
   "metadata": {},
   "outputs": [],
   "source": [
    "import pandas as pd\n",
    "import ray\n",
    "import seaborn as sns\n",
    "import matplotlib.pyplot as plt\n",
    "import tensorflow as tf\n",
    "import plotly.graph_objects as go\n",
    "from itertools import combinations\n",
    "from sklearn.preprocessing import LabelEncoder, StandardScaler\n",
    "from sklearn.model_selection import (train_test_split, GridSearchCV,\n",
    "                                    StratifiedKFold, StratifiedShuffleSplit,\n",
    "                                    cross_val_score)\n",
    "from sklearn.metrics import make_scorer, recall_score, precision_score, f1_score, classification_report\n",
    "from imblearn.ensemble import BalancedRandomForestClassifier\n",
    "import numpy as np\n",
    "import joblib\n",
    "from pandarallel import pandarallel\n",
    "from sklearn.preprocessing import LabelEncoder, StandardScaler\n",
    "import re"
   ]
  },
  {
   "cell_type": "code",
   "execution_count": 460,
   "id": "1e86f6c8",
   "metadata": {},
   "outputs": [],
   "source": [
    "def busqueda(expression,column,name=None):\n",
    "    if column is np.nan:\n",
    "        return np.nan\n",
    "    m = re.search(expression,column)\n",
    "    if m == None:\n",
    "        return np.nan\n",
    "    if name != None:\n",
    "        return name\n",
    "    else :\n",
    "        return m.group(0)"
   ]
  },
  {
   "cell_type": "code",
   "execution_count": 1003,
   "id": "016880e4",
   "metadata": {},
   "outputs": [
    {
     "name": "stderr",
     "output_type": "stream",
     "text": [
      "/tmp/ipykernel_4561/3900493079.py:1: DtypeWarning: Columns (72,83,84,85,86,88,89,105,122,125,127,130,131,133,134,141,163,166,167,186,193,211) have mixed types. Specify dtype option on import or set low_memory=False.\n",
      "  df_1 = pd.read_csv(\"/home/marcelo/nico/MasivasData/Skiff_zari_gaia_OGLE_Splus_vsxpredicted.csv\")\n"
     ]
    }
   ],
   "source": [
    "df_1 = pd.read_csv(\"/home/marcelo/nico/MasivasData/Skiff_zari_gaia_OGLE_Splus_vsxpredicted.csv\")"
   ]
  },
  {
   "cell_type": "code",
   "execution_count": 944,
   "id": "22b913a4-2764-44f0-a54c-f060826644af",
   "metadata": {},
   "outputs": [],
   "source": [
    "skiff = df_1[['source_id_1',\"skiff_type\",'Bibcode','GroupID_2arcsec_skiff']].astype(str)"
   ]
  },
  {
   "cell_type": "code",
   "execution_count": 945,
   "id": "f7fd4e33-d67b-41c0-995f-2f13835ea76a",
   "metadata": {},
   "outputs": [],
   "source": [
    "skiff['skiff_type'] = skiff['skiff_type'].replace('nan', np.nan)\n",
    "skiff['Bibcode'] = skiff['Bibcode'].replace('nan', np.nan)\n",
    "skiff['GroupID_2arcsec_skiff'] = skiff['GroupID_2arcsec_skiff'].replace('nan', np.nan)"
   ]
  },
  {
   "cell_type": "code",
   "execution_count": 946,
   "id": "6b5de6b6-827c-4599-affa-a128730996f1",
   "metadata": {},
   "outputs": [],
   "source": [
    "skiff = skiff.loc[skiff['skiff_type'].notna()]"
   ]
  },
  {
   "cell_type": "code",
   "execution_count": 947,
   "id": "681a175e-ab3e-4bb5-9cd7-87bae13664b5",
   "metadata": {},
   "outputs": [],
   "source": [
    "skiff[\"skiff_mk\"] = skiff.apply(lambda row: busqueda(r\"^(?!.*[+/])[a-zA-Z]\\d+(?:\\.\\d+)?\",row[\"skiff_type\"]),axis=1)"
   ]
  },
  {
   "cell_type": "code",
   "execution_count": 948,
   "id": "5f73dea7-9adf-4e36-beed-4e362a200339",
   "metadata": {},
   "outputs": [],
   "source": [
    "skiff.loc[(skiff['skiff_mk'].isna())&(skiff['skiff_type'].str[:2]=='em'),'skiff_mk'] = 'em_WR_Be'\n",
    "skiff.loc[skiff['skiff_mk'].isna(),'skiff_mk'] = skiff.loc[skiff['skiff_mk'].isna()].apply(lambda row: busqueda(r\"WR|WN|WC\", row[\"skiff_type\"],'em_WR_Be'), axis=1)\n",
    "skiff.loc[skiff['skiff_mk'].isna(),'skiff_mk'] = skiff.loc[skiff['skiff_mk'].isna()].apply(lambda row: busqueda(r\"Be\", row[\"skiff_type\"],'em_WR_Be'), axis=1)\n",
    "skiff.loc[skiff['skiff_mk'].isna(),'skiff_mk'] = skiff.loc[skiff['skiff_mk'].isna()].apply(lambda row: busqueda(r\"OB\", row[\"skiff_type\"]), axis=1)"
   ]
  },
  {
   "cell_type": "code",
   "execution_count": 949,
   "id": "7e7b3277-cb66-4362-8c13-50c4cf5389fa",
   "metadata": {},
   "outputs": [],
   "source": [
    "skiff.loc[(skiff['skiff_mk'].isna())&(skiff['skiff_type'].str[0]=='h'),'skiff_mk'] = skiff.loc[(skiff['skiff_mk'].isna())&(skiff['skiff_type'].str[0]=='h')]['skiff_type'].str[1:3]"
   ]
  },
  {
   "cell_type": "code",
   "execution_count": 950,
   "id": "708319d0-8bcb-478b-92f2-278aefc6f77d",
   "metadata": {},
   "outputs": [],
   "source": [
    "def busqueda_2(pattern, string, default=None):\n",
    "    match = re.search(pattern, string)\n",
    "    if match:\n",
    "        return match.group(1)  # Retornamos el primer grupo de captura\n",
    "    return default\n",
    "\n",
    "skiff.loc[skiff['skiff_mk'].isna(),'skiff_mk'] = skiff.loc[skiff['skiff_mk'].isna()].apply(lambda row: busqueda_2(r\"^(.*?)(?=(V|IV|III|II|Ia|Ib|Iab)(?:/(V|IV|III|II|Ia|Ib|Iab))?$)\", row[\"skiff_type\"]), axis=1)\n"
   ]
  },
  {
   "cell_type": "code",
   "execution_count": 951,
   "id": "22b75a0e-5660-4cbb-b265-3facd1ad7b9a",
   "metadata": {},
   "outputs": [],
   "source": [
    "skiff.loc[skiff['skiff_mk'].isna(),'skiff_mk'] = skiff.loc[skiff['skiff_mk'].isna()].apply(lambda row: busqueda(r\"^(O|B|A|F|G|K|M)$\", row[\"skiff_type\"]), axis=1)\n"
   ]
  },
  {
   "cell_type": "code",
   "execution_count": 952,
   "id": "f3a76a16-85ea-426d-8a9d-a987dd2a1be2",
   "metadata": {},
   "outputs": [],
   "source": [
    "skiff.loc[(skiff['skiff_type']=='Ofe'),'skiff_mk'] = 'em_WR_Be'"
   ]
  },
  {
   "cell_type": "code",
   "execution_count": 953,
   "id": "42da5a21-fe3b-4b87-8cfc-e618de06ee36",
   "metadata": {},
   "outputs": [],
   "source": [
    "skiff.loc[skiff['skiff_mk'].isna(),'skiff_mk'] = skiff.loc[skiff['skiff_mk'].isna()].apply(lambda row: busqueda(r\"e\", row[\"skiff_type\"],'em_WR_Be'), axis=1)\n"
   ]
  },
  {
   "cell_type": "code",
   "execution_count": 954,
   "id": "17abe6fd-6171-4230-b36c-3c438a84e4c9",
   "metadata": {},
   "outputs": [],
   "source": [
    "skiff.loc[skiff['skiff_mk'].isna(),'skiff_mk'] = skiff.loc[skiff['skiff_mk'].isna()].apply(lambda row: busqueda(r\"^(O|B|A|F|G|K|M|N)(\\d*(\\.\\d*)?)?(\\/(\\d*(\\.\\d*)?)?)?\", row[\"skiff_type\"]), axis=1)"
   ]
  },
  {
   "cell_type": "code",
   "execution_count": 955,
   "id": "019ad43b-9220-4526-9b97-b07520380acd",
   "metadata": {},
   "outputs": [],
   "source": [
    "skiff_mk = skiff.loc[(skiff['skiff_mk']!='em_WR_Be')&(skiff['skiff_mk']!='OB')&(skiff['skiff_mk'].notna())]"
   ]
  },
  {
   "cell_type": "code",
   "execution_count": 956,
   "id": "9405f5b4-c798-49f4-8abf-93015563c84f",
   "metadata": {},
   "outputs": [
    {
     "name": "stderr",
     "output_type": "stream",
     "text": [
      "/tmp/ipykernel_4561/2992802417.py:1: SettingWithCopyWarning: \n",
      "A value is trying to be set on a copy of a slice from a DataFrame.\n",
      "Try using .loc[row_indexer,col_indexer] = value instead\n",
      "\n",
      "See the caveats in the documentation: https://pandas.pydata.org/pandas-docs/stable/user_guide/indexing.html#returning-a-view-versus-a-copy\n",
      "  skiff_mk['skiff_mk'] = skiff_mk['skiff_mk'].str.replace('.', '')\n"
     ]
    }
   ],
   "source": [
    "skiff_mk['skiff_mk'] = skiff_mk['skiff_mk'].str.replace('.', '')"
   ]
  },
  {
   "cell_type": "code",
   "execution_count": 957,
   "id": "3d83e2e0-1b9c-4b0d-8c81-4837327c09d8",
   "metadata": {},
   "outputs": [],
   "source": [
    "replace_map = {\n",
    "    'O': '0.',\n",
    "    'B': '1.',\n",
    "    'A': '2.',\n",
    "    'F': '3.',\n",
    "    'G': '4.',\n",
    "    'K': '5.',\n",
    "    'M': '6.'\n",
    "}"
   ]
  },
  {
   "cell_type": "code",
   "execution_count": 958,
   "id": "faab775d-0a5e-4081-add8-b47848c141a4",
   "metadata": {},
   "outputs": [
    {
     "name": "stderr",
     "output_type": "stream",
     "text": [
      "/tmp/ipykernel_4561/2936214468.py:1: SettingWithCopyWarning: \n",
      "A value is trying to be set on a copy of a slice from a DataFrame.\n",
      "Try using .loc[row_indexer,col_indexer] = value instead\n",
      "\n",
      "See the caveats in the documentation: https://pandas.pydata.org/pandas-docs/stable/user_guide/indexing.html#returning-a-view-versus-a-copy\n",
      "  skiff_mk['skiff_mk'] = skiff_mk['skiff_mk'].replace(replace_map, regex=True)\n"
     ]
    }
   ],
   "source": [
    "skiff_mk['skiff_mk'] = skiff_mk['skiff_mk'].replace(replace_map, regex=True)\n"
   ]
  },
  {
   "cell_type": "code",
   "execution_count": 959,
   "id": "3de3496f-ae4a-43d2-89a6-f75d42b8c841",
   "metadata": {},
   "outputs": [
    {
     "name": "stdout",
     "output_type": "stream",
     "text": [
      "0.97\n"
     ]
    }
   ],
   "source": [
    "import re\n",
    "\n",
    "def extract_first_float(s):\n",
    "    match = re.search(r\"(\\d{1,2}(?:\\.\\d{1,2})?)\", s)\n",
    "    return float(match.group()) if match else None\n",
    "\n",
    "s = '0.97Ib + 0.9'\n",
    "number = extract_first_float(s)\n",
    "print(number)\n"
   ]
  },
  {
   "cell_type": "code",
   "execution_count": 960,
   "id": "e4967930-9779-4153-9837-638d8a9e60bb",
   "metadata": {},
   "outputs": [
    {
     "data": {
      "text/html": [
       "<div>\n",
       "<style scoped>\n",
       "    .dataframe tbody tr th:only-of-type {\n",
       "        vertical-align: middle;\n",
       "    }\n",
       "\n",
       "    .dataframe tbody tr th {\n",
       "        vertical-align: top;\n",
       "    }\n",
       "\n",
       "    .dataframe thead th {\n",
       "        text-align: right;\n",
       "    }\n",
       "</style>\n",
       "<table border=\"1\" class=\"dataframe\">\n",
       "  <thead>\n",
       "    <tr style=\"text-align: right;\">\n",
       "      <th></th>\n",
       "      <th>skiff_mk</th>\n",
       "      <th>skiff_type</th>\n",
       "    </tr>\n",
       "  </thead>\n",
       "  <tbody>\n",
       "    <tr>\n",
       "      <th>62</th>\n",
       "      <td>1.5</td>\n",
       "      <td>B5V</td>\n",
       "    </tr>\n",
       "    <tr>\n",
       "      <th>65</th>\n",
       "      <td>0.95/</td>\n",
       "      <td>O9.5/B0</td>\n",
       "    </tr>\n",
       "    <tr>\n",
       "      <th>66</th>\n",
       "      <td>1.3</td>\n",
       "      <td>B3IV</td>\n",
       "    </tr>\n",
       "    <tr>\n",
       "      <th>85</th>\n",
       "      <td>1.7</td>\n",
       "      <td>B7V</td>\n",
       "    </tr>\n",
       "    <tr>\n",
       "      <th>88</th>\n",
       "      <td>0.9/95</td>\n",
       "      <td>O9/9.5</td>\n",
       "    </tr>\n",
       "    <tr>\n",
       "      <th>...</th>\n",
       "      <td>...</td>\n",
       "      <td>...</td>\n",
       "    </tr>\n",
       "    <tr>\n",
       "      <th>1089877</th>\n",
       "      <td>3.3</td>\n",
       "      <td>hF3</td>\n",
       "    </tr>\n",
       "    <tr>\n",
       "      <th>1089889</th>\n",
       "      <td>2.3</td>\n",
       "      <td>A3 wl</td>\n",
       "    </tr>\n",
       "    <tr>\n",
       "      <th>1089898</th>\n",
       "      <td>1.8</td>\n",
       "      <td>B8Ib</td>\n",
       "    </tr>\n",
       "    <tr>\n",
       "      <th>1089908</th>\n",
       "      <td>1.1/2</td>\n",
       "      <td>B1/2</td>\n",
       "    </tr>\n",
       "    <tr>\n",
       "      <th>1089911</th>\n",
       "      <td>3.0</td>\n",
       "      <td>F0</td>\n",
       "    </tr>\n",
       "  </tbody>\n",
       "</table>\n",
       "<p>89046 rows × 2 columns</p>\n",
       "</div>"
      ],
      "text/plain": [
       "        skiff_mk skiff_type\n",
       "62           1.5        B5V\n",
       "65         0.95/    O9.5/B0\n",
       "66           1.3       B3IV\n",
       "85           1.7        B7V\n",
       "88        0.9/95     O9/9.5\n",
       "...          ...        ...\n",
       "1089877      3.3        hF3\n",
       "1089889      2.3      A3 wl\n",
       "1089898      1.8       B8Ib\n",
       "1089908    1.1/2       B1/2\n",
       "1089911      3.0         F0\n",
       "\n",
       "[89046 rows x 2 columns]"
      ]
     },
     "execution_count": 960,
     "metadata": {},
     "output_type": "execute_result"
    }
   ],
   "source": [
    "skiff_mk[['skiff_mk','skiff_type']]"
   ]
  },
  {
   "cell_type": "code",
   "execution_count": 961,
   "id": "abcb6d56-a6c3-4504-b704-7c25c75f4f2a",
   "metadata": {},
   "outputs": [],
   "source": [
    "n1 = skiff_mk['skiff_mk'].str.split('/').str[0]"
   ]
  },
  {
   "cell_type": "code",
   "execution_count": 962,
   "id": "bc0d715c-411f-4c42-8d86-486966a4de28",
   "metadata": {},
   "outputs": [],
   "source": [
    "n1 = n1.apply(extract_first_float)"
   ]
  },
  {
   "cell_type": "code",
   "execution_count": 963,
   "id": "930283c6-9d20-4736-9c19-57508faa985c",
   "metadata": {},
   "outputs": [],
   "source": [
    "n2 = skiff_mk['skiff_mk'].str.split('/').str[1].replace(np.nan,0).replace('',0).astype(str)"
   ]
  },
  {
   "cell_type": "code",
   "execution_count": 964,
   "id": "832118ab-30cd-4e02-ab08-2f13f0402ca0",
   "metadata": {},
   "outputs": [],
   "source": [
    "n2  = '0.'+n2"
   ]
  },
  {
   "cell_type": "code",
   "execution_count": 965,
   "id": "c0eac1ba-61ad-48e3-b49e-2428db39283c",
   "metadata": {},
   "outputs": [],
   "source": [
    "n2 = n2.apply(extract_first_float)"
   ]
  },
  {
   "cell_type": "code",
   "execution_count": 966,
   "id": "b6d731ca-78fe-4356-969e-7686c01ef328",
   "metadata": {},
   "outputs": [
    {
     "name": "stderr",
     "output_type": "stream",
     "text": [
      "/tmp/ipykernel_4561/1147559748.py:1: SettingWithCopyWarning: \n",
      "A value is trying to be set on a copy of a slice from a DataFrame.\n",
      "Try using .loc[row_indexer,col_indexer] = value instead\n",
      "\n",
      "See the caveats in the documentation: https://pandas.pydata.org/pandas-docs/stable/user_guide/indexing.html#returning-a-view-versus-a-copy\n",
      "  skiff_mk['label'] = n1+n2 /2\n"
     ]
    }
   ],
   "source": [
    "skiff_mk['label'] = n1+n2 /2"
   ]
  },
  {
   "cell_type": "code",
   "execution_count": 967,
   "id": "88e94a61-3d18-4c8e-a256-c7e80c0e59fc",
   "metadata": {},
   "outputs": [],
   "source": [
    "import numpy as np\n",
    "\n",
    "# Define los posibles valores\n",
    "values = [0.0, 0.1, 0.2, 0.3, 0.4, 0.5, 0.6, 0.7, 0.8, 0.9]\n",
    "\n",
    "# Selecciona las filas donde la longitud de 'skiff_type' es 1\n",
    "mask = skiff_mk['skiff_type'].str.len() == 1\n",
    "\n",
    "# Suma el valor en 'skiff_mk' con un valor aleatorio de 'values' y asigna el resultado a 'label'\n",
    "skiff_mk.loc[mask, 'label'] = skiff_mk.loc[mask, 'label'] + np.random.choice(values, size=sum(mask))\n",
    "\n"
   ]
  },
  {
   "cell_type": "code",
   "execution_count": 968,
   "id": "04687611",
   "metadata": {},
   "outputs": [
    {
     "name": "stderr",
     "output_type": "stream",
     "text": [
      "/tmp/ipykernel_4561/1796147024.py:1: SettingWithCopyWarning: \n",
      "A value is trying to be set on a copy of a slice from a DataFrame.\n",
      "Try using .loc[row_indexer,col_indexer] = value instead\n",
      "\n",
      "See the caveats in the documentation: https://pandas.pydata.org/pandas-docs/stable/user_guide/indexing.html#returning-a-view-versus-a-copy\n",
      "  skiff_mk[\"year\"] = skiff_mk.apply(lambda row: busqueda(r\"\\d{4}\",row[\"Bibcode\"]),axis=1)\n"
     ]
    }
   ],
   "source": [
    "skiff_mk[\"year\"] = skiff_mk.apply(lambda row: busqueda(r\"\\d{4}\",row[\"Bibcode\"]),axis=1)  "
   ]
  },
  {
   "cell_type": "code",
   "execution_count": 969,
   "id": "db34131c",
   "metadata": {},
   "outputs": [
    {
     "name": "stderr",
     "output_type": "stream",
     "text": [
      "/tmp/ipykernel_4561/1077858668.py:1: SettingWithCopyWarning: \n",
      "A value is trying to be set on a copy of a slice from a DataFrame.\n",
      "Try using .loc[row_indexer,col_indexer] = value instead\n",
      "\n",
      "See the caveats in the documentation: https://pandas.pydata.org/pandas-docs/stable/user_guide/indexing.html#returning-a-view-versus-a-copy\n",
      "  skiff_mk[\"arxiv\"] = skiff_mk.apply(lambda row: busqueda(r\"arXiv\",row[\"Bibcode\"]),axis=1)\n"
     ]
    }
   ],
   "source": [
    "skiff_mk[\"arxiv\"] = skiff_mk.apply(lambda row: busqueda(r\"arXiv\",row[\"Bibcode\"]),axis=1)  "
   ]
  },
  {
   "cell_type": "code",
   "execution_count": 970,
   "id": "b125154b",
   "metadata": {},
   "outputs": [],
   "source": [
    "skiff_mk.loc[df_1[\"arxiv\"].notna(),\"year\"] = \"20\" + skiff_mk.loc[df_1[\"arxiv\"].notna()][\"year\"].astype(\"str\").str[:2]"
   ]
  },
  {
   "cell_type": "code",
   "execution_count": 971,
   "id": "28c1c39f",
   "metadata": {},
   "outputs": [
    {
     "name": "stderr",
     "output_type": "stream",
     "text": [
      "/tmp/ipykernel_4561/745733071.py:1: SettingWithCopyWarning: \n",
      "A value is trying to be set on a copy of a slice from a DataFrame.\n",
      "Try using .loc[row_indexer,col_indexer] = value instead\n",
      "\n",
      "See the caveats in the documentation: https://pandas.pydata.org/pandas-docs/stable/user_guide/indexing.html#returning-a-view-versus-a-copy\n",
      "  skiff_mk[\"year\"] = pd.to_numeric(skiff_mk[\"year\"],errors=\"coerce\")\n"
     ]
    }
   ],
   "source": [
    "skiff_mk[\"year\"] = pd.to_numeric(skiff_mk[\"year\"],errors=\"coerce\")"
   ]
  },
  {
   "cell_type": "code",
   "execution_count": 972,
   "id": "1f2151d6",
   "metadata": {},
   "outputs": [],
   "source": [
    "# si realmente es el mismo objeto\n",
    "#keywoard de los papers S/N y/o R\n",
    "# Pasar a numeros los tipos espectrales redondear!\n",
    "# Escribir en la tesis como determinar tipos espectrales\n",
    "stars_unicas = skiff_mk.loc[skiff_mk[\"GroupID_2arcsec_skiff\"].isna()]\n",
    "star_no_unicas = skiff_mk.loc[skiff_mk[\"GroupID_2arcsec_skiff\"].notna()]\n",
    "#df_1 = pd.concat([stars_unicas,star_no_unicas])"
   ]
  },
  {
   "cell_type": "code",
   "execution_count": 973,
   "id": "7c724243",
   "metadata": {},
   "outputs": [
    {
     "name": "stderr",
     "output_type": "stream",
     "text": [
      "/tmp/ipykernel_4561/396490030.py:5: SettingWithCopyWarning: \n",
      "A value is trying to be set on a copy of a slice from a DataFrame.\n",
      "Try using .loc[row_indexer,col_indexer] = value instead\n",
      "\n",
      "See the caveats in the documentation: https://pandas.pydata.org/pandas-docs/stable/user_guide/indexing.html#returning-a-view-versus-a-copy\n",
      "  star_no_unicas[\"std_sp\"] = std_by_group\n"
     ]
    }
   ],
   "source": [
    "# Calcula la desviación estándar dentro de cada grupo\n",
    "std_by_group = star_no_unicas.groupby(\"GroupID_2arcsec_skiff\")[\"label\"].transform(\"std\")\n",
    "\n",
    "# Agrega la columna al DataFrame\n",
    "star_no_unicas[\"std_sp\"] = std_by_group"
   ]
  },
  {
   "cell_type": "code",
   "execution_count": 974,
   "id": "870cba1d",
   "metadata": {},
   "outputs": [],
   "source": [
    "star_no_unicas = star_no_unicas.loc[(star_no_unicas[\"std_sp\"]<0.5)|(star_no_unicas[\"std_sp\"].isna())]"
   ]
  },
  {
   "cell_type": "code",
   "execution_count": 975,
   "id": "dfdf03ef",
   "metadata": {},
   "outputs": [],
   "source": [
    "mean_by_group = star_no_unicas.groupby(\"GroupID_2arcsec_skiff\")[\"label\"].transform(\"mean\")\n",
    "\n",
    "# Agrega la columna al DataFrame\n",
    "star_no_unicas[\"label\"] = mean_by_group"
   ]
  },
  {
   "cell_type": "code",
   "execution_count": 976,
   "id": "01a22996",
   "metadata": {},
   "outputs": [],
   "source": [
    "star_no_unicas = star_no_unicas.sort_values(by=\"year\",ascending=False).drop_duplicates(subset=\"GroupID_2arcsec_skiff\",keep='first')"
   ]
  },
  {
   "cell_type": "code",
   "execution_count": 1025,
   "id": "8ecb0e92",
   "metadata": {},
   "outputs": [],
   "source": [
    "skiff_mk = pd.concat([star_no_unicas,stars_unicas])"
   ]
  },
  {
   "cell_type": "code",
   "execution_count": 1004,
   "id": "fbb6c476-ac6a-4316-8fdc-e1cc2b4cf950",
   "metadata": {},
   "outputs": [],
   "source": [
    "df_1 = df_1.loc[skiff_mk.index]"
   ]
  },
  {
   "cell_type": "code",
   "execution_count": 1006,
   "id": "317676a7-ace9-4b86-ac3a-580fe7be1329",
   "metadata": {},
   "outputs": [],
   "source": [
    "df_1.drop(columns=['Bibcode', 'GroupID_2arcsec_skiff'], inplace=True)\n"
   ]
  },
  {
   "cell_type": "code",
   "execution_count": 1032,
   "id": "5edc8218-f056-4cf3-bef1-ff6bcebf8bde",
   "metadata": {},
   "outputs": [],
   "source": [
    "# Convierte la columna 'source_id_1' a int64 en ambas DataFrames\n",
    "df_1['source_id_1'] = df_1['source_id_1'].astype(int)\n",
    "skiff_mk['source_id_1'] = skiff_mk['source_id_1'].astype(int)\n",
    "\n",
    "# Ahora realiza el merge\n",
    "result = skiff_mk.merge(df_1, on=['source_id_1','skiff_type'], how='left')\n"
   ]
  },
  {
   "cell_type": "code",
   "execution_count": 1041,
   "id": "a3ee5166-f107-41f9-8b4c-393cf02ad504",
   "metadata": {},
   "outputs": [],
   "source": [
    "skiff_mk = pd.concat([skiff_mk[['skiff_mk', 'label', 'year', 'arxiv', 'std_sp']],df_1.loc[skiff_mk.index]],axis=1)"
   ]
  },
  {
   "cell_type": "code",
   "execution_count": 1043,
   "id": "d2f27a01-955a-45e7-9a4e-1648ba6931b0",
   "metadata": {},
   "outputs": [
    {
     "data": {
      "text/html": [
       "<div>\n",
       "<style scoped>\n",
       "    .dataframe tbody tr th:only-of-type {\n",
       "        vertical-align: middle;\n",
       "    }\n",
       "\n",
       "    .dataframe tbody tr th {\n",
       "        vertical-align: top;\n",
       "    }\n",
       "\n",
       "    .dataframe thead th {\n",
       "        text-align: right;\n",
       "    }\n",
       "</style>\n",
       "<table border=\"1\" class=\"dataframe\">\n",
       "  <thead>\n",
       "    <tr style=\"text-align: right;\">\n",
       "      <th></th>\n",
       "      <th>skiff_mk</th>\n",
       "      <th>label</th>\n",
       "      <th>year</th>\n",
       "      <th>arxiv</th>\n",
       "      <th>std_sp</th>\n",
       "      <th>source_id_1</th>\n",
       "      <th>ra_1_1</th>\n",
       "      <th>dec_1_1</th>\n",
       "      <th>ra_error</th>\n",
       "      <th>dec_error</th>\n",
       "      <th>...</th>\n",
       "      <th>h_m-phot_bp_mean_mag</th>\n",
       "      <th>h_m-phot_rp_mean_mag</th>\n",
       "      <th>ks_m-phot_g_mean_mag</th>\n",
       "      <th>ks_m-phot_bp_mean_mag</th>\n",
       "      <th>ks_m-phot_rp_mean_mag</th>\n",
       "      <th>phot_g_mean_mag-phot_bp_mean_mag</th>\n",
       "      <th>phot_g_mean_mag-phot_rp_mean_mag</th>\n",
       "      <th>phot_bp_mean_mag-phot_rp_mean_mag</th>\n",
       "      <th>vsx_split</th>\n",
       "      <th>multiplicity_probability</th>\n",
       "    </tr>\n",
       "  </thead>\n",
       "  <tbody>\n",
       "    <tr>\n",
       "      <th>10288</th>\n",
       "      <td>1.5/7</td>\n",
       "      <td>1.631250</td>\n",
       "      <td>2022</td>\n",
       "      <td>NaN</td>\n",
       "      <td>0.265838</td>\n",
       "      <td>392687455423041024</td>\n",
       "      <td>4.287711</td>\n",
       "      <td>47.947390</td>\n",
       "      <td>0.042085</td>\n",
       "      <td>0.025033</td>\n",
       "      <td>...</td>\n",
       "      <td>0.189516</td>\n",
       "      <td>0.110286</td>\n",
       "      <td>0.172776</td>\n",
       "      <td>0.217516</td>\n",
       "      <td>0.138286</td>\n",
       "      <td>0.044740</td>\n",
       "      <td>-0.034490</td>\n",
       "      <td>-0.079230</td>\n",
       "      <td>no_used</td>\n",
       "      <td>0.46500</td>\n",
       "    </tr>\n",
       "    <tr>\n",
       "      <th>25914</th>\n",
       "      <td>0.9</td>\n",
       "      <td>0.910714</td>\n",
       "      <td>2022</td>\n",
       "      <td>NaN</td>\n",
       "      <td>0.076406</td>\n",
       "      <td>251961924258399616</td>\n",
       "      <td>58.910079</td>\n",
       "      <td>52.641319</td>\n",
       "      <td>0.043239</td>\n",
       "      <td>0.035364</td>\n",
       "      <td>...</td>\n",
       "      <td>-0.986730</td>\n",
       "      <td>-0.429297</td>\n",
       "      <td>-0.891212</td>\n",
       "      <td>-1.009730</td>\n",
       "      <td>-0.452297</td>\n",
       "      <td>-0.118518</td>\n",
       "      <td>0.438916</td>\n",
       "      <td>0.557434</td>\n",
       "      <td>no_used</td>\n",
       "      <td>0.57250</td>\n",
       "    </tr>\n",
       "    <tr>\n",
       "      <th>53525</th>\n",
       "      <td>1.2</td>\n",
       "      <td>1.275000</td>\n",
       "      <td>2022</td>\n",
       "      <td>NaN</td>\n",
       "      <td>0.050000</td>\n",
       "      <td>120908968675581824</td>\n",
       "      <td>52.194379</td>\n",
       "      <td>30.375297</td>\n",
       "      <td>0.024507</td>\n",
       "      <td>0.017794</td>\n",
       "      <td>...</td>\n",
       "      <td>-0.953664</td>\n",
       "      <td>-0.404502</td>\n",
       "      <td>-0.825586</td>\n",
       "      <td>-1.015664</td>\n",
       "      <td>-0.466502</td>\n",
       "      <td>-0.190079</td>\n",
       "      <td>0.359084</td>\n",
       "      <td>0.549162</td>\n",
       "      <td>no_used</td>\n",
       "      <td>0.51750</td>\n",
       "    </tr>\n",
       "    <tr>\n",
       "      <th>233713</th>\n",
       "      <td>1.9</td>\n",
       "      <td>1.925000</td>\n",
       "      <td>2022</td>\n",
       "      <td>NaN</td>\n",
       "      <td>0.035355</td>\n",
       "      <td>6237475867482617856</td>\n",
       "      <td>238.810822</td>\n",
       "      <td>-22.276609</td>\n",
       "      <td>0.024008</td>\n",
       "      <td>0.015315</td>\n",
       "      <td>...</td>\n",
       "      <td>-0.584461</td>\n",
       "      <td>-0.294178</td>\n",
       "      <td>-0.547940</td>\n",
       "      <td>-0.639461</td>\n",
       "      <td>-0.349178</td>\n",
       "      <td>-0.091521</td>\n",
       "      <td>0.198762</td>\n",
       "      <td>0.290283</td>\n",
       "      <td>no_used</td>\n",
       "      <td>0.46125</td>\n",
       "    </tr>\n",
       "    <tr>\n",
       "      <th>23136</th>\n",
       "      <td>1.5/7</td>\n",
       "      <td>1.675000</td>\n",
       "      <td>2022</td>\n",
       "      <td>NaN</td>\n",
       "      <td>0.098742</td>\n",
       "      <td>2098654306550178560</td>\n",
       "      <td>281.554203</td>\n",
       "      <td>41.441810</td>\n",
       "      <td>0.050508</td>\n",
       "      <td>0.063693</td>\n",
       "      <td>...</td>\n",
       "      <td>0.428589</td>\n",
       "      <td>0.255393</td>\n",
       "      <td>0.374833</td>\n",
       "      <td>0.446589</td>\n",
       "      <td>0.273392</td>\n",
       "      <td>0.071756</td>\n",
       "      <td>-0.101441</td>\n",
       "      <td>-0.173196</td>\n",
       "      <td>no_used</td>\n",
       "      <td>0.48250</td>\n",
       "    </tr>\n",
       "    <tr>\n",
       "      <th>...</th>\n",
       "      <td>...</td>\n",
       "      <td>...</td>\n",
       "      <td>...</td>\n",
       "      <td>...</td>\n",
       "      <td>...</td>\n",
       "      <td>...</td>\n",
       "      <td>...</td>\n",
       "      <td>...</td>\n",
       "      <td>...</td>\n",
       "      <td>...</td>\n",
       "      <td>...</td>\n",
       "      <td>...</td>\n",
       "      <td>...</td>\n",
       "      <td>...</td>\n",
       "      <td>...</td>\n",
       "      <td>...</td>\n",
       "      <td>...</td>\n",
       "      <td>...</td>\n",
       "      <td>...</td>\n",
       "      <td>...</td>\n",
       "      <td>...</td>\n",
       "    </tr>\n",
       "    <tr>\n",
       "      <th>1089808</th>\n",
       "      <td>1.3/5</td>\n",
       "      <td>1.550000</td>\n",
       "      <td>1978</td>\n",
       "      <td>NaN</td>\n",
       "      <td>NaN</td>\n",
       "      <td>5533554569025442432</td>\n",
       "      <td>122.063073</td>\n",
       "      <td>-42.029828</td>\n",
       "      <td>0.023567</td>\n",
       "      <td>0.027171</td>\n",
       "      <td>...</td>\n",
       "      <td>0.655951</td>\n",
       "      <td>0.381365</td>\n",
       "      <td>0.623824</td>\n",
       "      <td>0.717122</td>\n",
       "      <td>0.442536</td>\n",
       "      <td>0.093298</td>\n",
       "      <td>-0.181288</td>\n",
       "      <td>-0.274586</td>\n",
       "      <td>train</td>\n",
       "      <td>0.53875</td>\n",
       "    </tr>\n",
       "    <tr>\n",
       "      <th>1089889</th>\n",
       "      <td>2.3</td>\n",
       "      <td>2.300000</td>\n",
       "      <td>1972</td>\n",
       "      <td>NaN</td>\n",
       "      <td>NaN</td>\n",
       "      <td>6602273514672096000</td>\n",
       "      <td>337.456100</td>\n",
       "      <td>-30.172504</td>\n",
       "      <td>0.017314</td>\n",
       "      <td>0.015067</td>\n",
       "      <td>...</td>\n",
       "      <td>-1.559619</td>\n",
       "      <td>-0.845363</td>\n",
       "      <td>-1.451166</td>\n",
       "      <td>-1.681182</td>\n",
       "      <td>-0.966926</td>\n",
       "      <td>-0.230016</td>\n",
       "      <td>0.484240</td>\n",
       "      <td>0.714256</td>\n",
       "      <td>train</td>\n",
       "      <td>0.21250</td>\n",
       "    </tr>\n",
       "    <tr>\n",
       "      <th>1089898</th>\n",
       "      <td>1.8</td>\n",
       "      <td>1.800000</td>\n",
       "      <td>1976</td>\n",
       "      <td>NaN</td>\n",
       "      <td>NaN</td>\n",
       "      <td>4658502501990777984</td>\n",
       "      <td>81.126041</td>\n",
       "      <td>-68.672987</td>\n",
       "      <td>0.013121</td>\n",
       "      <td>0.013975</td>\n",
       "      <td>...</td>\n",
       "      <td>-0.452545</td>\n",
       "      <td>-0.278547</td>\n",
       "      <td>-0.612305</td>\n",
       "      <td>-0.652143</td>\n",
       "      <td>-0.478145</td>\n",
       "      <td>-0.039838</td>\n",
       "      <td>0.134160</td>\n",
       "      <td>0.173997</td>\n",
       "      <td>train</td>\n",
       "      <td>0.39500</td>\n",
       "    </tr>\n",
       "    <tr>\n",
       "      <th>1089908</th>\n",
       "      <td>1.1/2</td>\n",
       "      <td>1.200000</td>\n",
       "      <td>1975</td>\n",
       "      <td>NaN</td>\n",
       "      <td>NaN</td>\n",
       "      <td>4660126759876969600</td>\n",
       "      <td>83.300032</td>\n",
       "      <td>-67.477759</td>\n",
       "      <td>0.012663</td>\n",
       "      <td>0.015406</td>\n",
       "      <td>...</td>\n",
       "      <td>0.025758</td>\n",
       "      <td>-0.023003</td>\n",
       "      <td>-0.098226</td>\n",
       "      <td>-0.046444</td>\n",
       "      <td>-0.095206</td>\n",
       "      <td>0.051781</td>\n",
       "      <td>0.003020</td>\n",
       "      <td>-0.048762</td>\n",
       "      <td>train</td>\n",
       "      <td>0.50625</td>\n",
       "    </tr>\n",
       "    <tr>\n",
       "      <th>1089911</th>\n",
       "      <td>3.0</td>\n",
       "      <td>3.000000</td>\n",
       "      <td>2004</td>\n",
       "      <td>NaN</td>\n",
       "      <td>NaN</td>\n",
       "      <td>4686361725751060480</td>\n",
       "      <td>17.589718</td>\n",
       "      <td>-73.865652</td>\n",
       "      <td>0.014615</td>\n",
       "      <td>0.014403</td>\n",
       "      <td>...</td>\n",
       "      <td>-1.850496</td>\n",
       "      <td>-0.987754</td>\n",
       "      <td>-1.540869</td>\n",
       "      <td>-1.894513</td>\n",
       "      <td>-1.031770</td>\n",
       "      <td>-0.353644</td>\n",
       "      <td>0.509099</td>\n",
       "      <td>0.862743</td>\n",
       "      <td>test</td>\n",
       "      <td>0.09125</td>\n",
       "    </tr>\n",
       "  </tbody>\n",
       "</table>\n",
       "<p>52121 rows × 234 columns</p>\n",
       "</div>"
      ],
      "text/plain": [
       "        skiff_mk     label  year arxiv    std_sp          source_id_1  \\\n",
       "10288      1.5/7  1.631250  2022   NaN  0.265838   392687455423041024   \n",
       "25914        0.9  0.910714  2022   NaN  0.076406   251961924258399616   \n",
       "53525        1.2  1.275000  2022   NaN  0.050000   120908968675581824   \n",
       "233713       1.9  1.925000  2022   NaN  0.035355  6237475867482617856   \n",
       "23136      1.5/7  1.675000  2022   NaN  0.098742  2098654306550178560   \n",
       "...          ...       ...   ...   ...       ...                  ...   \n",
       "1089808    1.3/5  1.550000  1978   NaN       NaN  5533554569025442432   \n",
       "1089889      2.3  2.300000  1972   NaN       NaN  6602273514672096000   \n",
       "1089898      1.8  1.800000  1976   NaN       NaN  4658502501990777984   \n",
       "1089908    1.1/2  1.200000  1975   NaN       NaN  4660126759876969600   \n",
       "1089911      3.0  3.000000  2004   NaN       NaN  4686361725751060480   \n",
       "\n",
       "             ra_1_1    dec_1_1  ra_error  dec_error  ...  \\\n",
       "10288      4.287711  47.947390  0.042085   0.025033  ...   \n",
       "25914     58.910079  52.641319  0.043239   0.035364  ...   \n",
       "53525     52.194379  30.375297  0.024507   0.017794  ...   \n",
       "233713   238.810822 -22.276609  0.024008   0.015315  ...   \n",
       "23136    281.554203  41.441810  0.050508   0.063693  ...   \n",
       "...             ...        ...       ...        ...  ...   \n",
       "1089808  122.063073 -42.029828  0.023567   0.027171  ...   \n",
       "1089889  337.456100 -30.172504  0.017314   0.015067  ...   \n",
       "1089898   81.126041 -68.672987  0.013121   0.013975  ...   \n",
       "1089908   83.300032 -67.477759  0.012663   0.015406  ...   \n",
       "1089911   17.589718 -73.865652  0.014615   0.014403  ...   \n",
       "\n",
       "         h_m-phot_bp_mean_mag  h_m-phot_rp_mean_mag  ks_m-phot_g_mean_mag  \\\n",
       "10288                0.189516              0.110286              0.172776   \n",
       "25914               -0.986730             -0.429297             -0.891212   \n",
       "53525               -0.953664             -0.404502             -0.825586   \n",
       "233713              -0.584461             -0.294178             -0.547940   \n",
       "23136                0.428589              0.255393              0.374833   \n",
       "...                       ...                   ...                   ...   \n",
       "1089808              0.655951              0.381365              0.623824   \n",
       "1089889             -1.559619             -0.845363             -1.451166   \n",
       "1089898             -0.452545             -0.278547             -0.612305   \n",
       "1089908              0.025758             -0.023003             -0.098226   \n",
       "1089911             -1.850496             -0.987754             -1.540869   \n",
       "\n",
       "         ks_m-phot_bp_mean_mag  ks_m-phot_rp_mean_mag  \\\n",
       "10288                 0.217516               0.138286   \n",
       "25914                -1.009730              -0.452297   \n",
       "53525                -1.015664              -0.466502   \n",
       "233713               -0.639461              -0.349178   \n",
       "23136                 0.446589               0.273392   \n",
       "...                        ...                    ...   \n",
       "1089808               0.717122               0.442536   \n",
       "1089889              -1.681182              -0.966926   \n",
       "1089898              -0.652143              -0.478145   \n",
       "1089908              -0.046444              -0.095206   \n",
       "1089911              -1.894513              -1.031770   \n",
       "\n",
       "         phot_g_mean_mag-phot_bp_mean_mag  phot_g_mean_mag-phot_rp_mean_mag  \\\n",
       "10288                            0.044740                         -0.034490   \n",
       "25914                           -0.118518                          0.438916   \n",
       "53525                           -0.190079                          0.359084   \n",
       "233713                          -0.091521                          0.198762   \n",
       "23136                            0.071756                         -0.101441   \n",
       "...                                   ...                               ...   \n",
       "1089808                          0.093298                         -0.181288   \n",
       "1089889                         -0.230016                          0.484240   \n",
       "1089898                         -0.039838                          0.134160   \n",
       "1089908                          0.051781                          0.003020   \n",
       "1089911                         -0.353644                          0.509099   \n",
       "\n",
       "         phot_bp_mean_mag-phot_rp_mean_mag  vsx_split  \\\n",
       "10288                            -0.079230    no_used   \n",
       "25914                             0.557434    no_used   \n",
       "53525                             0.549162    no_used   \n",
       "233713                            0.290283    no_used   \n",
       "23136                            -0.173196    no_used   \n",
       "...                                    ...        ...   \n",
       "1089808                          -0.274586      train   \n",
       "1089889                           0.714256      train   \n",
       "1089898                           0.173997      train   \n",
       "1089908                          -0.048762      train   \n",
       "1089911                           0.862743       test   \n",
       "\n",
       "         multiplicity_probability  \n",
       "10288                     0.46500  \n",
       "25914                     0.57250  \n",
       "53525                     0.51750  \n",
       "233713                    0.46125  \n",
       "23136                     0.48250  \n",
       "...                           ...  \n",
       "1089808                   0.53875  \n",
       "1089889                   0.21250  \n",
       "1089898                   0.39500  \n",
       "1089908                   0.50625  \n",
       "1089911                   0.09125  \n",
       "\n",
       "[52121 rows x 234 columns]"
      ]
     },
     "execution_count": 1043,
     "metadata": {},
     "output_type": "execute_result"
    }
   ],
   "source": [
    "skiff_mk"
   ]
  },
  {
   "cell_type": "code",
   "execution_count": 1042,
   "id": "bb8b9fa2",
   "metadata": {},
   "outputs": [],
   "source": [
    "skiff_mk.to_csv(\"/home/marcelo/nico/MasivasData/skiff_2arcsec_internal_match_preprocesing.csv\",index=False)"
   ]
  },
  {
   "cell_type": "markdown",
   "id": "df97b248",
   "metadata": {},
   "source": [
    "### Condiciones del paper de Zari"
   ]
  },
  {
   "cell_type": "code",
   "execution_count": 57,
   "id": "1855c0ce",
   "metadata": {},
   "outputs": [],
   "source": [
    "def optimize_hyperparameters(X, y):\n",
    "    # Initialize a BalancedRandomForestClassifier\n",
    "    clf = BalancedRandomForestClassifier()\n",
    "\n",
    "    # Define hyperparameters grid\n",
    "    param_grid = {\n",
    "        'n_estimators': [200,500,800],\n",
    "        'max_features': ['sqrt', 'log2'],\n",
    "        'max_depth': [10, 20, 30, None],\n",
    "        'sampling_strategy': ['majority', 'not minority', 'not majority', 'all', 'auto']\n",
    "    }\n",
    "\n",
    "    # Set up k-fold cross-validation\n",
    "    kfold = StratifiedKFold(n_splits=5, shuffle=True, random_state=42)\n",
    "\n",
    "    # Macro-recall scorer\n",
    "    macro_recall = make_scorer(recall_score, average='macro')\n",
    "\n",
    "    # Grid search with cross-validation\n",
    "    grid_search = GridSearchCV(clf, param_grid, cv=kfold, scoring=macro_recall,n_jobs=-1, verbose=1)\n",
    "    grid_search.fit(X, y)\n",
    "\n",
    "    # Return best parameters and best score\n",
    "    return grid_search\n",
    "\n",
    "def preprocess_features(data,columns,bad_values):\n",
    "    \"\"\"\n",
    "    Realiza el preprocesamiento de las características especificadas.\n",
    "\n",
    "    Args:\n",
    "    - data (pd.DataFrame): DataFrame original con los datos.\n",
    "\n",
    "    Returns:\n",
    "    - data (pd.DataFrame): DataFrame procesado con características adicionales y filas inválidas eliminadas.\n",
    "    \"\"\"\n",
    "    \n",
    "    # Busca valores 999 o -999 en las columnas especificadas\n",
    "    invalid_values = data[columns].isin([bad_values, -bad_values]).sum()\n",
    "\n",
    "    # Filtra y muestra solo las columnas que tienen estos valores inválidos\n",
    "    columns_with_invalids = invalid_values[invalid_values > 0]\n",
    "\n",
    "    if columns_with_invalids.empty:\n",
    "        print(f\" Todas las columnas tienen datos válidos, sin valores {bad_values} o -{bad_values}.\")\n",
    "    else:\n",
    "        print(f\"Las siguientes columnas tienen valores {bad_values} o -{bad_values}:\\n{columns_with_invalids}\")\n",
    "\n",
    "    # Filtra el DataFrame para excluir filas con valores 999 o -999 en las columnas especificadas\n",
    "    data = data[~data[columns].isin([bad_values, -bad_values]).any(axis=1)].reset_index(drop=True)\n",
    "\n",
    "    return data"
   ]
  },
  {
   "cell_type": "code",
   "execution_count": 58,
   "id": "ccf522f2-27c0-499f-99d6-e4ac370eab1e",
   "metadata": {},
   "outputs": [],
   "source": [
    "from pandarallel import pandarallel\n"
   ]
  },
  {
   "cell_type": "code",
   "execution_count": 59,
   "id": "fa7859dd-5fd8-48ca-85f7-3b1765217ddc",
   "metadata": {},
   "outputs": [
    {
     "name": "stdout",
     "output_type": "stream",
     "text": [
      "INFO: Pandarallel will run on 12 workers.\n",
      "INFO: Pandarallel will use Memory file system to transfer data between the main process and workers.\n"
     ]
    }
   ],
   "source": [
    "pandarallel.initialize(nb_workers=12,progress_bar=True)\n"
   ]
  },
  {
   "cell_type": "code",
   "execution_count": 60,
   "id": "2bc95782-026e-4e01-ae32-7364af080daf",
   "metadata": {},
   "outputs": [],
   "source": [
    "mag_features = ['j_m', 'h_m', 'ks_m','phot_g_mean_mag',\n",
    "                           'phot_bp_mean_mag', 'phot_rp_mean_mag']\n",
    "astrometric = [\n",
    "    \"parallax_error\",\n",
    "    \"parallax_over_error\",\n",
    "    \"pmra\",\n",
    "    \"pmdec\",\n",
    "    \"pmdec_error\",\n",
    "    \"pmra_error\",\n",
    "    \"astrometric_sigma5d_max\",\n",
    "    \"astrometric_excess_noise\",\n",
    "    \"visibility_periods_used\",\n",
    "    \"ruwe\",\n",
    "    \"astrometric_gof_al\",\n",
    "    \"ipd_gof_harmonic_amplitude\",\n",
    "    \"ipd_frac_odd_win\",\n",
    "    \"ipd_frac_multi_peak\",\n",
    "    \"matched_transits_removed\",\n",
    "    \"astrometric_params_solved\",\n",
    "    \"astrometric_excess_noise_sig\"\n",
    "]\n",
    "\n",
    "mag_errors = ['phot_rp_mean_flux_over_error','phot_bp_mean_flux_over_error','phot_g_mean_flux_over_error','Qlf']"
   ]
  },
  {
   "cell_type": "code",
   "execution_count": 61,
   "id": "6cd5560b-10ba-41a0-8721-2335801eda41",
   "metadata": {},
   "outputs": [
    {
     "name": "stdout",
     "output_type": "stream",
     "text": [
      " Todas las columnas tienen datos válidos, sin valores nan o -nan.\n"
     ]
    }
   ],
   "source": [
    "df = preprocess_features(df,mag_features+astrometric+mag_errors,np.nan)\n"
   ]
  },
  {
   "cell_type": "code",
   "execution_count": 62,
   "id": "7ffef151",
   "metadata": {},
   "outputs": [],
   "source": [
    "from itertools import combinations\n",
    "colors =[]\n",
    "for v in combinations(mag_features, 2):\n",
    "    df[f\"{v[0]}-{v[1]}\"] = df[v[0]] - df[v[1]]\n",
    "    colors.append(f\"{v[0]}-{v[1]}\")\n",
    "    "
   ]
  },
  {
   "cell_type": "code",
   "execution_count": 63,
   "id": "6d33a438-cdb6-4ebe-9f41-e63fd16b00ce",
   "metadata": {},
   "outputs": [],
   "source": [
    "class DataFrameScaler:\n",
    "    def __init__(self):\n",
    "        self.scalers = {}\n",
    "\n",
    "    def scale(self, df):\n",
    "        \"\"\"\n",
    "        Escala las columnas del DataFrame a media 0 y desviación estándar 1.\n",
    "        \"\"\"\n",
    "        scaled_df = df.copy()\n",
    "        for column in df.columns:\n",
    "            scaler = StandardScaler()\n",
    "            scaled_df[column] = scaler.fit_transform(df[column].values.reshape(-1, 1)).flatten()\n",
    "            self.scalers[column] = scaler\n",
    "        return scaled_df\n",
    "\n",
    "    def inverse_scale(self, df):\n",
    "        \"\"\"\n",
    "        Devuelve el DataFrame escalado a su estado original.\n",
    "        \"\"\"\n",
    "        original_df = df.copy()\n",
    "        for column in df.columns:\n",
    "            scaler = self.scalers.get(column)\n",
    "            if scaler:\n",
    "                original_df[column] = scaler.inverse_transform(df[column].values.reshape(-1, 1)).flatten()\n",
    "        return original_df\n"
   ]
  },
  {
   "cell_type": "code",
   "execution_count": 64,
   "id": "12934fe4-caac-4b06-a4e7-7034038f52ce",
   "metadata": {},
   "outputs": [],
   "source": [
    "from sklearn.preprocessing import StandardScaler\n",
    "\n",
    "scaler = DataFrameScaler()\n",
    "df[mag_features + colors + astrometric + mag_errors] = scaler.scale(df[mag_features + colors + astrometric + mag_errors])\n",
    "# original_df = scaler.inverse_scale(scaled_df)"
   ]
  },
  {
   "cell_type": "code",
   "execution_count": 67,
   "id": "ad743273-1f92-480e-ab8d-01318849b29b",
   "metadata": {},
   "outputs": [],
   "source": [
    "skiff.loc[skiff['numeric_sp_labels']<1.2,'label'] = 1\n",
    "skiff.loc[skiff['numeric_sp_labels']>=1.2,'label'] = 0"
   ]
  },
  {
   "cell_type": "code",
   "execution_count": 68,
   "id": "e2c01a50-5261-4940-9003-124aaa6259f7",
   "metadata": {},
   "outputs": [
    {
     "data": {
      "text/plain": [
       "917291        O2/6\n",
       "11576      B1.5(e)\n",
       "931193        O2/6\n",
       "11953           O7\n",
       "974974          O9\n",
       "            ...   \n",
       "1088096        B/A\n",
       "1088832         B0\n",
       "1088934         B1\n",
       "1089658          B\n",
       "1089908       B1/2\n",
       "Name: skiff_type, Length: 5916, dtype: object"
      ]
     },
     "execution_count": 68,
     "metadata": {},
     "output_type": "execute_result"
    }
   ],
   "source": [
    "skiff.loc[skiff['label']==1]['skiff_type']"
   ]
  },
  {
   "cell_type": "code",
   "execution_count": 219,
   "id": "9fbe40e0-a0db-48f4-95d5-66f3865d0678",
   "metadata": {},
   "outputs": [],
   "source": [
    "X = df[mag_features + colors + astrometric + mag_errors]\n",
    "y = df['label']"
   ]
  },
  {
   "cell_type": "code",
   "execution_count": 220,
   "id": "c9b61890-af19-44ff-a008-99244cc88787",
   "metadata": {},
   "outputs": [
    {
     "name": "stdout",
     "output_type": "stream",
     "text": [
      "Fitting 5 folds for each of 120 candidates, totalling 600 fits\n"
     ]
    },
    {
     "name": "stderr",
     "output_type": "stream",
     "text": [
      "/home/marcelo/anaconda3/envs/splus/lib/python3.9/site-packages/joblib/externals/loky/process_executor.py:700: UserWarning: A worker stopped while some jobs were given to the executor. This can be caused by a too short worker timeout or by a memory leak.\n",
      "  warnings.warn(\n"
     ]
    }
   ],
   "source": [
    "grid_search =  optimize_hyperparameters(X, y)"
   ]
  },
  {
   "cell_type": "code",
   "execution_count": 221,
   "id": "be2c3a41-9aa8-4117-8c20-9100bfe79fc3",
   "metadata": {},
   "outputs": [
    {
     "data": {
      "text/plain": [
       "0.8598465399317641"
      ]
     },
     "execution_count": 221,
     "metadata": {},
     "output_type": "execute_result"
    }
   ],
   "source": [
    "grid_search.best_score_"
   ]
  },
  {
   "cell_type": "code",
   "execution_count": 222,
   "id": "b652f3c4-a275-4d36-8ad6-9f11bb4813c4",
   "metadata": {},
   "outputs": [],
   "source": [
    "feature_importances = grid_search.best_estimator_.feature_importances_\n",
    "features = X.columns\n",
    "sorted_features = sorted(zip(features, feature_importances), key=lambda x: x[1], reverse=True)"
   ]
  },
  {
   "cell_type": "code",
   "execution_count": 223,
   "id": "e7094002-873e-44eb-b479-0a58101dde28",
   "metadata": {},
   "outputs": [
    {
     "data": {
      "text/plain": [
       "[('parallax_over_error', 0.15252719513773166),\n",
       " ('phot_bp_mean_flux_over_error', 0.05994884585573608),\n",
       " ('phot_bp_mean_mag-phot_rp_mean_mag', 0.03850330876735345),\n",
       " ('phot_g_mean_mag-phot_bp_mean_mag', 0.03792320858236627),\n",
       " ('pmra', 0.03272393803656359),\n",
       " ('phot_g_mean_mag-phot_rp_mean_mag', 0.029809405721543565),\n",
       " ('pmdec', 0.02914393166230886),\n",
       " ('phot_rp_mean_flux_over_error', 0.02853466054798406),\n",
       " ('parallax_error', 0.027539754806998603),\n",
       " ('phot_g_mean_flux_over_error', 0.02647867878590352),\n",
       " ('j_m-phot_bp_mean_mag', 0.024449912558084035),\n",
       " ('phot_bp_mean_mag', 0.024180148268289903),\n",
       " ('pmra_error', 0.02359948541773404),\n",
       " ('astrometric_sigma5d_max', 0.02250151925710377),\n",
       " ('ks_m', 0.02243991819403014),\n",
       " ('h_m', 0.021804157292738942),\n",
       " ('h_m-phot_bp_mean_mag', 0.021317650112193227),\n",
       " ('j_m-phot_rp_mean_mag', 0.021022740098883504),\n",
       " ('phot_g_mean_mag', 0.020455219193162028),\n",
       " ('j_m', 0.020453738309800313),\n",
       " ('j_m-ks_m', 0.020415261699401947),\n",
       " ('pmdec_error', 0.0203734596202928),\n",
       " ('ks_m-phot_rp_mean_mag', 0.020198064177122253),\n",
       " ('ks_m-phot_bp_mean_mag', 0.019676215935360356),\n",
       " ('phot_rp_mean_mag', 0.01956967560079787),\n",
       " ('h_m-phot_rp_mean_mag', 0.01901362604714265),\n",
       " ('h_m-ks_m', 0.018477200610810082),\n",
       " ('astrometric_gof_al', 0.01790510779474564),\n",
       " ('ruwe', 0.017435697129766926),\n",
       " ('ipd_gof_harmonic_amplitude', 0.017431265585328582),\n",
       " ('astrometric_excess_noise', 0.01683193768322462),\n",
       " ('j_m-phot_g_mean_mag', 0.016825015098283987),\n",
       " ('j_m-h_m', 0.016444191657033855),\n",
       " ('astrometric_excess_noise_sig', 0.01633604204434672),\n",
       " ('ks_m-phot_g_mean_mag', 0.015398762863648729),\n",
       " ('h_m-phot_g_mean_mag', 0.013944844760932112),\n",
       " ('visibility_periods_used', 0.013516323262609826),\n",
       " ('matched_transits_removed', 0.005324150172721272),\n",
       " ('ipd_frac_multi_peak', 0.004512481596603845),\n",
       " ('astrometric_params_solved', 0.0018090059614340316),\n",
       " ('ipd_frac_odd_win', 0.0017467973115930957),\n",
       " ('Qlf', 0.0014574567802892245)]"
      ]
     },
     "execution_count": 223,
     "metadata": {},
     "output_type": "execute_result"
    }
   ],
   "source": [
    "sorted_features"
   ]
  },
  {
   "cell_type": "code",
   "execution_count": 122,
   "id": "684783c4",
   "metadata": {},
   "outputs": [],
   "source": [
    "# no puedo perdecir etiqueta 2 \n",
    "# agregaría los 3 labels!"
   ]
  },
  {
   "cell_type": "code",
   "execution_count": 124,
   "id": "6ea606ad",
   "metadata": {},
   "outputs": [],
   "source": [
    "df_rf = df.loc[df[\"label\"]!=2][[\"pmdec\",\"parallax\",\"pmra\",\"label\"]+colors]"
   ]
  },
  {
   "cell_type": "code",
   "execution_count": 125,
   "id": "6df714da",
   "metadata": {},
   "outputs": [
    {
     "name": "stdout",
     "output_type": "stream",
     "text": [
      "              precision    recall  f1-score   support\n",
      "\n",
      "         0.0       0.99      0.81      0.89     10435\n",
      "         1.0       0.12      0.82      0.21       342\n",
      "\n",
      "    accuracy                           0.81     10777\n",
      "   macro avg       0.56      0.81      0.55     10777\n",
      "weighted avg       0.97      0.81      0.87     10777\n",
      "\n"
     ]
    },
    {
     "data": {
      "image/png": "[encoded data removed]",
      "text/plain": [
       "<Figure size 640x480 with 1 Axes>"
      ]
     },
     "metadata": {},
     "output_type": "display_data"
    }
   ],
   "source": [
    "X_train, X_test, y_train, y_test = train_test_split(df_rf.drop(columns={\"label\"}),\n",
    "                                                    df_rf[\"label\"], test_size=0.2, random_state=42)\n",
    "\n",
    "df.loc[X_train.index,\"split\"] = \"train\"\n",
    "df.loc[X_test.index,\"split\"] = \"test\"\n",
    "\n",
    "# Definir el modelo\n",
    "model = BalancedRandomForestClassifier(n_estimators=500,random_state=42)\n",
    "model.fit(X_train, y_train)\n",
    "# Revisar criterios usar ambos\n",
    "# Porcentaje o numero entero en el min sample split\n",
    "# Mirar la documentación y optimizar hyperparametros, sampling stategy!\n",
    "\n",
    "y_predict = model.predict(X_test)\n",
    "\n",
    "resultados = pd.DataFrame({\"y_predict\":y_predict,\"y_test\":y_test})\n",
    "\n",
    "print(classification_report(y_test, y_predict))\n",
    "\n",
    "\n",
    "import matplotlib.pyplot as plt\n",
    "\n",
    "# Datos de ejemplo\n",
    "x = model.feature_names_in_\n",
    "y = model.feature_importances_\n",
    "\n",
    "# Crear el gráfico de barras\n",
    "plt.bar(x, y)\n",
    "\n",
    "# Opcional: Personalizar el gráfico\n",
    "plt.ylabel('Importance')\n",
    "plt.title('Importancia Filtros Sin corrección')\n",
    "plt.xticks(rotation='vertical')\n",
    "\n",
    "# Mostrar el gráfico\n",
    "plt.show()\n",
    "\n"
   ]
  },
  {
   "cell_type": "code",
   "execution_count": null,
   "id": "5b251ea2",
   "metadata": {},
   "outputs": [],
   "source": [
    "IFAS para medidas de Halpha, debería servir bastante para dividir Oes y Bes\n",
    "Estrellas O emiten en rayos X \n",
    " Posible idea \"https://xmm-tools.cosmos.esa.int/external/xmm_user_support/documentation/uhb/node136.html\n",
    "    https://www.vphasplus.org/ \n",
    "    https://www.iphas.org/ tiene u"
   ]
  },
  {
   "cell_type": "code",
   "execution_count": 7,
   "id": "68ad4060",
   "metadata": {},
   "outputs": [
    {
     "data": {
      "text/plain": [
       "array([0., 0., 0., ..., 0., 0., 0.])"
      ]
     },
     "execution_count": 7,
     "metadata": {},
     "output_type": "execute_result"
    }
   ],
   "source": [
    "model.predict(df[[\"pmdec\",\"parallax\",\"pmra\"]+colors]) "
   ]
  },
  {
   "cell_type": "code",
   "execution_count": 128,
   "id": "a3543c90",
   "metadata": {},
   "outputs": [],
   "source": [
    "df[\"rf_predict\"] = model.predict(df[[\"pmdec\",\"parallax\",\"pmra\"]+colors]) "
   ]
  },
  {
   "cell_type": "code",
   "execution_count": 129,
   "id": "15b938e3",
   "metadata": {},
   "outputs": [],
   "source": [
    "df_1 = df.loc[df[\"rf_predict\"]!=0]"
   ]
  },
  {
   "cell_type": "code",
   "execution_count": 138,
   "id": "1d08586f",
   "metadata": {},
   "outputs": [
    {
     "data": {
      "text/plain": [
       "0        train\n",
       "1        train\n",
       "2        train\n",
       "3        train\n",
       "4         test\n",
       "         ...  \n",
       "59894    train\n",
       "59895    train\n",
       "59896    train\n",
       "59897    train\n",
       "59898    train\n",
       "Name: split, Length: 59899, dtype: object"
      ]
     },
     "execution_count": 138,
     "metadata": {},
     "output_type": "execute_result"
    }
   ],
   "source": [
    "df[\"split\"]"
   ]
  },
  {
   "cell_type": "code",
   "execution_count": 143,
   "id": "eba1c88b",
   "metadata": {},
   "outputs": [],
   "source": [
    "df_review = df.loc[(df[\"rf_predict\"]==1)&(df[\"split\"]==\"test\")]"
   ]
  },
  {
   "cell_type": "code",
   "execution_count": 145,
   "id": "aec9b671",
   "metadata": {},
   "outputs": [
    {
     "data": {
      "text/plain": [
       "mk\n",
       "A     198\n",
       "B    1416\n",
       "F      79\n",
       "G      17\n",
       "K       2\n",
       "M      11\n",
       "Name: name, dtype: int64"
      ]
     },
     "execution_count": 145,
     "metadata": {},
     "output_type": "execute_result"
    }
   ],
   "source": [
    "df_review.loc[df_review[\"label\"]==0].groupby(\"mk\").count()[\"name\"]"
   ]
  },
  {
   "cell_type": "code",
   "execution_count": 146,
   "id": "16e231f4",
   "metadata": {},
   "outputs": [
    {
     "data": {
      "text/plain": [
       "0.13983050847457626"
      ]
     },
     "execution_count": 146,
     "metadata": {},
     "output_type": "execute_result"
    }
   ],
   "source": [
    "198/1416"
   ]
  },
  {
   "cell_type": "code",
   "execution_count": 149,
   "id": "826a4f52",
   "metadata": {},
   "outputs": [
    {
     "data": {
      "text/plain": [
       "0.4703153386971191"
      ]
     },
     "execution_count": 149,
     "metadata": {},
     "output_type": "execute_result"
    }
   ],
   "source": [
    "14497/30824"
   ]
  },
  {
   "cell_type": "code",
   "execution_count": 150,
   "id": "8f1baf6f",
   "metadata": {},
   "outputs": [
    {
     "data": {
      "text/html": [
       "<div>\n",
       "<style scoped>\n",
       "    .dataframe tbody tr th:only-of-type {\n",
       "        vertical-align: middle;\n",
       "    }\n",
       "\n",
       "    .dataframe tbody tr th {\n",
       "        vertical-align: top;\n",
       "    }\n",
       "\n",
       "    .dataframe thead th {\n",
       "        text-align: right;\n",
       "    }\n",
       "</style>\n",
       "<table border=\"1\" class=\"dataframe\">\n",
       "  <thead>\n",
       "    <tr style=\"text-align: right;\">\n",
       "      <th></th>\n",
       "      <th>name</th>\n",
       "      <th>sptype</th>\n",
       "      <th>bibcode</th>\n",
       "      <th>source_id</th>\n",
       "      <th>ra</th>\n",
       "      <th>dec</th>\n",
       "      <th>ra_error</th>\n",
       "      <th>dec_error</th>\n",
       "      <th>parallax</th>\n",
       "      <th>parallax_error</th>\n",
       "      <th>...</th>\n",
       "      <th>h_m-phot_bp_mean_mag</th>\n",
       "      <th>h_m-phot_rp_mean_mag</th>\n",
       "      <th>ks_m-phot_g_mean_mag</th>\n",
       "      <th>ks_m-phot_bp_mean_mag</th>\n",
       "      <th>ks_m-phot_rp_mean_mag</th>\n",
       "      <th>phot_g_mean_mag-phot_bp_mean_mag</th>\n",
       "      <th>phot_g_mean_mag-phot_rp_mean_mag</th>\n",
       "      <th>phot_bp_mean_mag-phot_rp_mean_mag</th>\n",
       "      <th>split</th>\n",
       "      <th>rf_predict</th>\n",
       "    </tr>\n",
       "  </thead>\n",
       "  <tbody>\n",
       "    <tr>\n",
       "      <th>22</th>\n",
       "      <td>JL 76</td>\n",
       "      <td>B2V</td>\n",
       "      <td>1977MNRAS.180p..31B</td>\n",
       "      <td>6348013516630089600</td>\n",
       "      <td>322.772001</td>\n",
       "      <td>-82.681432</td>\n",
       "      <td>0.012610</td>\n",
       "      <td>0.013970</td>\n",
       "      <td>0.122137</td>\n",
       "      <td>0.015700</td>\n",
       "      <td>...</td>\n",
       "      <td>-0.267812</td>\n",
       "      <td>-0.079797</td>\n",
       "      <td>-0.120970</td>\n",
       "      <td>-0.173813</td>\n",
       "      <td>0.014203</td>\n",
       "      <td>-0.052843</td>\n",
       "      <td>0.135173</td>\n",
       "      <td>0.188016</td>\n",
       "      <td>train</td>\n",
       "      <td>1.0</td>\n",
       "    </tr>\n",
       "    <tr>\n",
       "      <th>50</th>\n",
       "      <td>NSV 5313</td>\n",
       "      <td>A3/6</td>\n",
       "      <td>1998A&amp;AS..131..115C</td>\n",
       "      <td>5199521463337441152</td>\n",
       "      <td>176.050334</td>\n",
       "      <td>-80.193009</td>\n",
       "      <td>0.018525</td>\n",
       "      <td>0.019063</td>\n",
       "      <td>0.226265</td>\n",
       "      <td>0.018960</td>\n",
       "      <td>...</td>\n",
       "      <td>-1.930328</td>\n",
       "      <td>-1.031173</td>\n",
       "      <td>-1.628895</td>\n",
       "      <td>-1.990328</td>\n",
       "      <td>-1.091173</td>\n",
       "      <td>-0.361433</td>\n",
       "      <td>0.537722</td>\n",
       "      <td>0.899155</td>\n",
       "      <td>test</td>\n",
       "      <td>1.0</td>\n",
       "    </tr>\n",
       "    <tr>\n",
       "      <th>57</th>\n",
       "      <td>SOPS Ia-216</td>\n",
       "      <td>OB-</td>\n",
       "      <td>1972POAN....2...59S</td>\n",
       "      <td>5784536347386426624</td>\n",
       "      <td>201.243944</td>\n",
       "      <td>-79.750117</td>\n",
       "      <td>0.016352</td>\n",
       "      <td>0.015946</td>\n",
       "      <td>0.106836</td>\n",
       "      <td>0.019451</td>\n",
       "      <td>...</td>\n",
       "      <td>0.350538</td>\n",
       "      <td>0.206725</td>\n",
       "      <td>0.330375</td>\n",
       "      <td>0.383538</td>\n",
       "      <td>0.239725</td>\n",
       "      <td>0.053163</td>\n",
       "      <td>-0.090650</td>\n",
       "      <td>-0.143813</td>\n",
       "      <td>NaN</td>\n",
       "      <td>1.0</td>\n",
       "    </tr>\n",
       "    <tr>\n",
       "      <th>60</th>\n",
       "      <td>SOPS Ia-213</td>\n",
       "      <td>OB-</td>\n",
       "      <td>1972POAN....2...59S</td>\n",
       "      <td>5200546586130959744</td>\n",
       "      <td>166.289165</td>\n",
       "      <td>-79.362332</td>\n",
       "      <td>0.019892</td>\n",
       "      <td>0.017272</td>\n",
       "      <td>0.169451</td>\n",
       "      <td>0.021138</td>\n",
       "      <td>...</td>\n",
       "      <td>-0.069871</td>\n",
       "      <td>-0.006728</td>\n",
       "      <td>-0.031265</td>\n",
       "      <td>-0.043871</td>\n",
       "      <td>0.019272</td>\n",
       "      <td>-0.012606</td>\n",
       "      <td>0.050537</td>\n",
       "      <td>0.063143</td>\n",
       "      <td>NaN</td>\n",
       "      <td>1.0</td>\n",
       "    </tr>\n",
       "    <tr>\n",
       "      <th>70</th>\n",
       "      <td>SOPS Ia-209</td>\n",
       "      <td>OB</td>\n",
       "      <td>1972POAN....2...59S</td>\n",
       "      <td>5788398313259527808</td>\n",
       "      <td>186.408724</td>\n",
       "      <td>-78.797513</td>\n",
       "      <td>0.023525</td>\n",
       "      <td>0.019014</td>\n",
       "      <td>0.187114</td>\n",
       "      <td>0.024753</td>\n",
       "      <td>...</td>\n",
       "      <td>-0.479261</td>\n",
       "      <td>-0.352803</td>\n",
       "      <td>-0.626556</td>\n",
       "      <td>-0.576261</td>\n",
       "      <td>-0.449803</td>\n",
       "      <td>0.050295</td>\n",
       "      <td>0.176753</td>\n",
       "      <td>0.126458</td>\n",
       "      <td>NaN</td>\n",
       "      <td>1.0</td>\n",
       "    </tr>\n",
       "    <tr>\n",
       "      <th>...</th>\n",
       "      <td>...</td>\n",
       "      <td>...</td>\n",
       "      <td>...</td>\n",
       "      <td>...</td>\n",
       "      <td>...</td>\n",
       "      <td>...</td>\n",
       "      <td>...</td>\n",
       "      <td>...</td>\n",
       "      <td>...</td>\n",
       "      <td>...</td>\n",
       "      <td>...</td>\n",
       "      <td>...</td>\n",
       "      <td>...</td>\n",
       "      <td>...</td>\n",
       "      <td>...</td>\n",
       "      <td>...</td>\n",
       "      <td>...</td>\n",
       "      <td>...</td>\n",
       "      <td>...</td>\n",
       "      <td>...</td>\n",
       "      <td>...</td>\n",
       "    </tr>\n",
       "    <tr>\n",
       "      <th>59869</th>\n",
       "      <td>NGC 6705 Str 663</td>\n",
       "      <td>A5:</td>\n",
       "      <td>1925LicOB..12...10T</td>\n",
       "      <td>4252502748189542400</td>\n",
       "      <td>282.813209</td>\n",
       "      <td>-6.265053</td>\n",
       "      <td>0.016050</td>\n",
       "      <td>0.020357</td>\n",
       "      <td>0.451592</td>\n",
       "      <td>0.027922</td>\n",
       "      <td>...</td>\n",
       "      <td>-1.862153</td>\n",
       "      <td>-0.948872</td>\n",
       "      <td>-1.645575</td>\n",
       "      <td>-1.989153</td>\n",
       "      <td>-1.075872</td>\n",
       "      <td>-0.343578</td>\n",
       "      <td>0.569703</td>\n",
       "      <td>0.913281</td>\n",
       "      <td>train</td>\n",
       "      <td>1.0</td>\n",
       "    </tr>\n",
       "    <tr>\n",
       "      <th>59883</th>\n",
       "      <td>HD 225563</td>\n",
       "      <td>A</td>\n",
       "      <td>1925AnHar.100....1C</td>\n",
       "      <td>2047732345358266240</td>\n",
       "      <td>296.035520</td>\n",
       "      <td>35.111018</td>\n",
       "      <td>0.061610</td>\n",
       "      <td>0.066032</td>\n",
       "      <td>0.407392</td>\n",
       "      <td>0.081663</td>\n",
       "      <td>...</td>\n",
       "      <td>-0.322541</td>\n",
       "      <td>-0.172670</td>\n",
       "      <td>-0.678761</td>\n",
       "      <td>-0.339541</td>\n",
       "      <td>-0.189670</td>\n",
       "      <td>0.339220</td>\n",
       "      <td>0.489091</td>\n",
       "      <td>0.149871</td>\n",
       "      <td>train</td>\n",
       "      <td>1.0</td>\n",
       "    </tr>\n",
       "    <tr>\n",
       "      <th>59891</th>\n",
       "      <td>HD 147792</td>\n",
       "      <td>A0</td>\n",
       "      <td>1921AnHar..96.....C</td>\n",
       "      <td>5993094663582797696</td>\n",
       "      <td>246.415740</td>\n",
       "      <td>-40.655231</td>\n",
       "      <td>0.181629</td>\n",
       "      <td>0.139302</td>\n",
       "      <td>0.490554</td>\n",
       "      <td>0.214927</td>\n",
       "      <td>...</td>\n",
       "      <td>-1.880835</td>\n",
       "      <td>-0.884265</td>\n",
       "      <td>-1.647615</td>\n",
       "      <td>-2.032835</td>\n",
       "      <td>-1.036265</td>\n",
       "      <td>-0.385220</td>\n",
       "      <td>0.611350</td>\n",
       "      <td>0.996570</td>\n",
       "      <td>test</td>\n",
       "      <td>1.0</td>\n",
       "    </tr>\n",
       "    <tr>\n",
       "      <th>59896</th>\n",
       "      <td>CD-40 5337</td>\n",
       "      <td>A2</td>\n",
       "      <td>1919AnHar..94.....C</td>\n",
       "      <td>5425558101706488192</td>\n",
       "      <td>143.861476</td>\n",
       "      <td>-41.451704</td>\n",
       "      <td>0.199545</td>\n",
       "      <td>0.209763</td>\n",
       "      <td>0.243878</td>\n",
       "      <td>0.291947</td>\n",
       "      <td>...</td>\n",
       "      <td>-0.374896</td>\n",
       "      <td>-0.180279</td>\n",
       "      <td>-0.832027</td>\n",
       "      <td>-0.445896</td>\n",
       "      <td>-0.251278</td>\n",
       "      <td>0.386131</td>\n",
       "      <td>0.580749</td>\n",
       "      <td>0.194618</td>\n",
       "      <td>train</td>\n",
       "      <td>1.0</td>\n",
       "    </tr>\n",
       "    <tr>\n",
       "      <th>59897</th>\n",
       "      <td>HD 62733</td>\n",
       "      <td>B9</td>\n",
       "      <td>1919AnHar..93.....C</td>\n",
       "      <td>5615568897995004288</td>\n",
       "      <td>116.134148</td>\n",
       "      <td>-23.854216</td>\n",
       "      <td>0.073291</td>\n",
       "      <td>0.068251</td>\n",
       "      <td>0.423211</td>\n",
       "      <td>0.103676</td>\n",
       "      <td>...</td>\n",
       "      <td>0.021633</td>\n",
       "      <td>0.016870</td>\n",
       "      <td>-0.447410</td>\n",
       "      <td>0.038633</td>\n",
       "      <td>0.033870</td>\n",
       "      <td>0.486043</td>\n",
       "      <td>0.481280</td>\n",
       "      <td>-0.004763</td>\n",
       "      <td>train</td>\n",
       "      <td>1.0</td>\n",
       "    </tr>\n",
       "  </tbody>\n",
       "</table>\n",
       "<p>15469 rows × 75 columns</p>\n",
       "</div>"
      ],
      "text/plain": [
       "                   name sptype              bibcode            source_id  \\\n",
       "22                JL 76    B2V  1977MNRAS.180p..31B  6348013516630089600   \n",
       "50             NSV 5313   A3/6  1998A&AS..131..115C  5199521463337441152   \n",
       "57          SOPS Ia-216    OB-  1972POAN....2...59S  5784536347386426624   \n",
       "60          SOPS Ia-213    OB-  1972POAN....2...59S  5200546586130959744   \n",
       "70          SOPS Ia-209     OB  1972POAN....2...59S  5788398313259527808   \n",
       "...                 ...    ...                  ...                  ...   \n",
       "59869  NGC 6705 Str 663    A5:  1925LicOB..12...10T  4252502748189542400   \n",
       "59883         HD 225563      A  1925AnHar.100....1C  2047732345358266240   \n",
       "59891         HD 147792     A0  1921AnHar..96.....C  5993094663582797696   \n",
       "59896        CD-40 5337     A2  1919AnHar..94.....C  5425558101706488192   \n",
       "59897          HD 62733     B9  1919AnHar..93.....C  5615568897995004288   \n",
       "\n",
       "               ra        dec  ra_error  dec_error  parallax  parallax_error  \\\n",
       "22     322.772001 -82.681432  0.012610   0.013970  0.122137        0.015700   \n",
       "50     176.050334 -80.193009  0.018525   0.019063  0.226265        0.018960   \n",
       "57     201.243944 -79.750117  0.016352   0.015946  0.106836        0.019451   \n",
       "60     166.289165 -79.362332  0.019892   0.017272  0.169451        0.021138   \n",
       "70     186.408724 -78.797513  0.023525   0.019014  0.187114        0.024753   \n",
       "...           ...        ...       ...        ...       ...             ...   \n",
       "59869  282.813209  -6.265053  0.016050   0.020357  0.451592        0.027922   \n",
       "59883  296.035520  35.111018  0.061610   0.066032  0.407392        0.081663   \n",
       "59891  246.415740 -40.655231  0.181629   0.139302  0.490554        0.214927   \n",
       "59896  143.861476 -41.451704  0.199545   0.209763  0.243878        0.291947   \n",
       "59897  116.134148 -23.854216  0.073291   0.068251  0.423211        0.103676   \n",
       "\n",
       "       ...  h_m-phot_bp_mean_mag  h_m-phot_rp_mean_mag  ks_m-phot_g_mean_mag  \\\n",
       "22     ...             -0.267812             -0.079797             -0.120970   \n",
       "50     ...             -1.930328             -1.031173             -1.628895   \n",
       "57     ...              0.350538              0.206725              0.330375   \n",
       "60     ...             -0.069871             -0.006728             -0.031265   \n",
       "70     ...             -0.479261             -0.352803             -0.626556   \n",
       "...    ...                   ...                   ...                   ...   \n",
       "59869  ...             -1.862153             -0.948872             -1.645575   \n",
       "59883  ...             -0.322541             -0.172670             -0.678761   \n",
       "59891  ...             -1.880835             -0.884265             -1.647615   \n",
       "59896  ...             -0.374896             -0.180279             -0.832027   \n",
       "59897  ...              0.021633              0.016870             -0.447410   \n",
       "\n",
       "       ks_m-phot_bp_mean_mag  ks_m-phot_rp_mean_mag  \\\n",
       "22                 -0.173813               0.014203   \n",
       "50                 -1.990328              -1.091173   \n",
       "57                  0.383538               0.239725   \n",
       "60                 -0.043871               0.019272   \n",
       "70                 -0.576261              -0.449803   \n",
       "...                      ...                    ...   \n",
       "59869              -1.989153              -1.075872   \n",
       "59883              -0.339541              -0.189670   \n",
       "59891              -2.032835              -1.036265   \n",
       "59896              -0.445896              -0.251278   \n",
       "59897               0.038633               0.033870   \n",
       "\n",
       "       phot_g_mean_mag-phot_bp_mean_mag  phot_g_mean_mag-phot_rp_mean_mag  \\\n",
       "22                            -0.052843                          0.135173   \n",
       "50                            -0.361433                          0.537722   \n",
       "57                             0.053163                         -0.090650   \n",
       "60                            -0.012606                          0.050537   \n",
       "70                             0.050295                          0.176753   \n",
       "...                                 ...                               ...   \n",
       "59869                         -0.343578                          0.569703   \n",
       "59883                          0.339220                          0.489091   \n",
       "59891                         -0.385220                          0.611350   \n",
       "59896                          0.386131                          0.580749   \n",
       "59897                          0.486043                          0.481280   \n",
       "\n",
       "       phot_bp_mean_mag-phot_rp_mean_mag  split  rf_predict  \n",
       "22                              0.188016  train         1.0  \n",
       "50                              0.899155   test         1.0  \n",
       "57                             -0.143813    NaN         1.0  \n",
       "60                              0.063143    NaN         1.0  \n",
       "70                              0.126458    NaN         1.0  \n",
       "...                                  ...    ...         ...  \n",
       "59869                           0.913281  train         1.0  \n",
       "59883                           0.149871  train         1.0  \n",
       "59891                           0.996570   test         1.0  \n",
       "59896                           0.194618  train         1.0  \n",
       "59897                          -0.004763  train         1.0  \n",
       "\n",
       "[15469 rows x 75 columns]"
      ]
     },
     "execution_count": 150,
     "metadata": {},
     "output_type": "execute_result"
    }
   ],
   "source": [
    "df_1"
   ]
  },
  {
   "cell_type": "code",
   "execution_count": null,
   "id": "3fb03fcb",
   "metadata": {},
   "outputs": [],
   "source": [
    "# se equivoca mas con las B entonces esta clasificando cosas mas azules\n",
    "# Como calculo el tipo espectral representativo y estar seguro que es el mismo objeto\n",
    "# Cuantos objetos cumplen los objetos de Zari y no tienen tipos expectrales --> Descargar desde simbad\n",
    "# Buscar espectros para los que no esten en zari\n",
    "# Otros datos\n",
    "# Labels gorupby 5 tipos espectrales vemos una dispersión mayor de danto no uso el objeto\n",
    "# Label hago un sigma clipping con los numeros\n",
    "distribucion de las dispersiones de tipo espectrales, hacemos corte cuando se va de la normal\n",
    "Para los otros que no tienen dispersones extremas me quedo con un tipo expectral mediano\n",
    "Me quedo con unas coordenadas medianas y esas uso para hacer el cross match"
   ]
  },
  {
   "cell_type": "code",
   "execution_count": 148,
   "id": "302cfb65",
   "metadata": {},
   "outputs": [
    {
     "data": {
      "text/plain": [
       "mk\n",
       "A    14497\n",
       "B    30824\n",
       "F     2976\n",
       "G      380\n",
       "K       68\n",
       "M       61\n",
       "O     7849\n",
       "Name: name, dtype: int64"
      ]
     },
     "execution_count": 148,
     "metadata": {},
     "output_type": "execute_result"
    }
   ],
   "source": [
    "df.groupby(\"mk\").count()[\"name\"]"
   ]
  },
  {
   "cell_type": "code",
   "execution_count": 58,
   "id": "245bb0b1",
   "metadata": {},
   "outputs": [],
   "source": [
    "pd.set_option('display.max_row', 10)\n"
   ]
  },
  {
   "cell_type": "code",
   "execution_count": null,
   "id": "ed56b86c",
   "metadata": {},
   "outputs": [],
   "source": [
    "import joblib\n",
    "joblib.dump(model, 'r_f_sin_correccion.joblib')"
   ]
  },
  {
   "cell_type": "code",
   "execution_count": 59,
   "id": "c5bdcfea",
   "metadata": {},
   "outputs": [],
   "source": [
    "df_1.to_csv(\"candidate_to_massive_stars.csv\",index=False)"
   ]
  },
  {
   "cell_type": "code",
   "execution_count": 62,
   "id": "c41b18af",
   "metadata": {},
   "outputs": [],
   "source": [
    "df_1[\"source_id\"].to_csv(\"source_id_Candidatas_massive_stars.csv\",index=False)"
   ]
  },
  {
   "cell_type": "markdown",
   "id": "c600c981",
   "metadata": {},
   "source": [
    "## Resta colores consecutivos"
   ]
  },
  {
   "cell_type": "code",
   "execution_count": 81,
   "id": "6c005aaf",
   "metadata": {},
   "outputs": [
    {
     "name": "stderr",
     "output_type": "stream",
     "text": [
      "/tmp/ipykernel_22667/4136818439.py:1: DtypeWarning: Columns (5,42,47,48) have mixed types. Specify dtype option on import or set low_memory=False.\n",
      "  sample = pd.read_csv(\"skiff_UCAC4_topcat_labels.csv\")\n"
     ]
    }
   ],
   "source": [
    "sample = pd.read_csv(\"skiff_UCAC4_topcat_labels.csv\")\n",
    "sample = sample.loc[sample[\"label\"]!=2].reset_index(drop=True)\n",
    "\n",
    "mag_features = sample[['Jmag', 'Hmag', 'Kmag', 'Bmag', 'Vmag',\n",
    "       'Gmag', 'Rmag', 'Imag']]\n",
    "\n",
    "\n",
    "df_rf = sample[[\"Name\",\"label\"]].reset_index(drop=True)\n",
    "\n",
    "combinaciones = [\n",
    "    \"Bmag-Vmag\",\n",
    "    \"Vmag-Gmag\",\n",
    "    \"Gmag-Rmag\",\n",
    "    \"Rmag-Imag\",\n",
    "    \"Jmag-Hmag\",\n",
    "    \"Jmag-Kmag\"]\n",
    "for v in combinaciones :\n",
    "    magnitudes = v.split(\"-\")\n",
    "    df_rf[v] = sample[magnitudes[0]] - sample[magnitudes[1]]"
   ]
  },
  {
   "cell_type": "code",
   "execution_count": 82,
   "id": "409dc9ed",
   "metadata": {},
   "outputs": [
    {
     "name": "stdout",
     "output_type": "stream",
     "text": [
      "              precision    recall  f1-score   support\n",
      "\n",
      "         0.0       1.00      0.87      0.93     75160\n",
      "         1.0       0.02      0.87      0.05       283\n",
      "\n",
      "    accuracy                           0.87     75443\n",
      "   macro avg       0.51      0.87      0.49     75443\n",
      "weighted avg       1.00      0.87      0.93     75443\n",
      "\n"
     ]
    },
    {
     "data": {
      "image/png": "[encoded data removed]",
      "text/plain": [
       "<Figure size 640x480 with 1 Axes>"
      ]
     },
     "metadata": {},
     "output_type": "display_data"
    }
   ],
   "source": [
    "X_train, X_test, y_train, y_test = train_test_split(df_rf.drop(columns={\"Name\",\"label\"}),\n",
    "                                                    df_rf[\"label\"], test_size=0.2, random_state=42)\n",
    "\n",
    "\n",
    "\n",
    "# Definir el modelo\n",
    "model = BalancedRandomForestClassifier(random_state=42)\n",
    "model.fit(X_train, y_train)\n",
    "\n",
    "y_predict = model.predict(X_test)\n",
    "\n",
    "resultados = pd.DataFrame({\"y_predict\":y_predict,\"y_test\":y_test})\n",
    "\n",
    "print(classification_report(y_test, y_predict))\n",
    "\n",
    "\n",
    "import matplotlib.pyplot as plt\n",
    "\n",
    "# Datos de ejemplo\n",
    "x = model.feature_names_in_\n",
    "y = model.feature_importances_\n",
    "\n",
    "# Crear el gráfico de barras\n",
    "plt.bar(x, y)\n",
    "\n",
    "# Opcional: Personalizar el gráfico\n",
    "plt.ylabel('Importance')\n",
    "plt.title('Importancia Filtros Sin corrección')\n",
    "plt.xticks(rotation='vertical')\n",
    "\n",
    "# Mostrar el gráfico\n",
    "plt.show()\n"
   ]
  },
  {
   "cell_type": "markdown",
   "id": "c1be579e",
   "metadata": {},
   "source": [
    "###  Balanced random forest corregido"
   ]
  },
  {
   "cell_type": "code",
   "execution_count": 78,
   "id": "524d9ed1",
   "metadata": {},
   "outputs": [
    {
     "name": "stderr",
     "output_type": "stream",
     "text": [
      "/tmp/ipykernel_22667/584730718.py:1: DtypeWarning: Columns (5,42,47,48) have mixed types. Specify dtype option on import or set low_memory=False.\n",
      "  sample = pd.read_csv(\"skiff_UCAC4_topcat_labels.csv\")\n"
     ]
    },
    {
     "name": "stdout",
     "output_type": "stream",
     "text": [
      "The SFD'98 dust map is not in the data directory:\n",
      "\n",
      "    /home/nico/universidad/dustmap\n",
      "\n",
      "To change the data directory, call:\n",
      "\n",
      "    from dustmaps.config import config\n",
      "    config['data_dir'] = '/path/to/data/directory'\n",
      "\n",
      "To download the SFD'98 map to the data directory, call:\n",
      "\n",
      "    import dustmaps.sfd\n",
      "    dustmaps.sfd.fetch()\n",
      "\n"
     ]
    },
    {
     "ename": "FileNotFoundError",
     "evalue": "[Errno 2] No such file or directory: '/home/nico/universidad/dustmap/sfd/SFD_dust_4096_ngp.fits'",
     "output_type": "error",
     "traceback": [
      "\u001b[0;31m---------------------------------------------------------------------------\u001b[0m",
      "\u001b[0;31mFileNotFoundError\u001b[0m                         Traceback (most recent call last)",
      "Cell \u001b[0;32mIn [78], line 16\u001b[0m\n\u001b[1;32m      4\u001b[0m data \u001b[38;5;241m=\u001b[39m {\n\u001b[1;32m      5\u001b[0m     \u001b[38;5;124m\"\u001b[39m\u001b[38;5;124mBmag\u001b[39m\u001b[38;5;124m\"\u001b[39m: \u001b[38;5;241m3.626\u001b[39m,\n\u001b[1;32m      6\u001b[0m     \u001b[38;5;124m\"\u001b[39m\u001b[38;5;124mVmag\u001b[39m\u001b[38;5;124m\"\u001b[39m: \u001b[38;5;241m2.742\u001b[39m,\n\u001b[0;32m   (...)\u001b[0m\n\u001b[1;32m     12\u001b[0m     \u001b[38;5;124m\"\u001b[39m\u001b[38;5;124mKmag\u001b[39m\u001b[38;5;124m\"\u001b[39m: \u001b[38;5;241m0.302\u001b[39m\n\u001b[1;32m     13\u001b[0m }\n\u001b[1;32m     15\u001b[0m coords \u001b[38;5;241m=\u001b[39m SkyCoord(sample[\u001b[38;5;124m\"\u001b[39m\u001b[38;5;124m_RAJ2000\u001b[39m\u001b[38;5;124m\"\u001b[39m],sample[\u001b[38;5;124m\"\u001b[39m\u001b[38;5;124m_DEJ2000\u001b[39m\u001b[38;5;124m\"\u001b[39m], unit\u001b[38;5;241m=\u001b[39m\u001b[38;5;124m'\u001b[39m\u001b[38;5;124mdeg\u001b[39m\u001b[38;5;124m'\u001b[39m)\u001b[38;5;241m.\u001b[39mgalactic\n\u001b[0;32m---> 16\u001b[0m sfd \u001b[38;5;241m=\u001b[39m \u001b[43mSFDQuery\u001b[49m\u001b[43m(\u001b[49m\u001b[43m)\u001b[49m\n\u001b[1;32m     17\u001b[0m sample[\u001b[38;5;124m\"\u001b[39m\u001b[38;5;124mebv\u001b[39m\u001b[38;5;124m\"\u001b[39m] \u001b[38;5;241m=\u001b[39m sfd(coords)\n\u001b[1;32m     19\u001b[0m \u001b[38;5;28;01mfor\u001b[39;00m key, value \u001b[38;5;129;01min\u001b[39;00m data\u001b[38;5;241m.\u001b[39mitems():\n",
      "File \u001b[0;32m~/miniconda3/envs/deep/lib/python3.8/site-packages/dustmaps/sfd.py:115\u001b[0m, in \u001b[0;36mSFDQuery.__init__\u001b[0;34m(self, map_dir)\u001b[0m\n\u001b[1;32m    111\u001b[0m     map_dir \u001b[38;5;241m=\u001b[39m os\u001b[38;5;241m.\u001b[39mpath\u001b[38;5;241m.\u001b[39mjoin(data_dir(), \u001b[38;5;124m'\u001b[39m\u001b[38;5;124msfd\u001b[39m\u001b[38;5;124m'\u001b[39m)\n\u001b[1;32m    113\u001b[0m base_fname \u001b[38;5;241m=\u001b[39m os\u001b[38;5;241m.\u001b[39mpath\u001b[38;5;241m.\u001b[39mjoin(map_dir, \u001b[38;5;124m'\u001b[39m\u001b[38;5;124mSFD_dust_4096\u001b[39m\u001b[38;5;124m'\u001b[39m)\n\u001b[0;32m--> 115\u001b[0m \u001b[38;5;28;43msuper\u001b[39;49m\u001b[43m(\u001b[49m\u001b[43mSFDQuery\u001b[49m\u001b[43m,\u001b[49m\u001b[43m \u001b[49m\u001b[38;5;28;43mself\u001b[39;49m\u001b[43m)\u001b[49m\u001b[38;5;241;43m.\u001b[39;49m\u001b[38;5;21;43m__init__\u001b[39;49m\u001b[43m(\u001b[49m\u001b[43mbase_fname\u001b[49m\u001b[43m)\u001b[49m\n",
      "File \u001b[0;32m~/miniconda3/envs/deep/lib/python3.8/site-packages/dustmaps/sfd.py:64\u001b[0m, in \u001b[0;36mSFDBase.__init__\u001b[0;34m(self, base_fname)\u001b[0m\n\u001b[1;32m     61\u001b[0m \u001b[38;5;28;01mexcept\u001b[39;00m \u001b[38;5;167;01mIOError\u001b[39;00m \u001b[38;5;28;01mas\u001b[39;00m error:\n\u001b[1;32m     62\u001b[0m     \u001b[38;5;28mprint\u001b[39m(dustexceptions\u001b[38;5;241m.\u001b[39mdata_missing_message(\u001b[38;5;28mself\u001b[39m\u001b[38;5;241m.\u001b[39mmap_name,\n\u001b[1;32m     63\u001b[0m                                               \u001b[38;5;28mself\u001b[39m\u001b[38;5;241m.\u001b[39mmap_name_long))\n\u001b[0;32m---> 64\u001b[0m     \u001b[38;5;28;01mraise\u001b[39;00m error\n",
      "File \u001b[0;32m~/miniconda3/envs/deep/lib/python3.8/site-packages/dustmaps/sfd.py:59\u001b[0m, in \u001b[0;36mSFDBase.__init__\u001b[0;34m(self, base_fname)\u001b[0m\n\u001b[1;32m     57\u001b[0m fname \u001b[38;5;241m=\u001b[39m \u001b[38;5;124m'\u001b[39m\u001b[38;5;132;01m{}\u001b[39;00m\u001b[38;5;124m_\u001b[39m\u001b[38;5;132;01m{}\u001b[39;00m\u001b[38;5;124m.fits\u001b[39m\u001b[38;5;124m'\u001b[39m\u001b[38;5;241m.\u001b[39mformat(base_fname, pole)\n\u001b[1;32m     58\u001b[0m \u001b[38;5;28;01mtry\u001b[39;00m:\n\u001b[0;32m---> 59\u001b[0m     \u001b[38;5;28;01mwith\u001b[39;00m \u001b[43mfits\u001b[49m\u001b[38;5;241;43m.\u001b[39;49m\u001b[43mopen\u001b[49m\u001b[43m(\u001b[49m\u001b[43mfname\u001b[49m\u001b[43m)\u001b[49m \u001b[38;5;28;01mas\u001b[39;00m hdulist:\n\u001b[1;32m     60\u001b[0m         \u001b[38;5;28mself\u001b[39m\u001b[38;5;241m.\u001b[39m_data[pole] \u001b[38;5;241m=\u001b[39m [hdulist[\u001b[38;5;241m0\u001b[39m]\u001b[38;5;241m.\u001b[39mdata, wcs\u001b[38;5;241m.\u001b[39mWCS(hdulist[\u001b[38;5;241m0\u001b[39m]\u001b[38;5;241m.\u001b[39mheader)]\n\u001b[1;32m     61\u001b[0m \u001b[38;5;28;01mexcept\u001b[39;00m \u001b[38;5;167;01mIOError\u001b[39;00m \u001b[38;5;28;01mas\u001b[39;00m error:\n",
      "File \u001b[0;32m~/.local/lib/python3.8/site-packages/astropy/io/fits/hdu/hdulist.py:214\u001b[0m, in \u001b[0;36mfitsopen\u001b[0;34m(name, mode, memmap, save_backup, cache, lazy_load_hdus, ignore_missing_simple, use_fsspec, fsspec_kwargs, **kwargs)\u001b[0m\n\u001b[1;32m    211\u001b[0m \u001b[38;5;28;01mif\u001b[39;00m \u001b[38;5;129;01mnot\u001b[39;00m name:\n\u001b[1;32m    212\u001b[0m     \u001b[38;5;28;01mraise\u001b[39;00m \u001b[38;5;167;01mValueError\u001b[39;00m(\u001b[38;5;124mf\u001b[39m\u001b[38;5;124m\"\u001b[39m\u001b[38;5;124mEmpty filename: \u001b[39m\u001b[38;5;132;01m{\u001b[39;00mname\u001b[38;5;132;01m!r}\u001b[39;00m\u001b[38;5;124m\"\u001b[39m)\n\u001b[0;32m--> 214\u001b[0m \u001b[38;5;28;01mreturn\u001b[39;00m \u001b[43mHDUList\u001b[49m\u001b[38;5;241;43m.\u001b[39;49m\u001b[43mfromfile\u001b[49m\u001b[43m(\u001b[49m\n\u001b[1;32m    215\u001b[0m \u001b[43m    \u001b[49m\u001b[43mname\u001b[49m\u001b[43m,\u001b[49m\n\u001b[1;32m    216\u001b[0m \u001b[43m    \u001b[49m\u001b[43mmode\u001b[49m\u001b[43m,\u001b[49m\n\u001b[1;32m    217\u001b[0m \u001b[43m    \u001b[49m\u001b[43mmemmap\u001b[49m\u001b[43m,\u001b[49m\n\u001b[1;32m    218\u001b[0m \u001b[43m    \u001b[49m\u001b[43msave_backup\u001b[49m\u001b[43m,\u001b[49m\n\u001b[1;32m    219\u001b[0m \u001b[43m    \u001b[49m\u001b[43mcache\u001b[49m\u001b[43m,\u001b[49m\n\u001b[1;32m    220\u001b[0m \u001b[43m    \u001b[49m\u001b[43mlazy_load_hdus\u001b[49m\u001b[43m,\u001b[49m\n\u001b[1;32m    221\u001b[0m \u001b[43m    \u001b[49m\u001b[43mignore_missing_simple\u001b[49m\u001b[43m,\u001b[49m\n\u001b[1;32m    222\u001b[0m \u001b[43m    \u001b[49m\u001b[43muse_fsspec\u001b[49m\u001b[38;5;241;43m=\u001b[39;49m\u001b[43muse_fsspec\u001b[49m\u001b[43m,\u001b[49m\n\u001b[1;32m    223\u001b[0m \u001b[43m    \u001b[49m\u001b[43mfsspec_kwargs\u001b[49m\u001b[38;5;241;43m=\u001b[39;49m\u001b[43mfsspec_kwargs\u001b[49m\u001b[43m,\u001b[49m\n\u001b[1;32m    224\u001b[0m \u001b[43m    \u001b[49m\u001b[38;5;241;43m*\u001b[39;49m\u001b[38;5;241;43m*\u001b[39;49m\u001b[43mkwargs\u001b[49m\u001b[43m,\u001b[49m\n\u001b[1;32m    225\u001b[0m \u001b[43m\u001b[49m\u001b[43m)\u001b[49m\n",
      "File \u001b[0;32m~/.local/lib/python3.8/site-packages/astropy/io/fits/hdu/hdulist.py:482\u001b[0m, in \u001b[0;36mHDUList.fromfile\u001b[0;34m(cls, fileobj, mode, memmap, save_backup, cache, lazy_load_hdus, ignore_missing_simple, **kwargs)\u001b[0m\n\u001b[1;32m    462\u001b[0m \u001b[38;5;129m@classmethod\u001b[39m\n\u001b[1;32m    463\u001b[0m \u001b[38;5;28;01mdef\u001b[39;00m \u001b[38;5;21mfromfile\u001b[39m(\n\u001b[1;32m    464\u001b[0m     \u001b[38;5;28mcls\u001b[39m,\n\u001b[0;32m   (...)\u001b[0m\n\u001b[1;32m    472\u001b[0m     \u001b[38;5;241m*\u001b[39m\u001b[38;5;241m*\u001b[39mkwargs,\n\u001b[1;32m    473\u001b[0m ):\n\u001b[1;32m    474\u001b[0m     \u001b[38;5;124;03m\"\"\"\u001b[39;00m\n\u001b[1;32m    475\u001b[0m \u001b[38;5;124;03m    Creates an `HDUList` instance from a file-like object.\u001b[39;00m\n\u001b[1;32m    476\u001b[0m \n\u001b[0;32m   (...)\u001b[0m\n\u001b[1;32m    479\u001b[0m \u001b[38;5;124;03m    documentation for details of the parameters accepted by this method).\u001b[39;00m\n\u001b[1;32m    480\u001b[0m \u001b[38;5;124;03m    \"\"\"\u001b[39;00m\n\u001b[0;32m--> 482\u001b[0m     \u001b[38;5;28;01mreturn\u001b[39;00m \u001b[38;5;28;43mcls\u001b[39;49m\u001b[38;5;241;43m.\u001b[39;49m\u001b[43m_readfrom\u001b[49m\u001b[43m(\u001b[49m\n\u001b[1;32m    483\u001b[0m \u001b[43m        \u001b[49m\u001b[43mfileobj\u001b[49m\u001b[38;5;241;43m=\u001b[39;49m\u001b[43mfileobj\u001b[49m\u001b[43m,\u001b[49m\n\u001b[1;32m    484\u001b[0m \u001b[43m        \u001b[49m\u001b[43mmode\u001b[49m\u001b[38;5;241;43m=\u001b[39;49m\u001b[43mmode\u001b[49m\u001b[43m,\u001b[49m\n\u001b[1;32m    485\u001b[0m \u001b[43m        \u001b[49m\u001b[43mmemmap\u001b[49m\u001b[38;5;241;43m=\u001b[39;49m\u001b[43mmemmap\u001b[49m\u001b[43m,\u001b[49m\n\u001b[1;32m    486\u001b[0m \u001b[43m        \u001b[49m\u001b[43msave_backup\u001b[49m\u001b[38;5;241;43m=\u001b[39;49m\u001b[43msave_backup\u001b[49m\u001b[43m,\u001b[49m\n\u001b[1;32m    487\u001b[0m \u001b[43m        \u001b[49m\u001b[43mcache\u001b[49m\u001b[38;5;241;43m=\u001b[39;49m\u001b[43mcache\u001b[49m\u001b[43m,\u001b[49m\n\u001b[1;32m    488\u001b[0m \u001b[43m        \u001b[49m\u001b[43mignore_missing_simple\u001b[49m\u001b[38;5;241;43m=\u001b[39;49m\u001b[43mignore_missing_simple\u001b[49m\u001b[43m,\u001b[49m\n\u001b[1;32m    489\u001b[0m \u001b[43m        \u001b[49m\u001b[43mlazy_load_hdus\u001b[49m\u001b[38;5;241;43m=\u001b[39;49m\u001b[43mlazy_load_hdus\u001b[49m\u001b[43m,\u001b[49m\n\u001b[1;32m    490\u001b[0m \u001b[43m        \u001b[49m\u001b[38;5;241;43m*\u001b[39;49m\u001b[38;5;241;43m*\u001b[39;49m\u001b[43mkwargs\u001b[49m\u001b[43m,\u001b[49m\n\u001b[1;32m    491\u001b[0m \u001b[43m    \u001b[49m\u001b[43m)\u001b[49m\n",
      "File \u001b[0;32m~/.local/lib/python3.8/site-packages/astropy/io/fits/hdu/hdulist.py:1170\u001b[0m, in \u001b[0;36mHDUList._readfrom\u001b[0;34m(cls, fileobj, data, mode, memmap, cache, lazy_load_hdus, ignore_missing_simple, use_fsspec, fsspec_kwargs, **kwargs)\u001b[0m\n\u001b[1;32m   1167\u001b[0m \u001b[38;5;28;01mif\u001b[39;00m fileobj \u001b[38;5;129;01mis\u001b[39;00m \u001b[38;5;129;01mnot\u001b[39;00m \u001b[38;5;28;01mNone\u001b[39;00m:\n\u001b[1;32m   1168\u001b[0m     \u001b[38;5;28;01mif\u001b[39;00m \u001b[38;5;129;01mnot\u001b[39;00m \u001b[38;5;28misinstance\u001b[39m(fileobj, _File):\n\u001b[1;32m   1169\u001b[0m         \u001b[38;5;66;03m# instantiate a FITS file object (ffo)\u001b[39;00m\n\u001b[0;32m-> 1170\u001b[0m         fileobj \u001b[38;5;241m=\u001b[39m \u001b[43m_File\u001b[49m\u001b[43m(\u001b[49m\n\u001b[1;32m   1171\u001b[0m \u001b[43m            \u001b[49m\u001b[43mfileobj\u001b[49m\u001b[43m,\u001b[49m\n\u001b[1;32m   1172\u001b[0m \u001b[43m            \u001b[49m\u001b[43mmode\u001b[49m\u001b[38;5;241;43m=\u001b[39;49m\u001b[43mmode\u001b[49m\u001b[43m,\u001b[49m\n\u001b[1;32m   1173\u001b[0m \u001b[43m            \u001b[49m\u001b[43mmemmap\u001b[49m\u001b[38;5;241;43m=\u001b[39;49m\u001b[43mmemmap\u001b[49m\u001b[43m,\u001b[49m\n\u001b[1;32m   1174\u001b[0m \u001b[43m            \u001b[49m\u001b[43mcache\u001b[49m\u001b[38;5;241;43m=\u001b[39;49m\u001b[43mcache\u001b[49m\u001b[43m,\u001b[49m\n\u001b[1;32m   1175\u001b[0m \u001b[43m            \u001b[49m\u001b[43muse_fsspec\u001b[49m\u001b[38;5;241;43m=\u001b[39;49m\u001b[43muse_fsspec\u001b[49m\u001b[43m,\u001b[49m\n\u001b[1;32m   1176\u001b[0m \u001b[43m            \u001b[49m\u001b[43mfsspec_kwargs\u001b[49m\u001b[38;5;241;43m=\u001b[39;49m\u001b[43mfsspec_kwargs\u001b[49m\u001b[43m,\u001b[49m\n\u001b[1;32m   1177\u001b[0m \u001b[43m        \u001b[49m\u001b[43m)\u001b[49m\n\u001b[1;32m   1178\u001b[0m     \u001b[38;5;66;03m# The Astropy mode is determined by the _File initializer if the\u001b[39;00m\n\u001b[1;32m   1179\u001b[0m     \u001b[38;5;66;03m# supplied mode was None\u001b[39;00m\n\u001b[1;32m   1180\u001b[0m     mode \u001b[38;5;241m=\u001b[39m fileobj\u001b[38;5;241m.\u001b[39mmode\n",
      "File \u001b[0;32m~/.local/lib/python3.8/site-packages/astropy/io/fits/file.py:218\u001b[0m, in \u001b[0;36m_File.__init__\u001b[0;34m(self, fileobj, mode, memmap, overwrite, cache, use_fsspec, fsspec_kwargs)\u001b[0m\n\u001b[1;32m    216\u001b[0m     \u001b[38;5;28mself\u001b[39m\u001b[38;5;241m.\u001b[39m_open_fileobj(fileobj, mode, overwrite)\n\u001b[1;32m    217\u001b[0m \u001b[38;5;28;01melif\u001b[39;00m \u001b[38;5;28misinstance\u001b[39m(fileobj, (\u001b[38;5;28mstr\u001b[39m, \u001b[38;5;28mbytes\u001b[39m)):\n\u001b[0;32m--> 218\u001b[0m     \u001b[38;5;28;43mself\u001b[39;49m\u001b[38;5;241;43m.\u001b[39;49m\u001b[43m_open_filename\u001b[49m\u001b[43m(\u001b[49m\u001b[43mfileobj\u001b[49m\u001b[43m,\u001b[49m\u001b[43m \u001b[49m\u001b[43mmode\u001b[49m\u001b[43m,\u001b[49m\u001b[43m \u001b[49m\u001b[43moverwrite\u001b[49m\u001b[43m)\u001b[49m\n\u001b[1;32m    219\u001b[0m \u001b[38;5;28;01melse\u001b[39;00m:\n\u001b[1;32m    220\u001b[0m     \u001b[38;5;28mself\u001b[39m\u001b[38;5;241m.\u001b[39m_open_filelike(fileobj, mode, overwrite)\n",
      "File \u001b[0;32m~/.local/lib/python3.8/site-packages/astropy/io/fits/file.py:636\u001b[0m, in \u001b[0;36m_File._open_filename\u001b[0;34m(self, filename, mode, overwrite)\u001b[0m\n\u001b[1;32m    633\u001b[0m ext \u001b[38;5;241m=\u001b[39m os\u001b[38;5;241m.\u001b[39mpath\u001b[38;5;241m.\u001b[39msplitext(\u001b[38;5;28mself\u001b[39m\u001b[38;5;241m.\u001b[39mname)[\u001b[38;5;241m1\u001b[39m]\n\u001b[1;32m    635\u001b[0m \u001b[38;5;28;01mif\u001b[39;00m \u001b[38;5;129;01mnot\u001b[39;00m \u001b[38;5;28mself\u001b[39m\u001b[38;5;241m.\u001b[39m_try_read_compressed(\u001b[38;5;28mself\u001b[39m\u001b[38;5;241m.\u001b[39mname, magic, mode, ext\u001b[38;5;241m=\u001b[39mext):\n\u001b[0;32m--> 636\u001b[0m     \u001b[38;5;28mself\u001b[39m\u001b[38;5;241m.\u001b[39m_file \u001b[38;5;241m=\u001b[39m \u001b[38;5;28;43mopen\u001b[39;49m\u001b[43m(\u001b[49m\u001b[38;5;28;43mself\u001b[39;49m\u001b[38;5;241;43m.\u001b[39;49m\u001b[43mname\u001b[49m\u001b[43m,\u001b[49m\u001b[43m \u001b[49m\u001b[43mIO_FITS_MODES\u001b[49m\u001b[43m[\u001b[49m\u001b[43mmode\u001b[49m\u001b[43m]\u001b[49m\u001b[43m)\u001b[49m\n\u001b[1;32m    637\u001b[0m     \u001b[38;5;28mself\u001b[39m\u001b[38;5;241m.\u001b[39mclose_on_error \u001b[38;5;241m=\u001b[39m \u001b[38;5;28;01mTrue\u001b[39;00m\n\u001b[1;32m    639\u001b[0m \u001b[38;5;66;03m# Make certain we're back at the beginning of the file\u001b[39;00m\n\u001b[1;32m    640\u001b[0m \u001b[38;5;66;03m# BZ2File does not support seek when the file is open for writing, but\u001b[39;00m\n\u001b[1;32m    641\u001b[0m \u001b[38;5;66;03m# when opening a file for write, bz2.BZ2File always truncates anyway.\u001b[39;00m\n",
      "\u001b[0;31mFileNotFoundError\u001b[0m: [Errno 2] No such file or directory: '/home/nico/universidad/dustmap/sfd/SFD_dust_4096_ngp.fits'"
     ]
    }
   ],
   "source": [
    "sample = pd.read_csv(\"skiff_UCAC4_topcat_labels.csv\")\n",
    "sample = sample.loc[sample[\"label\"]!=2].reset_index(drop=True)\n",
    "\n",
    "data = {\n",
    "    \"Bmag\": 3.626,\n",
    "    \"Vmag\": 2.742,\n",
    "    \"Gmag\": 3.303,\n",
    "    \"Rmag\": 2.285,\n",
    "    \"Imag\": 1.698,\n",
    "    \"Jmag\": 0.709,\n",
    "    \"Hmag\": 0.449,\n",
    "    \"Kmag\": 0.302\n",
    "}\n",
    "\n",
    "coords = SkyCoord(sample[\"_RAJ2000\"],sample[\"_DEJ2000\"], unit='deg').galactic\n",
    "sfd = SFDQuery()\n",
    "sample[\"ebv\"] = sfd(coords)\n",
    "\n",
    "for key, value in data.items():\n",
    "    sample[key] = sample[key] - (value * sample[\"ebv\"])\n",
    "    \n",
    "mag_features = sample[['Jmag', 'Hmag', 'Kmag', 'Bmag', 'Vmag',\n",
    "       'Gmag', 'Rmag', 'Imag']]\n",
    "\n",
    "df_rf = sample[[\"Name\",\"label\"]].reset_index(drop=True)\n",
    "\n",
    "from itertools import combinations\n",
    "for v in combinations(mag_features, 2):\n",
    "    df_rf[f\"{v[0]}-{v[1]}\"] = sample[v[0]] - sample[v[1]]"
   ]
  },
  {
   "cell_type": "code",
   "execution_count": null,
   "id": "f67c5c93",
   "metadata": {},
   "outputs": [],
   "source": [
    "X_train, X_test, y_train, y_test = train_test_split(df_rf.drop(columns={\"Name\",\"label\"}),\n",
    "                                                    df_rf[\"label\"], test_size=0.2, random_state=42)\n",
    "\n",
    "\n",
    "\n",
    "# Definir el modelo\n",
    "model = BalancedRandomForestClassifier(random_state=42)\n",
    "model.fit(X_train, y_train)\n",
    "\n",
    "y_predict = model.predict(X_test)\n",
    "\n",
    "resultados = pd.DataFrame({\"y_predict\":y_predict,\"y_test\":y_test})\n",
    "\n",
    "print(classification_report(y_test, y_predict))\n",
    "\n",
    "\n",
    "import matplotlib.pyplot as plt\n",
    "\n",
    "# Datos de ejemplo\n",
    "x = model.feature_names_in_\n",
    "y = model.feature_importances_\n",
    "\n",
    "# Crear el gráfico de barras\n",
    "plt.bar(x, y)\n",
    "\n",
    "# Opcional: Personalizar el gráfico\n",
    "plt.ylabel('Importance')\n",
    "plt.title('Importancia Filtros Sin corrección')\n",
    "plt.xticks(rotation='vertical')\n",
    "\n",
    "# Mostrar el gráfico\n",
    "plt.show()\n"
   ]
  },
  {
   "cell_type": "markdown",
   "id": "f0e4496a",
   "metadata": {},
   "source": [
    "## Resta consecutiva corregida"
   ]
  },
  {
   "cell_type": "code",
   "execution_count": 91,
   "id": "ebbc8326",
   "metadata": {},
   "outputs": [
    {
     "name": "stderr",
     "output_type": "stream",
     "text": [
      "/tmp/ipykernel_6276/1201379821.py:1: DtypeWarning: Columns (5,42,47,48,52) have mixed types. Specify dtype option on import or set low_memory=False.\n",
      "  df = pd.read_csv(\"skiff_UCAC4_topcat_labels.csv\")\n"
     ]
    },
    {
     "name": "stdout",
     "output_type": "stream",
     "text": [
      "              precision    recall  f1-score   support\n",
      "\n",
      "         0.0       1.00      0.83      0.91     68640\n",
      "         1.0       0.02      0.92      0.04       287\n",
      "\n",
      "    accuracy                           0.83     68927\n",
      "   macro avg       0.51      0.87      0.47     68927\n",
      "weighted avg       1.00      0.83      0.90     68927\n",
      "\n"
     ]
    },
    {
     "data": {
      "image/png": "[encoded data removed]",
      "text/plain": [
       "<Figure size 640x480 with 1 Axes>"
      ]
     },
     "metadata": {},
     "output_type": "display_data"
    }
   ],
   "source": [
    "df = pd.read_csv(\"skiff_UCAC4_topcat_labels.csv\")\n",
    "sample = df.loc[df[\"prepro\"]==1].reset_index(drop=True)\n",
    "\n",
    "data = {\n",
    "    \"Bmag\": 3.626,\n",
    "    \"Vmag\": 2.742,\n",
    "    \"Gmag\": 3.303,\n",
    "    \"Rmag\": 2.285,\n",
    "    \"Imag\": 1.698,\n",
    "    \"Jmag\": 0.709,\n",
    "    \"Hmag\": 0.449,\n",
    "    \"Kmag\": 0.302\n",
    "}\n",
    "\n",
    "coords = SkyCoord(sample[\"_RAJ2000\"],sample[\"_DEJ2000\"], unit='deg').galactic\n",
    "sfd = SFDQuery()\n",
    "sample[\"ebv\"] = sfd(coords)\n",
    "\n",
    "for key, value in data.items():\n",
    "    sample[key] = sample[key] - (value * sample[\"ebv\"])\n",
    "    \n",
    "mag_features = sample[['Jmag', 'Hmag', 'Kmag', 'Bmag', 'Vmag',\n",
    "       'Gmag', 'Rmag', 'Imag']]\n",
    "\n",
    "\n",
    "df_rf = sample[[\"Name\",\"label\"]].reset_index(drop=True)\n",
    "\n",
    "for v in combinaciones :\n",
    "    magnitudes = v.split(\"-\")\n",
    "    df_rf[v] = sample[magnitudes[0]] - sample[magnitudes[1]]\n",
    "    \n",
    "    \n",
    "\n",
    "X_train, X_test, y_train, y_test = train_test_split(df_rf.drop(columns={\"Name\",\"label\"}),\n",
    "                                                    df_rf[\"label\"], test_size=0.2, random_state=42)\n",
    "\n",
    "\n",
    "\n",
    "# Definir el modelo\n",
    "model = BalancedRandomForestClassifier(random_state=42)\n",
    "model.fit(X_train, y_train)\n",
    "\n",
    "y_predict = model.predict(X_test)\n",
    "\n",
    "resultados = pd.DataFrame({\"y_predict\":y_predict,\"y_test\":y_test})\n",
    "\n",
    "print(classification_report(y_test, y_predict))\n",
    "\n",
    "\n",
    "import matplotlib.pyplot as plt\n",
    "\n",
    "# Datos de ejemplo\n",
    "x = model.feature_names_in_\n",
    "y = model.feature_importances_\n",
    "\n",
    "# Crear el gráfico de barras\n",
    "plt.bar(x, y)\n",
    "\n",
    "# Opcional: Personalizar el gráfico\n",
    "plt.ylabel('Importance')\n",
    "plt.title('Importancia Filtros Sin corrección')\n",
    "plt.xticks(rotation='vertical')\n",
    "\n",
    "# Mostrar el gráfico\n",
    "plt.show()\n"
   ]
  },
  {
   "cell_type": "markdown",
   "id": "16feb192",
   "metadata": {},
   "source": [
    "### Pareciera que lo que anda mejor son los colores sin corrección"
   ]
  },
  {
   "cell_type": "code",
   "execution_count": 131,
   "id": "2100ec28",
   "metadata": {},
   "outputs": [
    {
     "name": "stderr",
     "output_type": "stream",
     "text": [
      "/tmp/ipykernel_22667/3528597407.py:1: DtypeWarning: Columns (5,42,47,48) have mixed types. Specify dtype option on import or set low_memory=False.\n",
      "  sample = pd.read_csv(\"skiff_UCAC4_topcat_labels_split.csv\")\n"
     ]
    }
   ],
   "source": [
    "sample = pd.read_csv(\"skiff_UCAC4_topcat_labels_split.csv\")\n",
    "mag_features = sample[['Jmag', 'Hmag', 'Kmag', 'Bmag', 'Vmag',\n",
    "       'Gmag', 'Rmag', 'Imag']]\n",
    "df_rf = sample[[\"Name\",\"label\"]].reset_index(drop=True)"
   ]
  },
  {
   "cell_type": "code",
   "execution_count": 132,
   "id": "c3b79786",
   "metadata": {},
   "outputs": [],
   "source": [
    "from itertools import combinations\n",
    "for v in combinations(mag_features, 2):\n",
    "    df_rf[f\"{v[0]}-{v[1]}\"] = sample[v[0]] - sample[v[1]]"
   ]
  },
  {
   "cell_type": "code",
   "execution_count": 133,
   "id": "bfe31573",
   "metadata": {},
   "outputs": [],
   "source": [
    "loaded_model = joblib.load('r_f_sin_correccion.joblib')\n"
   ]
  },
  {
   "cell_type": "code",
   "execution_count": 141,
   "id": "8befe4d9",
   "metadata": {},
   "outputs": [],
   "source": [
    "sample[\"predict\"] = loaded_model.predict(df_rf.drop(columns=[\"Name\",\"label\"]))\n",
    "sample[[\"p1\",\"p2\"]] = loaded_model.predict_proba(df_rf.drop(columns=[\"Name\",\"label\"]))"
   ]
  },
  {
   "cell_type": "code",
   "execution_count": 169,
   "id": "db23097b",
   "metadata": {},
   "outputs": [],
   "source": [
    "sample = sample.loc[(sample[\"predict\"]==1)|(sample[\"label\"]==1)|(sample[\"label\"]==2)].reset_index(drop=True)"
   ]
  },
  {
   "cell_type": "code",
   "execution_count": 170,
   "id": "f0039814",
   "metadata": {},
   "outputs": [],
   "source": [
    "sample.to_csv(\"catalog_filtros_colores.csv\",index=False)"
   ]
  }
 ],
 "metadata": {
  "kernelspec": {
   "display_name": "Python 3 (ipykernel)",
   "language": "python",
   "name": "python3"
  },
  "language_info": {
   "codemirror_mode": {
    "name": "ipython",
    "version": 3
   },
   "file_extension": ".py",
   "mimetype": "text/x-python",
   "name": "python",
   "nbconvert_exporter": "python",
   "pygments_lexer": "ipython3",
   "version": "3.9.18"
  }
 },
 "nbformat": 4,
 "nbformat_minor": 5
}
