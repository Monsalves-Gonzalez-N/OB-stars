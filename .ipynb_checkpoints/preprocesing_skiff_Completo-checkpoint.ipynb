{
 "cells": [
  {
   "cell_type": "code",
   "execution_count": 3,
   "id": "9d1e7008",
   "metadata": {},
   "outputs": [
    {
     "name": "stderr",
     "output_type": "stream",
     "text": [
      "2023-11-27 11:23:49.386555: I tensorflow/core/util/port.cc:111] oneDNN custom operations are on. You may see slightly different numerical results due to floating-point round-off errors from different computation orders. To turn them off, set the environment variable `TF_ENABLE_ONEDNN_OPTS=0`.\n",
      "2023-11-27 11:23:49.387814: I tensorflow/tsl/cuda/cudart_stub.cc:28] Could not find cuda drivers on your machine, GPU will not be used.\n",
      "2023-11-27 11:23:49.405415: E tensorflow/compiler/xla/stream_executor/cuda/cuda_dnn.cc:9342] Unable to register cuDNN factory: Attempting to register factory for plugin cuDNN when one has already been registered\n",
      "2023-11-27 11:23:49.405429: E tensorflow/compiler/xla/stream_executor/cuda/cuda_fft.cc:609] Unable to register cuFFT factory: Attempting to register factory for plugin cuFFT when one has already been registered\n",
      "2023-11-27 11:23:49.405441: E tensorflow/compiler/xla/stream_executor/cuda/cuda_blas.cc:1518] Unable to register cuBLAS factory: Attempting to register factory for plugin cuBLAS when one has already been registered\n",
      "2023-11-27 11:23:49.409160: I tensorflow/tsl/cuda/cudart_stub.cc:28] Could not find cuda drivers on your machine, GPU will not be used.\n",
      "2023-11-27 11:23:49.409474: I tensorflow/core/platform/cpu_feature_guard.cc:182] This TensorFlow binary is optimized to use available CPU instructions in performance-critical operations.\n",
      "To enable the following instructions: AVX2 AVX_VNNI FMA, in other operations, rebuild TensorFlow with the appropriate compiler flags.\n",
      "2023-11-27 11:23:49.752645: W tensorflow/compiler/tf2tensorrt/utils/py_utils.cc:38] TF-TRT Warning: Could not find TensorRT\n"
     ]
    }
   ],
   "source": [
    "import pandas as pd\n",
    "import ray\n",
    "import seaborn as sns\n",
    "import matplotlib.pyplot as plt\n",
    "import tensorflow as tf\n",
    "import plotly.graph_objects as go\n",
    "from itertools import combinations\n",
    "from sklearn.preprocessing import LabelEncoder, StandardScaler\n",
    "from sklearn.model_selection import (train_test_split, GridSearchCV,\n",
    "                                    StratifiedKFold, StratifiedShuffleSplit,\n",
    "                                    cross_val_score)\n",
    "from sklearn.metrics import make_scorer, recall_score, precision_score, f1_score, classification_report\n",
    "from imblearn.ensemble import BalancedRandomForestClassifier\n",
    "import numpy as np\n",
    "import joblib\n",
    "from pandarallel import pandarallel\n",
    "from sklearn.preprocessing import LabelEncoder, StandardScaler\n",
    "import re"
   ]
  },
  {
   "cell_type": "code",
   "execution_count": 4,
   "id": "1e86f6c8",
   "metadata": {},
   "outputs": [],
   "source": [
    "def busqueda(expression,column,name=None):\n",
    "    if column is np.nan:\n",
    "        return np.nan\n",
    "    m = re.search(expression,column)\n",
    "    if m == None:\n",
    "        return np.nan\n",
    "    if name != None:\n",
    "        return name\n",
    "    else :\n",
    "        return m.group(0)"
   ]
  },
  {
   "cell_type": "code",
   "execution_count": 71,
   "id": "016880e4",
   "metadata": {},
   "outputs": [],
   "source": [
    "df_1 = pd.read_csv(\"/home/nicolas/nico/Data/Masivas/data_correccion_zari/skiff_completo.csv\")"
   ]
  },
  {
   "cell_type": "code",
   "execution_count": 6,
   "id": "22b913a4-2764-44f0-a54c-f060826644af",
   "metadata": {},
   "outputs": [],
   "source": [
    "skiff = df_1[['Name',\"SpType\",'Bibcode','GroupID']].astype(str)"
   ]
  },
  {
   "cell_type": "code",
   "execution_count": 7,
   "id": "f7fd4e33-d67b-41c0-995f-2f13835ea76a",
   "metadata": {},
   "outputs": [],
   "source": [
    "skiff['skiff_type'] = skiff['SpType'].replace('nan', np.nan)\n",
    "skiff['Bibcode'] = skiff['Bibcode'].replace('nan', np.nan)\n",
    "skiff['GroupID'] = skiff['GroupID'].replace('nan', np.nan)"
   ]
  },
  {
   "cell_type": "code",
   "execution_count": 8,
   "id": "6b5de6b6-827c-4599-affa-a128730996f1",
   "metadata": {},
   "outputs": [],
   "source": [
    "skiff = skiff.loc[skiff['skiff_type'].notna()]"
   ]
  },
  {
   "cell_type": "code",
   "execution_count": 9,
   "id": "681a175e-ab3e-4bb5-9cd7-87bae13664b5",
   "metadata": {},
   "outputs": [],
   "source": [
    "skiff[\"skiff_mk\"] = skiff.apply(lambda row: busqueda(r\"^(?!.*[+/])[a-zA-Z]\\d+(?:\\.\\d+)?\",row[\"skiff_type\"]),axis=1)"
   ]
  },
  {
   "cell_type": "code",
   "execution_count": 10,
   "id": "44ba926a",
   "metadata": {},
   "outputs": [],
   "source": [
    "#problema con la regular expression que solucionare de esta forma"
   ]
  },
  {
   "cell_type": "code",
   "execution_count": 11,
   "id": "5f73dea7-9adf-4e36-beed-4e362a200339",
   "metadata": {},
   "outputs": [],
   "source": [
    "skiff.loc[(skiff['skiff_mk'].isna())&(skiff['skiff_type'].str[:2]=='em'),'skiff_mk'] = 'em_WR_Be'\n",
    "skiff.loc[skiff['skiff_mk'].isna(),'skiff_mk'] = skiff.loc[skiff['skiff_mk'].isna()].apply(lambda row: busqueda(r\"WR|WN|WC\", row[\"skiff_type\"],'em_WR_Be'), axis=1)\n",
    "skiff.loc[skiff['skiff_mk'].isna(),'skiff_mk'] = skiff.loc[skiff['skiff_mk'].isna()].apply(lambda row: busqueda(r\"Be\", row[\"skiff_type\"],'em_WR_Be'), axis=1)\n",
    "skiff.loc[skiff['skiff_mk'].isna(),'skiff_mk'] = skiff.loc[skiff['skiff_mk'].isna()].apply(lambda row: busqueda(r\"OB\", row[\"skiff_type\"]), axis=1)"
   ]
  },
  {
   "cell_type": "code",
   "execution_count": 12,
   "id": "7e7b3277-cb66-4362-8c13-50c4cf5389fa",
   "metadata": {},
   "outputs": [],
   "source": [
    "skiff.loc[(skiff['skiff_mk'].isna())&(skiff['skiff_type'].str[0]=='h'),'skiff_mk'] = skiff.loc[(skiff['skiff_mk'].isna())&(skiff['skiff_type'].str[0]=='h')]['skiff_type'].str[1:3]"
   ]
  },
  {
   "cell_type": "code",
   "execution_count": 13,
   "id": "708319d0-8bcb-478b-92f2-278aefc6f77d",
   "metadata": {},
   "outputs": [],
   "source": [
    "def busqueda_2(pattern, string, default=None):\n",
    "    match = re.search(pattern, string)\n",
    "    if match:\n",
    "        return match.group(1)  # Retornamos el primer grupo de captura\n",
    "    return default\n",
    "\n",
    "skiff.loc[skiff['skiff_mk'].isna(),'skiff_mk'] = skiff.loc[skiff['skiff_mk'].isna()].apply(lambda row: busqueda_2(r\"^(.*?)(?=(V|IV|III|II|Ia|Ib|Iab)(?:/(V|IV|III|II|Ia|Ib|Iab))?$)\", row[\"skiff_type\"]), axis=1)\n"
   ]
  },
  {
   "cell_type": "code",
   "execution_count": 14,
   "id": "22b75a0e-5660-4cbb-b265-3facd1ad7b9a",
   "metadata": {},
   "outputs": [],
   "source": [
    "skiff.loc[skiff['skiff_mk'].isna(),'skiff_mk'] = skiff.loc[skiff['skiff_mk'].isna()].apply(lambda row: busqueda(r\"^(O|B|A|F|G|K|M)$\", row[\"skiff_type\"]), axis=1)\n"
   ]
  },
  {
   "cell_type": "code",
   "execution_count": 15,
   "id": "f3a76a16-85ea-426d-8a9d-a987dd2a1be2",
   "metadata": {},
   "outputs": [],
   "source": [
    "skiff.loc[(skiff['skiff_type']=='Ofe'),'skiff_mk'] = 'em_WR_Be'"
   ]
  },
  {
   "cell_type": "code",
   "execution_count": 16,
   "id": "42da5a21-fe3b-4b87-8cfc-e618de06ee36",
   "metadata": {},
   "outputs": [],
   "source": [
    "skiff.loc[skiff['skiff_mk'].isna(),'skiff_mk'] = skiff.loc[skiff['skiff_mk'].isna()].apply(lambda row: busqueda(r\"e\", row[\"skiff_type\"],'em_WR_Be'), axis=1)\n"
   ]
  },
  {
   "cell_type": "code",
   "execution_count": 17,
   "id": "17abe6fd-6171-4230-b36c-3c438a84e4c9",
   "metadata": {},
   "outputs": [],
   "source": [
    "skiff.loc[skiff['skiff_mk'].isna(),'skiff_mk'] = skiff.loc[skiff['skiff_mk'].isna()].apply(lambda row: busqueda(r\"^(O|B|A|F|G|K|M)(\\d*(\\.\\d*)?)?(\\/(\\d*(\\.\\d*)?)?)?\", row[\"skiff_type\"]), axis=1)"
   ]
  },
  {
   "cell_type": "code",
   "execution_count": 18,
   "id": "019ad43b-9220-4526-9b97-b07520380acd",
   "metadata": {},
   "outputs": [],
   "source": [
    "skiff_mk = skiff.loc[(skiff['skiff_mk']!='em_WR_Be')&(skiff['skiff_mk']!='OB')&(skiff['skiff_mk'].notna())]"
   ]
  },
  {
   "cell_type": "code",
   "execution_count": 19,
   "id": "c61d5326",
   "metadata": {},
   "outputs": [],
   "source": [
    "#correccion de las regular expression que dejaban tipos espectrales de la forma \n",
    "#O2/B0 --> O2/\n",
    "correccion = skiff_mk.loc[skiff_mk[\"skiff_mk\"].str[-1] ==\"/\"].apply(lambda row: busqueda(r\"[a-zA-Z]\\d*(?:\\.\\d+)?/[a-zA-Z]\\d*(?:\\.\\d+)?\", row[\"skiff_type\"]), axis=1)\n",
    "skiff_mk.loc[skiff_mk[\"skiff_mk\"].str[-1] ==\"/\",\"skiff_mk\"] = correccion"
   ]
  },
  {
   "cell_type": "code",
   "execution_count": 20,
   "id": "9405f5b4-c798-49f4-8abf-93015563c84f",
   "metadata": {},
   "outputs": [
    {
     "name": "stderr",
     "output_type": "stream",
     "text": [
      "/tmp/ipykernel_10668/2992802417.py:1: SettingWithCopyWarning: \n",
      "A value is trying to be set on a copy of a slice from a DataFrame.\n",
      "Try using .loc[row_indexer,col_indexer] = value instead\n",
      "\n",
      "See the caveats in the documentation: https://pandas.pydata.org/pandas-docs/stable/user_guide/indexing.html#returning-a-view-versus-a-copy\n",
      "  skiff_mk['skiff_mk'] = skiff_mk['skiff_mk'].str.replace('.', '')\n"
     ]
    }
   ],
   "source": [
    "skiff_mk['skiff_mk'] = skiff_mk['skiff_mk'].str.replace('.', '')"
   ]
  },
  {
   "cell_type": "code",
   "execution_count": 21,
   "id": "3d83e2e0-1b9c-4b0d-8c81-4837327c09d8",
   "metadata": {},
   "outputs": [],
   "source": [
    "replace_map = {\n",
    "    'O': '0.',\n",
    "    'B': '1.',\n",
    "    'A': '2.',\n",
    "    'F': '3.',\n",
    "    'G': '4.',\n",
    "    'K': '5.',\n",
    "    'M': '6.'\n",
    "}"
   ]
  },
  {
   "cell_type": "code",
   "execution_count": 22,
   "id": "faab775d-0a5e-4081-add8-b47848c141a4",
   "metadata": {},
   "outputs": [
    {
     "name": "stderr",
     "output_type": "stream",
     "text": [
      "/tmp/ipykernel_10668/2936214468.py:1: SettingWithCopyWarning: \n",
      "A value is trying to be set on a copy of a slice from a DataFrame.\n",
      "Try using .loc[row_indexer,col_indexer] = value instead\n",
      "\n",
      "See the caveats in the documentation: https://pandas.pydata.org/pandas-docs/stable/user_guide/indexing.html#returning-a-view-versus-a-copy\n",
      "  skiff_mk['skiff_mk'] = skiff_mk['skiff_mk'].replace(replace_map, regex=True)\n"
     ]
    }
   ],
   "source": [
    "skiff_mk['skiff_mk'] = skiff_mk['skiff_mk'].replace(replace_map, regex=True)\n"
   ]
  },
  {
   "cell_type": "code",
   "execution_count": 23,
   "id": "3de3496f-ae4a-43d2-89a6-f75d42b8c841",
   "metadata": {},
   "outputs": [
    {
     "name": "stdout",
     "output_type": "stream",
     "text": [
      "0.97\n"
     ]
    }
   ],
   "source": [
    "import re\n",
    "\n",
    "def extract_first_float(s):\n",
    "    match = re.search(r\"(\\d{1,2}(?:\\.\\d{1,2})?)\", s)\n",
    "    return float(match.group()) if match else None\n",
    "\n",
    "s = '0.97Ib + 0.9'\n",
    "number = extract_first_float(s)\n",
    "print(number)\n"
   ]
  },
  {
   "cell_type": "code",
   "execution_count": 24,
   "id": "81a96f34-b695-45f3-93b8-583af5011fc6",
   "metadata": {},
   "outputs": [],
   "source": [
    "skiff_mk = skiff_mk[skiff_mk['skiff_mk'].str.split('/').str[0].str.len() !=1].reset_index(drop=True)"
   ]
  },
  {
   "cell_type": "code",
   "execution_count": 25,
   "id": "abcb6d56-a6c3-4504-b704-7c25c75f4f2a",
   "metadata": {},
   "outputs": [],
   "source": [
    "n1 = skiff_mk['skiff_mk'].str.split('/').str[0].reset_index(drop=True)"
   ]
  },
  {
   "cell_type": "code",
   "execution_count": 26,
   "id": "2d62a675",
   "metadata": {},
   "outputs": [],
   "source": [
    "n1 = pd.DataFrame(n1).apply(lambda row: busqueda(r'(?<!\\S)\\d+\\.\\d*(?!\\S)',row[\"skiff_mk\"]),axis=1)  \n"
   ]
  },
  {
   "cell_type": "code",
   "execution_count": 27,
   "id": "c0a02dd2",
   "metadata": {},
   "outputs": [],
   "source": [
    "n1 = n1.loc[n1.notna()]\n",
    "#skiff_mk = skiff_mk.loc[n1.index]"
   ]
  },
  {
   "cell_type": "code",
   "execution_count": 28,
   "id": "bc0d715c-411f-4c42-8d86-486966a4de28",
   "metadata": {},
   "outputs": [],
   "source": [
    "n1 = n1.astype(\"str\").apply(extract_first_float)"
   ]
  },
  {
   "cell_type": "code",
   "execution_count": 29,
   "id": "1d041051-3f5e-43c0-9dbb-16ecb6571b26",
   "metadata": {},
   "outputs": [],
   "source": [
    "entero = n1.astype(str).str.split('.').str[0]\n",
    "decimal = n1.astype(str).str.split('.').str[1]"
   ]
  },
  {
   "cell_type": "code",
   "execution_count": 30,
   "id": "930283c6-9d20-4736-9c19-57508faa985c",
   "metadata": {},
   "outputs": [],
   "source": [
    "n2 = skiff_mk['skiff_mk'].str.split('/').str[1].replace(np.nan,0).replace('',0).astype(str).reset_index(drop=True)"
   ]
  },
  {
   "cell_type": "code",
   "execution_count": 31,
   "id": "3402429f-b762-4c17-803e-365ede577cbe",
   "metadata": {},
   "outputs": [],
   "source": [
    "decimal  = '0.'+decimal\n",
    "n2  = '0.'+n2"
   ]
  },
  {
   "cell_type": "code",
   "execution_count": 32,
   "id": "c0eac1ba-61ad-48e3-b49e-2428db39283c",
   "metadata": {},
   "outputs": [],
   "source": [
    "n2 = n2.astype(str).apply(extract_first_float)\n",
    "decimal = decimal.astype(str).apply(extract_first_float)"
   ]
  },
  {
   "cell_type": "code",
   "execution_count": 33,
   "id": "f55e38e4-18c6-43ac-8cfb-a405ae8b391e",
   "metadata": {},
   "outputs": [],
   "source": [
    "n2.loc[n2 > 0] = n2.loc[n2 > 0] / 2\n",
    "decimal.loc[n2 > 0] = decimal.loc[n2 > 0] / 2\n"
   ]
  },
  {
   "cell_type": "code",
   "execution_count": 34,
   "id": "b6d731ca-78fe-4356-969e-7686c01ef328",
   "metadata": {},
   "outputs": [],
   "source": [
    "skiff_mk.loc[decimal.index,'label'] = entero.astype(int) + (decimal + n2)"
   ]
  },
  {
   "cell_type": "code",
   "execution_count": 35,
   "id": "20bf5282",
   "metadata": {},
   "outputs": [],
   "source": [
    "correccion_00 = skiff_mk.loc[skiff_mk[\"label\"]==0.0].apply(lambda row: busqueda(r\"O(?:N|C)?\\d*(?:\\.\\d+)?\",row[\"skiff_type\"]),axis=1)"
   ]
  },
  {
   "cell_type": "code",
   "execution_count": 36,
   "id": "2bae79bf",
   "metadata": {},
   "outputs": [],
   "source": [
    "correccion_00 = correccion_00.str.replace(\"N\",\"\").str.replace(\"C\",\"\").str.replace(\".\",\"\").str.replace(\"O\",\"0\")"
   ]
  },
  {
   "cell_type": "code",
   "execution_count": 37,
   "id": "41832831",
   "metadata": {},
   "outputs": [],
   "source": [
    "correccion_00 = correccion_00.str.replace(r'^(0)', r'\\1.', regex=True)"
   ]
  },
  {
   "cell_type": "code",
   "execution_count": 38,
   "id": "03740b8a",
   "metadata": {},
   "outputs": [],
   "source": [
    " skiff_mk.loc[skiff_mk[\"label\"]==0.0,\"label\"] = pd.to_numeric(correccion_00)"
   ]
  },
  {
   "cell_type": "code",
   "execution_count": 39,
   "id": "88e94a61-3d18-4c8e-a256-c7e80c0e59fc",
   "metadata": {},
   "outputs": [],
   "source": [
    "import numpy as np\n",
    "\n",
    "# Define los posibles valores\n",
    "values = [0.0, 0.1, 0.2, 0.3, 0.4, 0.5, 0.6, 0.7, 0.8, 0.9]\n",
    "\n",
    "# Selecciona las filas donde la longitud de 'skiff_type' es 1\n",
    "mask = skiff_mk['skiff_type'].str.len() == 1\n",
    "\n",
    "# Suma el valor en 'skiff_mk' con un valor aleatorio de 'values' y asigna el resultado a 'label'\n",
    "skiff_mk.loc[mask, 'label'] = skiff_mk.loc[mask, 'label'] + np.random.choice(values, size=sum(mask))\n",
    "\n"
   ]
  },
  {
   "cell_type": "code",
   "execution_count": 40,
   "id": "04687611",
   "metadata": {},
   "outputs": [],
   "source": [
    "skiff_mk[\"year\"] = skiff_mk.apply(lambda row: busqueda(r\"\\d{4}\",row[\"Bibcode\"]),axis=1)  "
   ]
  },
  {
   "cell_type": "code",
   "execution_count": 41,
   "id": "db34131c",
   "metadata": {},
   "outputs": [],
   "source": [
    "skiff_mk[\"arxiv\"] = skiff_mk.apply(lambda row: busqueda(r\"arXiv\",row[\"Bibcode\"]),axis=1)  "
   ]
  },
  {
   "cell_type": "code",
   "execution_count": 42,
   "id": "b125154b",
   "metadata": {},
   "outputs": [],
   "source": [
    "skiff_mk.loc[skiff_mk[\"arxiv\"].notna(),\"year\"] = \"20\" + skiff_mk.loc[skiff_mk[\"arxiv\"].notna()][\"year\"].astype(\"str\").str[:2]"
   ]
  },
  {
   "cell_type": "code",
   "execution_count": 43,
   "id": "28c1c39f",
   "metadata": {},
   "outputs": [],
   "source": [
    "skiff_mk[\"year\"] = pd.to_numeric(skiff_mk[\"year\"],errors=\"coerce\")"
   ]
  },
  {
   "cell_type": "code",
   "execution_count": 44,
   "id": "1f2151d6",
   "metadata": {},
   "outputs": [],
   "source": [
    "# si realmente es el mismo objeto\n",
    "#keywoard de los papers S/N y/o R\n",
    "# Pasar a numeros los tipos espectrales redondear!\n",
    "# Escribir en la tesis como determinar tipos espectrales\n",
    "stars_unicas = skiff_mk.loc[skiff_mk[\"GroupID\"].isna()]\n",
    "star_no_unicas = skiff_mk.loc[skiff_mk[\"GroupID\"].notna()]\n",
    "#df_1 = pd.concat([stars_unicas,star_no_unicas])"
   ]
  },
  {
   "cell_type": "code",
   "execution_count": 45,
   "id": "05d8cd4d",
   "metadata": {},
   "outputs": [],
   "source": [
    "star_no_unicas_sp = star_no_unicas.groupby(\"GroupID\")[\"skiff_type\"].unique().reset_index()"
   ]
  },
  {
   "cell_type": "code",
   "execution_count": 46,
   "id": "ac9cad0b",
   "metadata": {},
   "outputs": [],
   "source": [
    "star_no_unicas_sp = star_no_unicas_sp.rename(columns={\"skiff_type\":\"skiff_type_list\"})"
   ]
  },
  {
   "cell_type": "code",
   "execution_count": 47,
   "id": "aa580c5b",
   "metadata": {},
   "outputs": [],
   "source": [
    "star_no_unicas = star_no_unicas.merge(star_no_unicas_sp,how=\"left\",on=\"GroupID\")"
   ]
  },
  {
   "cell_type": "code",
   "execution_count": 48,
   "id": "7c724243",
   "metadata": {},
   "outputs": [],
   "source": [
    "# Calcula la desviación estándar dentro de cada grupo\n",
    "std_by_group = star_no_unicas.groupby(\"GroupID\")[\"label\"].transform(\"std\")\n",
    "\n",
    "# Agrega la columna al DataFrame\n",
    "star_no_unicas[\"std_sp\"] = std_by_group"
   ]
  },
  {
   "cell_type": "code",
   "execution_count": 49,
   "id": "870cba1d",
   "metadata": {},
   "outputs": [],
   "source": [
    "star_no_unicas = star_no_unicas.loc[(star_no_unicas[\"std_sp\"]<0.5)|(star_no_unicas[\"std_sp\"].isna())]"
   ]
  },
  {
   "cell_type": "code",
   "execution_count": 50,
   "id": "dfdf03ef",
   "metadata": {},
   "outputs": [],
   "source": [
    "mean_by_group = star_no_unicas.groupby(\"GroupID\")[\"label\"].transform(\"mean\")\n",
    "\n",
    "# Agrega la columna al DataFrame\n",
    "star_no_unicas[\"label\"] = mean_by_group"
   ]
  },
  {
   "cell_type": "code",
   "execution_count": 51,
   "id": "01a22996",
   "metadata": {},
   "outputs": [],
   "source": [
    "star_no_unicas = star_no_unicas.sort_values(by=\"year\",ascending=False).drop_duplicates(subset=\"GroupID\",keep='first')"
   ]
  },
  {
   "cell_type": "code",
   "execution_count": 52,
   "id": "8ecb0e92",
   "metadata": {},
   "outputs": [],
   "source": [
    "skiff_mk = pd.concat([star_no_unicas,stars_unicas])"
   ]
  },
  {
   "cell_type": "code",
   "execution_count": 55,
   "id": "2abcbab2",
   "metadata": {},
   "outputs": [
    {
     "data": {
      "image/png": "[encoded data removed]",
      "text/plain": [
       "<Figure size 1000x700 with 1 Axes>"
      ]
     },
     "metadata": {},
     "output_type": "display_data"
    }
   ],
   "source": [
    "import pandas as pd\n",
    "\n",
    "# Define the bin edges for categorization\n",
    "bins = [0, 1, 2, 3, 4, 5, 6,7]\n",
    "\n",
    "# Use pd.cut to categorize the stars into the defined bins\n",
    "skiff_mk['binned'] = pd.cut(skiff_mk['label'], bins, labels=['O', 'B', 'A', 'F', 'G', 'K', 'M'])\n",
    "\n",
    "# Count the number of occurrences in each bin\n",
    "bin_counts = skiff_mk['binned'].value_counts().sort_index()\n",
    "\n",
    "# We'll use the same sample data as before. Replace with your actual dataframe `skiff_mk['label']`.\n",
    "\n",
    "# Calculate the percentage for each bin\n",
    "\n",
    "# Plot the bar chart with a logarithmic scale\n",
    "plt.figure(figsize=(10, 7))\n",
    "ax = bin_counts.plot(kind='bar', color='black', edgecolor='black', logy=True)\n",
    "\n",
    "# Adding labels and title\n",
    "plt.xlabel('Spectral Type',size=15)\n",
    "plt.tick_params(axis='both', which='major', labelsize=12)  # Cambia '12' al tamaño deseado\n",
    "# Annotate the percentage on top of each bar\n",
    "# Anotar el conteo de cada bin encima de las barras\n",
    "for p in ax.patches:\n",
    "    ax.annotate(str(p.get_height()), (p.get_x() + p.get_width() / 2., p.get_height()), \n",
    "                ha='center', va='center', xytext=(0, 10), textcoords='offset points', fontsize=12)\n",
    "\n",
    "# Configuración adicional del eje y y mostrar el gráfico\n",
    "plt.gca().set_yticks([10, 100, 1000, 10000, 100000, 1000000])\n",
    "ax.set_xticklabels(bin_counts.index, rotation=0)\n",
    "plt.savefig(\"Skiff_27_dic.pdf\", format='pdf', bbox_inches='tight')\n",
    "plt.show()\n",
    "\n"
   ]
  },
  {
   "cell_type": "code",
   "execution_count": 62,
   "id": "52e5692b",
   "metadata": {},
   "outputs": [
    {
     "data": {
      "image/png": "[encoded data removed]",
      "text/plain": [
       "<Figure size 1000x700 with 1 Axes>"
      ]
     },
     "metadata": {},
     "output_type": "display_data"
    }
   ],
   "source": [
    "# Count the number of occurrences in each bin\n",
    "bin_counts = skiff_mk['binned'].value_counts().sort_index()\n",
    "\n",
    "# Calcula la suma acumulativa de los conteos\n",
    "cumulative_counts = bin_counts.cumsum()\n",
    "\n",
    "# Creación del gráfico de línea acumulativo\n",
    "plt.figure(figsize=(10, 7))\n",
    "ax = cumulative_counts.plot(kind='line', color='black', marker='o')\n",
    "\n",
    "# Añadir etiquetas y título\n",
    "plt.xlabel('Spectral Type', size=15)\n",
    "plt.ylabel('Cumulative Count', size=15)\n",
    "plt.tick_params(axis='both', which='major', labelsize=12)\n",
    "\n",
    "# Configuración de las etiquetas del eje x sin rotación\n",
    "#ax.set_xticklabels(cumulative_counts.index, rotation=0)\n",
    "\n",
    "# Configuración adicional del eje y y mostrar el gráfico\n",
    "#plt.savefig(\"Skiff_27_dic.pdf\", format='pdf', bbox_inches='tight')\n",
    "plt.show()\n"
   ]
  },
  {
   "cell_type": "code",
   "execution_count": 72,
   "id": "317676a7-ace9-4b86-ac3a-580fe7be1329",
   "metadata": {},
   "outputs": [],
   "source": [
    "df_1.drop(columns=['Bibcode', 'GroupID'], inplace=True)\n"
   ]
  },
  {
   "cell_type": "code",
   "execution_count": 64,
   "id": "532d170b",
   "metadata": {},
   "outputs": [],
   "source": [
    "skiff_mk.rename(columns={\"label\":\"numeric_sp\"},inplace=True)"
   ]
  },
  {
   "cell_type": "code",
   "execution_count": 73,
   "id": "4e0fbf86",
   "metadata": {},
   "outputs": [],
   "source": [
    "df_1 = df_1.merge(skiff_mk[[\"Name\",\"binned\",\"numeric_sp\",\"std_sp\",\"skiff_type_list\"]], on=['Name'], how='left')"
   ]
  },
  {
   "cell_type": "code",
   "execution_count": 76,
   "id": "7231a8ba",
   "metadata": {},
   "outputs": [],
   "source": [
    "df_1.loc[df_1[\"binned\"]==\"O\"].to_csv(\"ALL_O_in_Skiff.csv\",index=False)"
   ]
  },
  {
   "cell_type": "code",
   "execution_count": 77,
   "id": "bb8b9fa2",
   "metadata": {},
   "outputs": [],
   "source": [
    "df_1.to_csv(\"/home/nicolas/nico/Data/Masivas/data_correccion_zari/Skiff_Prep_2arcsec.csv\",index=False)"
   ]
  },
  {
   "cell_type": "code",
   "execution_count": null,
   "id": "8867e107",
   "metadata": {},
   "outputs": [],
   "source": []
  }
 ],
 "metadata": {
  "kernelspec": {
   "display_name": "Python 3 (ipykernel)",
   "language": "python",
   "name": "python3"
  },
  "language_info": {
   "codemirror_mode": {
    "name": "ipython",
    "version": 3
   },
   "file_extension": ".py",
   "mimetype": "text/x-python",
   "name": "python",
   "nbconvert_exporter": "python",
   "pygments_lexer": "ipython3",
   "version": "3.11.5"
  }
 },
 "nbformat": 4,
 "nbformat_minor": 5
}
