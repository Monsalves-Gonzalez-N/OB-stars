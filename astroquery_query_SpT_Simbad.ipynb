{
 "cells": [
  {
   "cell_type": "markdown",
   "metadata": {},
   "source": [
    "## Here the info regarding Simbad's spectral coding:\n",
    "\n",
    "http://simbad.u-strasbg.fr/Pages/guide/chD.htx"
   ]
  },
  {
   "cell_type": "code",
   "execution_count": 1,
   "metadata": {},
   "outputs": [],
   "source": [
    "import numpy as np\n",
    "import astroquery\n",
    "from astropy import units as u\n",
    "from astroquery.simbad import Simbad\n",
    "from astropy.coordinates import SkyCoord\n"
   ]
  },
  {
   "cell_type": "code",
   "execution_count": 2,
   "metadata": {},
   "outputs": [
    {
     "data": {
      "text/plain": [
       "'0.4.7.dev7946'"
      ]
     },
     "execution_count": 2,
     "metadata": {},
     "output_type": "execute_result"
    }
   ],
   "source": [
    "astroquery.__version__"
   ]
  },
  {
   "cell_type": "code",
   "execution_count": 3,
   "metadata": {},
   "outputs": [],
   "source": [
    "Simbad.add_votable_fields('sptype')\n",
    "radius=1.0\n",
    "center=np.array([[92.33, -35.8252],[112.214, -30.247]])\n",
    "i=0\n",
    "c = SkyCoord(ra=center[i,0]*u.deg, dec=center[i,1]*u.deg)\n",
    "tab = Simbad.query_region(c, radius=radius*u.arcsec)"
   ]
  },
  {
   "cell_type": "code",
   "execution_count": 4,
   "metadata": {},
   "outputs": [
    {
     "data": {
      "text/html": [
       "<div><i>Table length=2</i>\n",
       "<table id=\"table4697346592\" class=\"table-striped table-bordered table-condensed\">\n",
       "<thead><tr><th>MAIN_ID</th><th>RA</th><th>DEC</th><th>SP_TYPE</th></tr></thead>\n",
       "<thead><tr><th></th><th>&quot;h:m:s&quot;</th><th>&quot;d:m:s&quot;</th><th></th></tr></thead>\n",
       "<thead><tr><th>object</th><th>str13</th><th>str13</th><th>object</th></tr></thead>\n",
       "<tr><td>CD-35  2722B</td><td>06 09 19.2082</td><td>-35 49 31.062</td><td>L0-1</td></tr>\n",
       "<tr><td>CD-35  2722</td><td>06 09 19.2081</td><td>-35 49 31.065</td><td>M1Ve</td></tr>\n",
       "</table></div>"
      ],
      "text/plain": [
       "<Table length=2>\n",
       "  MAIN_ID          RA           DEC      SP_TYPE\n",
       "                \"h:m:s\"       \"d:m:s\"           \n",
       "   object        str13         str13      object\n",
       "------------ ------------- ------------- -------\n",
       "CD-35  2722B 06 09 19.2082 -35 49 31.062    L0-1\n",
       " CD-35  2722 06 09 19.2081 -35 49 31.065    M1Ve"
      ]
     },
     "execution_count": 4,
     "metadata": {},
     "output_type": "execute_result"
    }
   ],
   "source": [
    "tab['MAIN_ID','RA','DEC','SP_TYPE']"
   ]
  },
  {
   "cell_type": "code",
   "execution_count": null,
   "metadata": {},
   "outputs": [],
   "source": []
  },
  {
   "cell_type": "code",
   "execution_count": null,
   "metadata": {
    "collapsed": true,
    "jupyter": {
     "outputs_hidden": true
    }
   },
   "outputs": [],
   "source": []
  }
 ],
 "metadata": {
  "kernelspec": {
   "display_name": "Python 3 (ipykernel)",
   "language": "python",
   "name": "python3"
  },
  "language_info": {
   "codemirror_mode": {
    "name": "ipython",
    "version": 3
   },
   "file_extension": ".py",
   "mimetype": "text/x-python",
   "name": "python",
   "nbconvert_exporter": "python",
   "pygments_lexer": "ipython3",
   "version": "3.8.18"
  }
 },
 "nbformat": 4,
 "nbformat_minor": 4
}
