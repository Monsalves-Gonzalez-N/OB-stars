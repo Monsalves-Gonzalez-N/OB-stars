{
 "cells": [
  {
   "cell_type": "code",
   "execution_count": 1,
   "id": "9d1e7008",
   "metadata": {},
   "outputs": [],
   "source": [
    "import pandas as pd\n",
    "import re\n",
    "import numpy as np\n",
    "import seaborn as sns\n",
    "#from dustmaps.sfd import SFDQuery\n",
    "from astropy.coordinates import SkyCoord\n",
    "import astropy.units as u\n",
    "from imblearn.ensemble import BalancedRandomForestClassifier\n",
    "from sklearn.model_selection import train_test_split\n",
    "from sklearn.metrics import classification_report, confusion_matrix"
   ]
  },
  {
   "cell_type": "code",
   "execution_count": 13,
   "id": "1e86f6c8",
   "metadata": {},
   "outputs": [],
   "source": [
    "def busqueda(expression,column):\n",
    "    m = re.search(expression,column)\n",
    "    if m == None:\n",
    "        return np.nan\n",
    "    else :\n",
    "        return m.group(0)"
   ]
  },
  {
   "cell_type": "code",
   "execution_count": 255,
   "id": "016880e4",
   "metadata": {},
   "outputs": [],
   "source": [
    "df_1 = pd.read_csv(\"skiff_2arcsec_internal_match.csv\")"
   ]
  },
  {
   "cell_type": "code",
   "execution_count": 256,
   "id": "9de81af2",
   "metadata": {},
   "outputs": [],
   "source": [
    "df_1[\"sptype\"] = df_1[\"sptype\"].astype(str)"
   ]
  },
  {
   "cell_type": "code",
   "execution_count": 257,
   "id": "39a5b995",
   "metadata": {},
   "outputs": [],
   "source": [
    "df_1[\"Sptype_with_?\"] = df_1.apply(lambda row: busqueda(\"\\?\",row[\"sptype\"]),axis=1)  "
   ]
  },
  {
   "cell_type": "code",
   "execution_count": 258,
   "id": "644f2e9f",
   "metadata": {},
   "outputs": [],
   "source": [
    "df_1[\"Sptype_with_emision\"] = df_1.apply(lambda row: busqueda(r\"(\\[e\\]|\\(e\\)|e)\",row[\"sptype\"]),axis=1)  "
   ]
  },
  {
   "cell_type": "code",
   "execution_count": 259,
   "id": "ce54fc59",
   "metadata": {},
   "outputs": [],
   "source": [
    "df_1[\"Sptype_duda_en_numero\"] = df_1.apply(lambda row: busqueda(r\"[a-zA-Z]\\d+/\\d+\",row[\"sptype\"]),axis=1)  "
   ]
  },
  {
   "cell_type": "code",
   "execution_count": 260,
   "id": "18695181",
   "metadata": {},
   "outputs": [],
   "source": [
    "df_1[\"Luminosity_class\"] = df_1.apply(lambda row: busqueda(r\"(I{1,3}|I[ab]|V)\",row[\"sptype\"]),axis=1)  "
   ]
  },
  {
   "cell_type": "code",
   "execution_count": 261,
   "id": "ab26515c",
   "metadata": {},
   "outputs": [],
   "source": [
    "df_1[\"early_late\"] = df_1.apply(lambda row: busqueda(r\"^[a-zA-Z]\\d+| [a-zA-Z]\\d+\\.\\d+| [a-zA-Z]\\d+/\\d+\",row[\"sptype\"]),axis=1)  "
   ]
  },
  {
   "cell_type": "code",
   "execution_count": 262,
   "id": "38ec1951",
   "metadata": {},
   "outputs": [],
   "source": [
    "df_1[\"binaries\"] = df_1.apply(lambda row: busqueda(\"\\+\",row[\"sptype\"]),axis=1)  "
   ]
  },
  {
   "cell_type": "code",
   "execution_count": 263,
   "id": "970ea98b",
   "metadata": {},
   "outputs": [],
   "source": [
    "df_1[\"O_star\"] = df_1.apply(lambda row: busqueda(\"O\",row[\"sptype\"]),axis=1)  "
   ]
  },
  {
   "cell_type": "code",
   "execution_count": 264,
   "id": "4607c1b7",
   "metadata": {},
   "outputs": [],
   "source": [
    "df_1[\"OB_star\"] = df_1.apply(lambda row: busqueda(r\"O[B/]\",row[\"sptype\"]),axis=1)  "
   ]
  },
  {
   "cell_type": "code",
   "execution_count": 265,
   "id": "3daec415",
   "metadata": {},
   "outputs": [],
   "source": [
    "df_1[\"sd_star\"] = df_1.apply(lambda row: busqueda(r\"sd\",row[\"sptype\"]),axis=1)  "
   ]
  },
  {
   "cell_type": "code",
   "execution_count": 266,
   "id": "fc31288f",
   "metadata": {},
   "outputs": [],
   "source": [
    "df_1[\"mk\"] = df_1.apply(lambda row: busqueda(r\"^(O|B|A|F|G|K|M)\",row[\"sptype\"]),axis=1)  "
   ]
  },
  {
   "cell_type": "code",
   "execution_count": 267,
   "id": "04687611",
   "metadata": {},
   "outputs": [],
   "source": [
    "df_1[\"year\"] = df_1.apply(lambda row: busqueda(r\"\\d{4}\",row[\"Bibcode\"]),axis=1)  "
   ]
  },
  {
   "cell_type": "code",
   "execution_count": 268,
   "id": "db34131c",
   "metadata": {},
   "outputs": [],
   "source": [
    "df_1[\"arxiv\"] = df_1.apply(lambda row: busqueda(r\"arXiv\",row[\"Bibcode\"]),axis=1)  "
   ]
  },
  {
   "cell_type": "code",
   "execution_count": 269,
   "id": "b125154b",
   "metadata": {},
   "outputs": [],
   "source": [
    "df_1.loc[df_1[\"arxiv\"].notna(),\"year\"] = \"20\" + df_1.loc[df_1[\"arxiv\"].notna()][\"year\"].astype(\"str\").str[:2]"
   ]
  },
  {
   "cell_type": "code",
   "execution_count": 270,
   "id": "28c1c39f",
   "metadata": {},
   "outputs": [],
   "source": [
    "df_1[\"year\"] = pd.to_numeric(df_1[\"year\"],errors=\"coerce\")"
   ]
  },
  {
   "cell_type": "code",
   "execution_count": 271,
   "id": "c6ce800f",
   "metadata": {},
   "outputs": [],
   "source": [
    "df_1 = df_1.loc[(df_1[\"OB_star\"].isna())&\n",
    "      (df_1[\"sd_star\"].isna())&\n",
    "    (df_1[\"OB_star\"].isna())&\n",
    "         (df_1[\"binaries\"].isna())&\n",
    "      (df_1[\"mk\"].notna())]"
   ]
  },
  {
   "cell_type": "code",
   "execution_count": 272,
   "id": "e399d87b",
   "metadata": {},
   "outputs": [],
   "source": [
    "def spectral_type_to_numbers(sp):\n",
    "    sp_types = [\"O\",\"B\",\"A\",\"F\",\"G\",\"K\",\"M\"]\n",
    "    return sp_types.index(sp) \n",
    "    \n",
    "    "
   ]
  },
  {
   "cell_type": "code",
   "execution_count": 273,
   "id": "5afe339e",
   "metadata": {},
   "outputs": [],
   "source": [
    "df_1[\"numeric_sp\"] = df_1.apply(lambda row: spectral_type_to_numbers(row[\"mk\"]),axis=1)  "
   ]
  },
  {
   "cell_type": "code",
   "execution_count": 274,
   "id": "4dcb28c5",
   "metadata": {},
   "outputs": [],
   "source": [
    "df_1[\"numeric_sp_labels\"] = df_1[\"numeric_sp\"] + df_1[\"early_late\"].str[1:].astype(float)/10"
   ]
  },
  {
   "cell_type": "code",
   "execution_count": 277,
   "id": "1893fcb9",
   "metadata": {},
   "outputs": [],
   "source": [
    "df_1.loc[(df_1[\"numeric_sp_labels\"].isna()),\"numeric_sp_labels\"] = df_1.loc[(df_1[\"numeric_sp_labels\"].isna())][\"numeric_sp\"] + 0.55"
   ]
  },
  {
   "cell_type": "code",
   "execution_count": 384,
   "id": "1f2151d6",
   "metadata": {},
   "outputs": [],
   "source": [
    "# si realmente es el mismo objeto\n",
    "#keywoard de los papers S/N y/o R\n",
    "# Pasar a numeros los tipos espectrales redondear!\n",
    "# Escribir en la tesis como determinar tipos espectrales\n",
    "stars_unicas = df_1.loc[df_1[\"GroupID\"].isna()]\n",
    "star_no_unicas = df_1.loc[df_1[\"GroupID\"].notna()]\n",
    "#df_1 = pd.concat([stars_unicas,star_no_unicas])"
   ]
  },
  {
   "cell_type": "code",
   "execution_count": 385,
   "id": "7c724243",
   "metadata": {},
   "outputs": [
    {
     "name": "stderr",
     "output_type": "stream",
     "text": [
      "/tmp/ipykernel_6402/1249461170.py:5: SettingWithCopyWarning: \n",
      "A value is trying to be set on a copy of a slice from a DataFrame.\n",
      "Try using .loc[row_indexer,col_indexer] = value instead\n",
      "\n",
      "See the caveats in the documentation: https://pandas.pydata.org/pandas-docs/stable/user_guide/indexing.html#returning-a-view-versus-a-copy\n",
      "  star_no_unicas[\"std_sp\"] = std_by_group\n"
     ]
    }
   ],
   "source": [
    "# Calcula la desviación estándar dentro de cada grupo\n",
    "std_by_group = star_no_unicas.groupby(\"GroupID\")[\"numeric_sp_labels\"].transform(\"std\")\n",
    "\n",
    "# Agrega la columna al DataFrame\n",
    "star_no_unicas[\"std_sp\"] = std_by_group"
   ]
  },
  {
   "cell_type": "code",
   "execution_count": 388,
   "id": "870cba1d",
   "metadata": {},
   "outputs": [],
   "source": [
    "star_no_unicas = star_no_unicas.loc[(star_no_unicas[\"std_sp\"]<0.5)|(star_no_unicas[\"std_sp\"].isna())]"
   ]
  },
  {
   "cell_type": "code",
   "execution_count": 389,
   "id": "dfdf03ef",
   "metadata": {},
   "outputs": [
    {
     "name": "stderr",
     "output_type": "stream",
     "text": [
      "/tmp/ipykernel_6402/352407341.py:4: SettingWithCopyWarning: \n",
      "A value is trying to be set on a copy of a slice from a DataFrame.\n",
      "Try using .loc[row_indexer,col_indexer] = value instead\n",
      "\n",
      "See the caveats in the documentation: https://pandas.pydata.org/pandas-docs/stable/user_guide/indexing.html#returning-a-view-versus-a-copy\n",
      "  star_no_unicas[\"mean_sp\"] = mean_by_group\n"
     ]
    }
   ],
   "source": [
    "mean_by_group = star_no_unicas.groupby(\"GroupID\")[\"numeric_sp_labels\"].transform(\"mean\")\n",
    "\n",
    "# Agrega la columna al DataFrame\n",
    "star_no_unicas[\"mean_sp\"] = mean_by_group"
   ]
  },
  {
   "cell_type": "code",
   "execution_count": 395,
   "id": "01a22996",
   "metadata": {},
   "outputs": [],
   "source": [
    "star_no_unicas = star_no_unicas.sort_values(by=\"year\",ascending=False).drop_duplicates(subset=\"GroupID\")"
   ]
  },
  {
   "cell_type": "code",
   "execution_count": 397,
   "id": "8ecb0e92",
   "metadata": {},
   "outputs": [],
   "source": [
    "df_1 = pd.concat([star_no_unicas,stars_unicas])"
   ]
  },
  {
   "cell_type": "code",
   "execution_count": 398,
   "id": "bb8b9fa2",
   "metadata": {},
   "outputs": [],
   "source": [
    "df_1.to_csv(\"skiff_2arcsec_internal_match_preprocesing.csv\",index=False)"
   ]
  },
  {
   "cell_type": "markdown",
   "id": "9017cbc2",
   "metadata": {},
   "source": [
    "## Corregir coordenadas a J2016"
   ]
  },
  {
   "cell_type": "code",
   "execution_count": 3,
   "id": "dddda2bd",
   "metadata": {},
   "outputs": [
    {
     "name": "stderr",
     "output_type": "stream",
     "text": [
      "/tmp/ipykernel_8059/1935470601.py:2: DtypeWarning: Columns (4,25) have mixed types. Specify dtype option on import or set low_memory=False.\n",
      "  df_1 = pd.read_csv(\"skiff_2arcsec_internal_match_preprocesing.csv\")\n"
     ]
    }
   ],
   "source": [
    "import pandas as pd\n",
    "df_1 = pd.read_csv(\"skiff_2arcsec_internal_match_preprocesing.csv\")"
   ]
  },
  {
   "cell_type": "code",
   "execution_count": 32,
   "id": "c73f2457",
   "metadata": {},
   "outputs": [],
   "source": [
    "a = SkyCoord(df_1[\"RAJ2000\"],df_1[\"DEJ2000\"], unit=(u.hourangle, u.deg))"
   ]
  },
  {
   "cell_type": "code",
   "execution_count": 37,
   "id": "108b8cdd",
   "metadata": {},
   "outputs": [],
   "source": [
    "#df_1.to_csv(\"skiff_2arcsec_internal_match_preprocesing.csv\",index=False)"
   ]
  },
  {
   "cell_type": "markdown",
   "id": "df97b248",
   "metadata": {},
   "source": [
    "### Condiciones del paper de Zari"
   ]
  },
  {
   "cell_type": "code",
   "execution_count": 113,
   "id": "f584292f",
   "metadata": {},
   "outputs": [],
   "source": [
    "df = df_1"
   ]
  },
  {
   "cell_type": "code",
   "execution_count": 85,
   "id": "1a25f812",
   "metadata": {},
   "outputs": [
    {
     "data": {
      "text/html": [
       "<div>\n",
       "<style scoped>\n",
       "    .dataframe tbody tr th:only-of-type {\n",
       "        vertical-align: middle;\n",
       "    }\n",
       "\n",
       "    .dataframe tbody tr th {\n",
       "        vertical-align: top;\n",
       "    }\n",
       "\n",
       "    .dataframe thead th {\n",
       "        text-align: right;\n",
       "    }\n",
       "</style>\n",
       "<table border=\"1\" class=\"dataframe\">\n",
       "  <thead>\n",
       "    <tr style=\"text-align: right;\">\n",
       "      <th></th>\n",
       "      <th>name</th>\n",
       "    </tr>\n",
       "    <tr>\n",
       "      <th>label</th>\n",
       "      <th></th>\n",
       "    </tr>\n",
       "  </thead>\n",
       "  <tbody>\n",
       "    <tr>\n",
       "      <th>0.0</th>\n",
       "      <td>87.532917</td>\n",
       "    </tr>\n",
       "    <tr>\n",
       "      <th>1.0</th>\n",
       "      <td>94.491960</td>\n",
       "    </tr>\n",
       "    <tr>\n",
       "      <th>2.0</th>\n",
       "      <td>98.800539</td>\n",
       "    </tr>\n",
       "  </tbody>\n",
       "</table>\n",
       "</div>"
      ],
      "text/plain": [
       "            name\n",
       "label           \n",
       "0.0    87.532917\n",
       "1.0    94.491960\n",
       "2.0    98.800539"
      ]
     },
     "execution_count": 85,
     "metadata": {},
     "output_type": "execute_result"
    }
   ],
   "source": [
    "#Establece magnitud g menor a 16, perdemos esta cantidad de estrellas\n",
    "# mi muestra esta mas limpia que la de Zari pero menos completa\n",
    "# Crear distribuciones de tipos espectrales del catalogo inicial \n",
    "df_1.loc[df_1[\"phot_g_mean_mag\"]>16].groupby(\"label\").count()[[\"name\"]] / \\\n",
    "    df_1.groupby(\"label\").count()[[\"name\"]] *100"
   ]
  },
  {
   "cell_type": "markdown",
   "id": "6ffb9efe",
   "metadata": {},
   "source": [
    "Usan un proxy de magnitud absoluta en K\n",
    "\n",
    "$\\omega = 10^{\\frac{10-K_{s}-0.0}{5}}$"
   ]
  },
  {
   "cell_type": "code",
   "execution_count": 86,
   "id": "64ad5fa8",
   "metadata": {},
   "outputs": [
    {
     "data": {
      "text/html": [
       "<div>\n",
       "<style scoped>\n",
       "    .dataframe tbody tr th:only-of-type {\n",
       "        vertical-align: middle;\n",
       "    }\n",
       "\n",
       "    .dataframe tbody tr th {\n",
       "        vertical-align: top;\n",
       "    }\n",
       "\n",
       "    .dataframe thead th {\n",
       "        text-align: right;\n",
       "    }\n",
       "</style>\n",
       "<table border=\"1\" class=\"dataframe\">\n",
       "  <thead>\n",
       "    <tr style=\"text-align: right;\">\n",
       "      <th></th>\n",
       "      <th>name</th>\n",
       "    </tr>\n",
       "    <tr>\n",
       "      <th>label</th>\n",
       "      <th></th>\n",
       "    </tr>\n",
       "  </thead>\n",
       "  <tbody>\n",
       "    <tr>\n",
       "      <th>0.0</th>\n",
       "      <td>0.571819</td>\n",
       "    </tr>\n",
       "    <tr>\n",
       "      <th>1.0</th>\n",
       "      <td>0.043791</td>\n",
       "    </tr>\n",
       "    <tr>\n",
       "      <th>2.0</th>\n",
       "      <td>0.086119</td>\n",
       "    </tr>\n",
       "  </tbody>\n",
       "</table>\n",
       "</div>"
      ],
      "text/plain": [
       "           name\n",
       "label          \n",
       "0.0    0.571819\n",
       "1.0    0.043791\n",
       "2.0    0.086119"
      ]
     },
     "execution_count": 86,
     "metadata": {},
     "output_type": "execute_result"
    }
   ],
   "source": [
    "df_1.loc[df_1[\"parallax\"] > 10**((10-df_1[\"ks_m\"] - 0.0)/5)].groupby(\"label\").count()[[\"name\"]] / \\\n",
    "    df_1.groupby(\"label\").count()[[\"name\"]]\n",
    "#corregir celda"
   ]
  },
  {
   "cell_type": "code",
   "execution_count": null,
   "id": "c4acaa2c",
   "metadata": {},
   "outputs": [],
   "source": []
  },
  {
   "cell_type": "code",
   "execution_count": 87,
   "id": "6f6fffad",
   "metadata": {},
   "outputs": [],
   "source": [
    "df_1 = df_1.loc[(df_1[\"phot_g_mean_mag\"]<16)&\n",
    "               (df_1[\"parallax\"] < 10**((10-df_1[\"ks_m\"] - 0.0)/5))]"
   ]
  },
  {
   "cell_type": "code",
   "execution_count": 89,
   "id": "d082e55e",
   "metadata": {},
   "outputs": [
    {
     "data": {
      "text/html": [
       "<div>\n",
       "<style scoped>\n",
       "    .dataframe tbody tr th:only-of-type {\n",
       "        vertical-align: middle;\n",
       "    }\n",
       "\n",
       "    .dataframe tbody tr th {\n",
       "        vertical-align: top;\n",
       "    }\n",
       "\n",
       "    .dataframe thead th {\n",
       "        text-align: right;\n",
       "    }\n",
       "</style>\n",
       "<table border=\"1\" class=\"dataframe\">\n",
       "  <thead>\n",
       "    <tr style=\"text-align: right;\">\n",
       "      <th></th>\n",
       "      <th>name</th>\n",
       "    </tr>\n",
       "    <tr>\n",
       "      <th>label</th>\n",
       "      <th></th>\n",
       "    </tr>\n",
       "  </thead>\n",
       "  <tbody>\n",
       "    <tr>\n",
       "      <th>0.0</th>\n",
       "      <td>232932</td>\n",
       "    </tr>\n",
       "    <tr>\n",
       "      <th>1.0</th>\n",
       "      <td>2655</td>\n",
       "    </tr>\n",
       "    <tr>\n",
       "      <th>2.0</th>\n",
       "      <td>6716</td>\n",
       "    </tr>\n",
       "  </tbody>\n",
       "</table>\n",
       "</div>"
      ],
      "text/plain": [
       "         name\n",
       "label        \n",
       "0.0    232932\n",
       "1.0      2655\n",
       "2.0      6716"
      ]
     },
     "execution_count": 89,
     "metadata": {},
     "output_type": "execute_result"
    }
   ],
   "source": [
    "df_1.groupby(\"label\").count()[[\"name\"]]"
   ]
  },
  {
   "cell_type": "markdown",
   "id": "32685843",
   "metadata": {},
   "source": [
    "Aqui realizan un corte de colores en base a Poggio et al. (2018)\n",
    "\n",
    "Utilizan un corte menor a 0.1 y mayor a -0.3 en $(J-K)_{0}$, donde lo definen de la forma \n",
    "\n",
    "$(J-K)_{0} = J-K_{s}-0.25(G-K_{s})$ "
   ]
  },
  {
   "cell_type": "code",
   "execution_count": 29,
   "id": "ce7c997a",
   "metadata": {},
   "outputs": [
    {
     "data": {
      "text/html": [
       "<div>\n",
       "<style scoped>\n",
       "    .dataframe tbody tr th:only-of-type {\n",
       "        vertical-align: middle;\n",
       "    }\n",
       "\n",
       "    .dataframe tbody tr th {\n",
       "        vertical-align: top;\n",
       "    }\n",
       "\n",
       "    .dataframe thead th {\n",
       "        text-align: right;\n",
       "    }\n",
       "</style>\n",
       "<table border=\"1\" class=\"dataframe\">\n",
       "  <thead>\n",
       "    <tr style=\"text-align: right;\">\n",
       "      <th></th>\n",
       "      <th>name</th>\n",
       "    </tr>\n",
       "    <tr>\n",
       "      <th>label</th>\n",
       "      <th></th>\n",
       "    </tr>\n",
       "  </thead>\n",
       "  <tbody>\n",
       "    <tr>\n",
       "      <th>0.0</th>\n",
       "      <td>0.480514</td>\n",
       "    </tr>\n",
       "    <tr>\n",
       "      <th>1.0</th>\n",
       "      <td>0.178154</td>\n",
       "    </tr>\n",
       "    <tr>\n",
       "      <th>2.0</th>\n",
       "      <td>0.077576</td>\n",
       "    </tr>\n",
       "  </tbody>\n",
       "</table>\n",
       "</div>"
      ],
      "text/plain": [
       "           name\n",
       "label          \n",
       "0.0    0.480514\n",
       "1.0    0.178154\n",
       "2.0    0.077576"
      ]
     },
     "execution_count": 29,
     "metadata": {},
     "output_type": "execute_result"
    }
   ],
   "source": [
    "df_1.loc[(df_1[\"j_m\"]-df_1[\"ks_m\"]-0.25*(df_1[\"phot_g_mean_mag\"] - df_1[\"ks_m\"]) >0.1)|(df_1[\"j_m\"]-df_1[\"ks_m\"]-0.25*(df_1[\"phot_g_mean_mag\"] - df_1[\"ks_m\"])<-0.3)].groupby(\"label\").count()[[\"name\"]] / \\\n",
    "    df_1.groupby(\"label\").count()[[\"name\"]]"
   ]
  },
  {
   "cell_type": "code",
   "execution_count": 30,
   "id": "311c6d16",
   "metadata": {},
   "outputs": [
    {
     "data": {
      "image/png": "[encoded data removed]",
      "text/plain": [
       "<Figure size 600x600 with 1 Axes>"
      ]
     },
     "metadata": {},
     "output_type": "display_data"
    }
   ],
   "source": [
    "import matplotlib.pyplot as plt\n",
    "\n",
    "fig, ax = plt.subplots(figsize=(6, 6))\n",
    "\n",
    "# Mapeo de valores únicos de la columna \"label\" a colores\n",
    "colors = {0: 'black', 1: 'green', 2: 'blue'}\n",
    "\n",
    "for label_value in df_1[\"label\"].unique():\n",
    "    label_df = df_1[df_1[\"label\"] == label_value]\n",
    "    ax.scatter(\n",
    "        x=label_df[\"j_m\"] - label_df[\"ks_m\"]-0.25*(label_df[\"phot_g_mean_mag\"] - label_df[\"ks_m\"]),\n",
    "        y=label_df[\"phot_bp_mean_mag\"] - label_df[\"phot_rp_mean_mag\"],\n",
    "        s=0.001,\n",
    "        color=colors[label_value],\n",
    "        label=f\"Label {label_value}\"\n",
    "    )\n",
    "\n",
    "ax.set_xlabel(\"$(J-K)_{0}$[mag]\")\n",
    "ax.set_ylabel(\"bp-rp\")\n",
    "ax.legend()\n",
    "plt.axvline(x=0.1,color=\"red\", linestyle=\"--\")\n",
    "plt.axvline(x=-0.3,color=\"red\", linestyle=\"--\")\n",
    "\n",
    "\n",
    "plt.show()\n"
   ]
  },
  {
   "cell_type": "code",
   "execution_count": 31,
   "id": "43d95fdc",
   "metadata": {},
   "outputs": [],
   "source": [
    "df_1 = df_1.loc[(df_1[\"j_m\"]-df_1[\"ks_m\"]-0.25*(df_1[\"phot_g_mean_mag\"] - df_1[\"ks_m\"]) <0.1)&\n",
    "                (df_1[\"j_m\"]-df_1[\"ks_m\"]-0.25*(df_1[\"phot_g_mean_mag\"] - df_1[\"ks_m\"])>-0.3)]"
   ]
  },
  {
   "cell_type": "markdown",
   "id": "160bdffa",
   "metadata": {},
   "source": [
    "ahora separarán estrellas O y B de estrellas rojas\n",
    "J − H < 0.15(G − Ks) + 0.05\n",
    "J − H > 0.15(G − Ks) − 0.15,"
   ]
  },
  {
   "cell_type": "code",
   "execution_count": 32,
   "id": "5e87c617",
   "metadata": {},
   "outputs": [
    {
     "data": {
      "text/html": [
       "<div>\n",
       "<style scoped>\n",
       "    .dataframe tbody tr th:only-of-type {\n",
       "        vertical-align: middle;\n",
       "    }\n",
       "\n",
       "    .dataframe tbody tr th {\n",
       "        vertical-align: top;\n",
       "    }\n",
       "\n",
       "    .dataframe thead th {\n",
       "        text-align: right;\n",
       "    }\n",
       "</style>\n",
       "<table border=\"1\" class=\"dataframe\">\n",
       "  <thead>\n",
       "    <tr style=\"text-align: right;\">\n",
       "      <th></th>\n",
       "      <th>name</th>\n",
       "    </tr>\n",
       "    <tr>\n",
       "      <th>label</th>\n",
       "      <th></th>\n",
       "    </tr>\n",
       "  </thead>\n",
       "  <tbody>\n",
       "    <tr>\n",
       "      <th>0.0</th>\n",
       "      <td>0.539250</td>\n",
       "    </tr>\n",
       "    <tr>\n",
       "      <th>1.0</th>\n",
       "      <td>0.124656</td>\n",
       "    </tr>\n",
       "    <tr>\n",
       "      <th>2.0</th>\n",
       "      <td>0.025182</td>\n",
       "    </tr>\n",
       "  </tbody>\n",
       "</table>\n",
       "</div>"
      ],
      "text/plain": [
       "           name\n",
       "label          \n",
       "0.0    0.539250\n",
       "1.0    0.124656\n",
       "2.0    0.025182"
      ]
     },
     "execution_count": 32,
     "metadata": {},
     "output_type": "execute_result"
    }
   ],
   "source": [
    "df_1.loc[((df_1[\"j_m\"]-df_1[\"h_m\"])>\\\n",
    "         0.15*(df_1[\"phot_g_mean_mag\"]-df_1[\"ks_m\"])+0.05)|\n",
    "        ((df_1[\"j_m\"]-df_1[\"h_m\"])<\\\n",
    "         0.15*(df_1[\"phot_g_mean_mag\"]-df_1[\"ks_m\"])-0.15)].groupby(\"label\").count()[[\"name\"]] / \\\n",
    "    df_1.groupby(\"label\").count()[[\"name\"]]"
   ]
  },
  {
   "cell_type": "code",
   "execution_count": 33,
   "id": "039ca848",
   "metadata": {},
   "outputs": [],
   "source": [
    "df_1 = df_1.loc[((df_1[\"j_m\"]-df_1[\"h_m\"])<\\\n",
    "         0.15*(df_1[\"phot_g_mean_mag\"]-df_1[\"ks_m\"])+0.05)&\n",
    "        ((df_1[\"j_m\"]-df_1[\"h_m\"])>\\\n",
    "         0.15*(df_1[\"phot_g_mean_mag\"]-df_1[\"ks_m\"])-0.15)]"
   ]
  },
  {
   "cell_type": "markdown",
   "id": "2fd5951c",
   "metadata": {},
   "source": [
    "eliminar gigantes\n",
    "\n",
    "G > 2(G − Ks) + 3,"
   ]
  },
  {
   "cell_type": "code",
   "execution_count": 36,
   "id": "3adda293",
   "metadata": {},
   "outputs": [
    {
     "data": {
      "text/html": [
       "<div>\n",
       "<style scoped>\n",
       "    .dataframe tbody tr th:only-of-type {\n",
       "        vertical-align: middle;\n",
       "    }\n",
       "\n",
       "    .dataframe tbody tr th {\n",
       "        vertical-align: top;\n",
       "    }\n",
       "\n",
       "    .dataframe thead th {\n",
       "        text-align: right;\n",
       "    }\n",
       "</style>\n",
       "<table border=\"1\" class=\"dataframe\">\n",
       "  <thead>\n",
       "    <tr style=\"text-align: right;\">\n",
       "      <th></th>\n",
       "      <th>name</th>\n",
       "    </tr>\n",
       "    <tr>\n",
       "      <th>label</th>\n",
       "      <th></th>\n",
       "    </tr>\n",
       "  </thead>\n",
       "  <tbody>\n",
       "    <tr>\n",
       "      <th>0.0</th>\n",
       "      <td>0.067225</td>\n",
       "    </tr>\n",
       "    <tr>\n",
       "      <th>1.0</th>\n",
       "      <td>0.016754</td>\n",
       "    </tr>\n",
       "    <tr>\n",
       "      <th>2.0</th>\n",
       "      <td>0.003809</td>\n",
       "    </tr>\n",
       "  </tbody>\n",
       "</table>\n",
       "</div>"
      ],
      "text/plain": [
       "           name\n",
       "label          \n",
       "0.0    0.067225\n",
       "1.0    0.016754\n",
       "2.0    0.003809"
      ]
     },
     "execution_count": 36,
     "metadata": {},
     "output_type": "execute_result"
    }
   ],
   "source": [
    "df_1.loc[df_1[\"phot_g_mean_mag\"]<\\\n",
    "        2*(df_1[\"phot_g_mean_mag\"]-df_1[\"ks_m\"])+3].groupby(\"label\").count()[[\"name\"]] / \\\n",
    "    df_1.groupby(\"label\").count()[[\"name\"]]"
   ]
  },
  {
   "cell_type": "code",
   "execution_count": 38,
   "id": "a3690766",
   "metadata": {},
   "outputs": [],
   "source": [
    "df_1 = df_1.loc[df_1[\"phot_g_mean_mag\"]>\\\n",
    "        2*(df_1[\"phot_g_mean_mag\"]-df_1[\"ks_m\"])+3]"
   ]
  },
  {
   "cell_type": "markdown",
   "id": "4b82d531",
   "metadata": {},
   "source": [
    "No quedo claro si van a quitar estas estrellas variables, deberían ser RRlyraes y eclipsantes las 2 secuencias que se ven aprox en 1.6 y 1"
   ]
  },
  {
   "cell_type": "code",
   "execution_count": 39,
   "id": "47f6d190",
   "metadata": {},
   "outputs": [],
   "source": [
    "df_1[\"AMP_bp_rp\"] = (np.sqrt(df_1[\"phot_bp_n_obs\"])/df_1[\"phot_bp_mean_flux_over_error\"]) / \\\n",
    "    (np.sqrt(df_1[\"phot_rp_n_obs\"])/df_1[\"phot_rp_mean_flux_over_error\"])\n",
    "df_1[\"AMP_G\"] = np.sqrt(df_1[\"phot_g_n_obs\"])/df_1[\"phot_g_mean_flux_over_error\"]"
   ]
  },
  {
   "cell_type": "code",
   "execution_count": 40,
   "id": "5b19ad05",
   "metadata": {},
   "outputs": [
    {
     "data": {
      "image/png": "[encoded data removed]",
      "text/plain": [
       "<Figure size 1000x600 with 1 Axes>"
      ]
     },
     "metadata": {},
     "output_type": "display_data"
    }
   ],
   "source": [
    "import matplotlib.pyplot as plt\n",
    "\n",
    "fig, ax = plt.subplots(figsize=(10, 6))\n",
    "\n",
    "# Mapeo de valores únicos de la columna \"label\" a colores\n",
    "colors = {0: 'black', 1: 'green', 2: 'blue'}\n",
    "\n",
    "for label_value in df_1[\"label\"].unique():\n",
    "    label_df = df_1[df_1[\"label\"] == label_value]\n",
    "    ax.scatter(\n",
    "        x=label_df[\"AMP_G\"],\n",
    "        y=label_df[\"AMP_bp_rp\"],\n",
    "        s=0.1,\n",
    "        color=colors[label_value],\n",
    "        label=f\"Label {label_value}\"\n",
    "    )\n",
    "\n",
    "ax.set_xlabel(\"$AMP_{G}$\")\n",
    "ax.set_ylabel(\"$AMP_{bp/rp}$\")\n",
    "\n",
    "plt.axhline(y=1.8,color=\"black\", linestyle=\":\")\n",
    "plt.axhline(y=1.4,color=\"black\", linestyle=\":\")\n",
    "\n",
    "plt.axhline(y=1.1,color=\"red\", linestyle=\"--\")\n",
    "plt.axhline(y=0.9,color=\"red\", linestyle=\"--\")\n",
    "\n",
    "\n",
    "ax.legend()\n",
    "plt.show()"
   ]
  },
  {
   "cell_type": "code",
   "execution_count": 38,
   "id": "c3312b89",
   "metadata": {},
   "outputs": [],
   "source": [
    "df_1.to_csv(\"skiff_gaia_2mass_clean.csv\",index=False)"
   ]
  },
  {
   "cell_type": "markdown",
   "id": "6cd21c07",
   "metadata": {},
   "source": [
    "###  Balanced random forest sin corrección"
   ]
  },
  {
   "cell_type": "code",
   "execution_count": 114,
   "id": "cf8a392e",
   "metadata": {},
   "outputs": [
    {
     "name": "stderr",
     "output_type": "stream",
     "text": [
      "/tmp/ipykernel_6244/3295540216.py:1: DtypeWarning: Columns (50,53) have mixed types. Specify dtype option on import or set low_memory=False.\n",
      "  df = pd.read_csv(\"skiff_gaia_2mass_clean.csv\")\n"
     ]
    }
   ],
   "source": [
    "df = pd.read_csv(\"skiff_gaia_2mass_clean.csv\")"
   ]
  },
  {
   "cell_type": "code",
   "execution_count": 127,
   "id": "759509d4",
   "metadata": {},
   "outputs": [
    {
     "data": {
      "text/plain": [
       "label\n",
       "0.0    52005\n",
       "1.0     1878\n",
       "2.0     6016\n",
       "Name: name, dtype: int64"
      ]
     },
     "execution_count": 127,
     "metadata": {},
     "output_type": "execute_result"
    }
   ],
   "source": [
    "df.groupby(\"label\").count()[\"name\"]\n",
    "#Resultado taza de contaminación de a cuerdo a estas etiquetas\n",
    "#Revisar los 3000 papers y revisar indicador externo \n",
    "#Bp - Rp podria limpiar las F\n",
    "# Lower limit, puede ser mas alta\n",
    "# entrenar con 3 labels!"
   ]
  },
  {
   "cell_type": "code",
   "execution_count": 118,
   "id": "1855c0ce",
   "metadata": {},
   "outputs": [],
   "source": [
    "#sns.histplot(data=df,x=\"mk\")"
   ]
  },
  {
   "cell_type": "code",
   "execution_count": 119,
   "id": "7249f9a8",
   "metadata": {},
   "outputs": [],
   "source": [
    "mag_features = ['j_m', 'h_m', 'ks_m','phot_g_mean_mag',\n",
    "                           'phot_bp_mean_mag', 'phot_rp_mean_mag']"
   ]
  },
  {
   "cell_type": "code",
   "execution_count": 123,
   "id": "7ffef151",
   "metadata": {},
   "outputs": [],
   "source": [
    "from itertools import combinations\n",
    "colors =[]\n",
    "for v in combinations(mag_features, 2):\n",
    "    df[f\"{v[0]}-{v[1]}\"] = df[v[0]] - df[v[1]]\n",
    "    colors.append(f\"{v[0]}-{v[1]}\")\n",
    "    "
   ]
  },
  {
   "cell_type": "code",
   "execution_count": 122,
   "id": "684783c4",
   "metadata": {},
   "outputs": [],
   "source": [
    "# no puedo perdecir etiqueta 2 \n",
    "# agregaría los 3 labels!"
   ]
  },
  {
   "cell_type": "code",
   "execution_count": 124,
   "id": "6ea606ad",
   "metadata": {},
   "outputs": [],
   "source": [
    "df_rf = df.loc[df[\"label\"]!=2][[\"pmdec\",\"parallax\",\"pmra\",\"label\"]+colors]"
   ]
  },
  {
   "cell_type": "code",
   "execution_count": 125,
   "id": "6df714da",
   "metadata": {},
   "outputs": [
    {
     "name": "stdout",
     "output_type": "stream",
     "text": [
      "              precision    recall  f1-score   support\n",
      "\n",
      "         0.0       0.99      0.81      0.89     10435\n",
      "         1.0       0.12      0.82      0.21       342\n",
      "\n",
      "    accuracy                           0.81     10777\n",
      "   macro avg       0.56      0.81      0.55     10777\n",
      "weighted avg       0.97      0.81      0.87     10777\n",
      "\n"
     ]
    },
    {
     "data": {
      "image/png": "[encoded data removed]",
      "text/plain": [
       "<Figure size 640x480 with 1 Axes>"
      ]
     },
     "metadata": {},
     "output_type": "display_data"
    }
   ],
   "source": [
    "X_train, X_test, y_train, y_test = train_test_split(df_rf.drop(columns={\"label\"}),\n",
    "                                                    df_rf[\"label\"], test_size=0.2, random_state=42)\n",
    "\n",
    "df.loc[X_train.index,\"split\"] = \"train\"\n",
    "df.loc[X_test.index,\"split\"] = \"test\"\n",
    "\n",
    "# Definir el modelo\n",
    "model = BalancedRandomForestClassifier(n_estimators=500,random_state=42)\n",
    "model.fit(X_train, y_train)\n",
    "# Revisar criterios usar ambos\n",
    "# Porcentaje o numero entero en el min sample split\n",
    "# Mirar la documentación y optimizar hyperparametros, sampling stategy!\n",
    "\n",
    "y_predict = model.predict(X_test)\n",
    "\n",
    "resultados = pd.DataFrame({\"y_predict\":y_predict,\"y_test\":y_test})\n",
    "\n",
    "print(classification_report(y_test, y_predict))\n",
    "\n",
    "\n",
    "import matplotlib.pyplot as plt\n",
    "\n",
    "# Datos de ejemplo\n",
    "x = model.feature_names_in_\n",
    "y = model.feature_importances_\n",
    "\n",
    "# Crear el gráfico de barras\n",
    "plt.bar(x, y)\n",
    "\n",
    "# Opcional: Personalizar el gráfico\n",
    "plt.ylabel('Importance')\n",
    "plt.title('Importancia Filtros Sin corrección')\n",
    "plt.xticks(rotation='vertical')\n",
    "\n",
    "# Mostrar el gráfico\n",
    "plt.show()\n",
    "\n"
   ]
  },
  {
   "cell_type": "code",
   "execution_count": null,
   "id": "5b251ea2",
   "metadata": {},
   "outputs": [],
   "source": [
    "IFAS para medidas de Halpha, debería servir bastante para dividir Oes y Bes\n",
    "Estrellas O emiten en rayos X \n",
    " Posible idea \"https://xmm-tools.cosmos.esa.int/external/xmm_user_support/documentation/uhb/node136.html\n",
    "    https://www.vphasplus.org/ \n",
    "    https://www.iphas.org/ tiene u"
   ]
  },
  {
   "cell_type": "code",
   "execution_count": 7,
   "id": "68ad4060",
   "metadata": {},
   "outputs": [
    {
     "data": {
      "text/plain": [
       "array([0., 0., 0., ..., 0., 0., 0.])"
      ]
     },
     "execution_count": 7,
     "metadata": {},
     "output_type": "execute_result"
    }
   ],
   "source": [
    "model.predict(df[[\"pmdec\",\"parallax\",\"pmra\"]+colors]) "
   ]
  },
  {
   "cell_type": "code",
   "execution_count": 128,
   "id": "a3543c90",
   "metadata": {},
   "outputs": [],
   "source": [
    "df[\"rf_predict\"] = model.predict(df[[\"pmdec\",\"parallax\",\"pmra\"]+colors]) "
   ]
  },
  {
   "cell_type": "code",
   "execution_count": 129,
   "id": "15b938e3",
   "metadata": {},
   "outputs": [],
   "source": [
    "df_1 = df.loc[df[\"rf_predict\"]!=0]"
   ]
  },
  {
   "cell_type": "code",
   "execution_count": 138,
   "id": "1d08586f",
   "metadata": {},
   "outputs": [
    {
     "data": {
      "text/plain": [
       "0        train\n",
       "1        train\n",
       "2        train\n",
       "3        train\n",
       "4         test\n",
       "         ...  \n",
       "59894    train\n",
       "59895    train\n",
       "59896    train\n",
       "59897    train\n",
       "59898    train\n",
       "Name: split, Length: 59899, dtype: object"
      ]
     },
     "execution_count": 138,
     "metadata": {},
     "output_type": "execute_result"
    }
   ],
   "source": [
    "df[\"split\"]"
   ]
  },
  {
   "cell_type": "code",
   "execution_count": 143,
   "id": "eba1c88b",
   "metadata": {},
   "outputs": [],
   "source": [
    "df_review = df.loc[(df[\"rf_predict\"]==1)&(df[\"split\"]==\"test\")]"
   ]
  },
  {
   "cell_type": "code",
   "execution_count": 145,
   "id": "aec9b671",
   "metadata": {},
   "outputs": [
    {
     "data": {
      "text/plain": [
       "mk\n",
       "A     198\n",
       "B    1416\n",
       "F      79\n",
       "G      17\n",
       "K       2\n",
       "M      11\n",
       "Name: name, dtype: int64"
      ]
     },
     "execution_count": 145,
     "metadata": {},
     "output_type": "execute_result"
    }
   ],
   "source": [
    "df_review.loc[df_review[\"label\"]==0].groupby(\"mk\").count()[\"name\"]"
   ]
  },
  {
   "cell_type": "code",
   "execution_count": 146,
   "id": "16e231f4",
   "metadata": {},
   "outputs": [
    {
     "data": {
      "text/plain": [
       "0.13983050847457626"
      ]
     },
     "execution_count": 146,
     "metadata": {},
     "output_type": "execute_result"
    }
   ],
   "source": [
    "198/1416"
   ]
  },
  {
   "cell_type": "code",
   "execution_count": 149,
   "id": "826a4f52",
   "metadata": {},
   "outputs": [
    {
     "data": {
      "text/plain": [
       "0.4703153386971191"
      ]
     },
     "execution_count": 149,
     "metadata": {},
     "output_type": "execute_result"
    }
   ],
   "source": [
    "14497/30824"
   ]
  },
  {
   "cell_type": "code",
   "execution_count": 150,
   "id": "8f1baf6f",
   "metadata": {},
   "outputs": [
    {
     "data": {
      "text/html": [
       "<div>\n",
       "<style scoped>\n",
       "    .dataframe tbody tr th:only-of-type {\n",
       "        vertical-align: middle;\n",
       "    }\n",
       "\n",
       "    .dataframe tbody tr th {\n",
       "        vertical-align: top;\n",
       "    }\n",
       "\n",
       "    .dataframe thead th {\n",
       "        text-align: right;\n",
       "    }\n",
       "</style>\n",
       "<table border=\"1\" class=\"dataframe\">\n",
       "  <thead>\n",
       "    <tr style=\"text-align: right;\">\n",
       "      <th></th>\n",
       "      <th>name</th>\n",
       "      <th>sptype</th>\n",
       "      <th>bibcode</th>\n",
       "      <th>source_id</th>\n",
       "      <th>ra</th>\n",
       "      <th>dec</th>\n",
       "      <th>ra_error</th>\n",
       "      <th>dec_error</th>\n",
       "      <th>parallax</th>\n",
       "      <th>parallax_error</th>\n",
       "      <th>...</th>\n",
       "      <th>h_m-phot_bp_mean_mag</th>\n",
       "      <th>h_m-phot_rp_mean_mag</th>\n",
       "      <th>ks_m-phot_g_mean_mag</th>\n",
       "      <th>ks_m-phot_bp_mean_mag</th>\n",
       "      <th>ks_m-phot_rp_mean_mag</th>\n",
       "      <th>phot_g_mean_mag-phot_bp_mean_mag</th>\n",
       "      <th>phot_g_mean_mag-phot_rp_mean_mag</th>\n",
       "      <th>phot_bp_mean_mag-phot_rp_mean_mag</th>\n",
       "      <th>split</th>\n",
       "      <th>rf_predict</th>\n",
       "    </tr>\n",
       "  </thead>\n",
       "  <tbody>\n",
       "    <tr>\n",
       "      <th>22</th>\n",
       "      <td>JL 76</td>\n",
       "      <td>B2V</td>\n",
       "      <td>1977MNRAS.180p..31B</td>\n",
       "      <td>6348013516630089600</td>\n",
       "      <td>322.772001</td>\n",
       "      <td>-82.681432</td>\n",
       "      <td>0.012610</td>\n",
       "      <td>0.013970</td>\n",
       "      <td>0.122137</td>\n",
       "      <td>0.015700</td>\n",
       "      <td>...</td>\n",
       "      <td>-0.267812</td>\n",
       "      <td>-0.079797</td>\n",
       "      <td>-0.120970</td>\n",
       "      <td>-0.173813</td>\n",
       "      <td>0.014203</td>\n",
       "      <td>-0.052843</td>\n",
       "      <td>0.135173</td>\n",
       "      <td>0.188016</td>\n",
       "      <td>train</td>\n",
       "      <td>1.0</td>\n",
       "    </tr>\n",
       "    <tr>\n",
       "      <th>50</th>\n",
       "      <td>NSV 5313</td>\n",
       "      <td>A3/6</td>\n",
       "      <td>1998A&amp;AS..131..115C</td>\n",
       "      <td>5199521463337441152</td>\n",
       "      <td>176.050334</td>\n",
       "      <td>-80.193009</td>\n",
       "      <td>0.018525</td>\n",
       "      <td>0.019063</td>\n",
       "      <td>0.226265</td>\n",
       "      <td>0.018960</td>\n",
       "      <td>...</td>\n",
       "      <td>-1.930328</td>\n",
       "      <td>-1.031173</td>\n",
       "      <td>-1.628895</td>\n",
       "      <td>-1.990328</td>\n",
       "      <td>-1.091173</td>\n",
       "      <td>-0.361433</td>\n",
       "      <td>0.537722</td>\n",
       "      <td>0.899155</td>\n",
       "      <td>test</td>\n",
       "      <td>1.0</td>\n",
       "    </tr>\n",
       "    <tr>\n",
       "      <th>57</th>\n",
       "      <td>SOPS Ia-216</td>\n",
       "      <td>OB-</td>\n",
       "      <td>1972POAN....2...59S</td>\n",
       "      <td>5784536347386426624</td>\n",
       "      <td>201.243944</td>\n",
       "      <td>-79.750117</td>\n",
       "      <td>0.016352</td>\n",
       "      <td>0.015946</td>\n",
       "      <td>0.106836</td>\n",
       "      <td>0.019451</td>\n",
       "      <td>...</td>\n",
       "      <td>0.350538</td>\n",
       "      <td>0.206725</td>\n",
       "      <td>0.330375</td>\n",
       "      <td>0.383538</td>\n",
       "      <td>0.239725</td>\n",
       "      <td>0.053163</td>\n",
       "      <td>-0.090650</td>\n",
       "      <td>-0.143813</td>\n",
       "      <td>NaN</td>\n",
       "      <td>1.0</td>\n",
       "    </tr>\n",
       "    <tr>\n",
       "      <th>60</th>\n",
       "      <td>SOPS Ia-213</td>\n",
       "      <td>OB-</td>\n",
       "      <td>1972POAN....2...59S</td>\n",
       "      <td>5200546586130959744</td>\n",
       "      <td>166.289165</td>\n",
       "      <td>-79.362332</td>\n",
       "      <td>0.019892</td>\n",
       "      <td>0.017272</td>\n",
       "      <td>0.169451</td>\n",
       "      <td>0.021138</td>\n",
       "      <td>...</td>\n",
       "      <td>-0.069871</td>\n",
       "      <td>-0.006728</td>\n",
       "      <td>-0.031265</td>\n",
       "      <td>-0.043871</td>\n",
       "      <td>0.019272</td>\n",
       "      <td>-0.012606</td>\n",
       "      <td>0.050537</td>\n",
       "      <td>0.063143</td>\n",
       "      <td>NaN</td>\n",
       "      <td>1.0</td>\n",
       "    </tr>\n",
       "    <tr>\n",
       "      <th>70</th>\n",
       "      <td>SOPS Ia-209</td>\n",
       "      <td>OB</td>\n",
       "      <td>1972POAN....2...59S</td>\n",
       "      <td>5788398313259527808</td>\n",
       "      <td>186.408724</td>\n",
       "      <td>-78.797513</td>\n",
       "      <td>0.023525</td>\n",
       "      <td>0.019014</td>\n",
       "      <td>0.187114</td>\n",
       "      <td>0.024753</td>\n",
       "      <td>...</td>\n",
       "      <td>-0.479261</td>\n",
       "      <td>-0.352803</td>\n",
       "      <td>-0.626556</td>\n",
       "      <td>-0.576261</td>\n",
       "      <td>-0.449803</td>\n",
       "      <td>0.050295</td>\n",
       "      <td>0.176753</td>\n",
       "      <td>0.126458</td>\n",
       "      <td>NaN</td>\n",
       "      <td>1.0</td>\n",
       "    </tr>\n",
       "    <tr>\n",
       "      <th>...</th>\n",
       "      <td>...</td>\n",
       "      <td>...</td>\n",
       "      <td>...</td>\n",
       "      <td>...</td>\n",
       "      <td>...</td>\n",
       "      <td>...</td>\n",
       "      <td>...</td>\n",
       "      <td>...</td>\n",
       "      <td>...</td>\n",
       "      <td>...</td>\n",
       "      <td>...</td>\n",
       "      <td>...</td>\n",
       "      <td>...</td>\n",
       "      <td>...</td>\n",
       "      <td>...</td>\n",
       "      <td>...</td>\n",
       "      <td>...</td>\n",
       "      <td>...</td>\n",
       "      <td>...</td>\n",
       "      <td>...</td>\n",
       "      <td>...</td>\n",
       "    </tr>\n",
       "    <tr>\n",
       "      <th>59869</th>\n",
       "      <td>NGC 6705 Str 663</td>\n",
       "      <td>A5:</td>\n",
       "      <td>1925LicOB..12...10T</td>\n",
       "      <td>4252502748189542400</td>\n",
       "      <td>282.813209</td>\n",
       "      <td>-6.265053</td>\n",
       "      <td>0.016050</td>\n",
       "      <td>0.020357</td>\n",
       "      <td>0.451592</td>\n",
       "      <td>0.027922</td>\n",
       "      <td>...</td>\n",
       "      <td>-1.862153</td>\n",
       "      <td>-0.948872</td>\n",
       "      <td>-1.645575</td>\n",
       "      <td>-1.989153</td>\n",
       "      <td>-1.075872</td>\n",
       "      <td>-0.343578</td>\n",
       "      <td>0.569703</td>\n",
       "      <td>0.913281</td>\n",
       "      <td>train</td>\n",
       "      <td>1.0</td>\n",
       "    </tr>\n",
       "    <tr>\n",
       "      <th>59883</th>\n",
       "      <td>HD 225563</td>\n",
       "      <td>A</td>\n",
       "      <td>1925AnHar.100....1C</td>\n",
       "      <td>2047732345358266240</td>\n",
       "      <td>296.035520</td>\n",
       "      <td>35.111018</td>\n",
       "      <td>0.061610</td>\n",
       "      <td>0.066032</td>\n",
       "      <td>0.407392</td>\n",
       "      <td>0.081663</td>\n",
       "      <td>...</td>\n",
       "      <td>-0.322541</td>\n",
       "      <td>-0.172670</td>\n",
       "      <td>-0.678761</td>\n",
       "      <td>-0.339541</td>\n",
       "      <td>-0.189670</td>\n",
       "      <td>0.339220</td>\n",
       "      <td>0.489091</td>\n",
       "      <td>0.149871</td>\n",
       "      <td>train</td>\n",
       "      <td>1.0</td>\n",
       "    </tr>\n",
       "    <tr>\n",
       "      <th>59891</th>\n",
       "      <td>HD 147792</td>\n",
       "      <td>A0</td>\n",
       "      <td>1921AnHar..96.....C</td>\n",
       "      <td>5993094663582797696</td>\n",
       "      <td>246.415740</td>\n",
       "      <td>-40.655231</td>\n",
       "      <td>0.181629</td>\n",
       "      <td>0.139302</td>\n",
       "      <td>0.490554</td>\n",
       "      <td>0.214927</td>\n",
       "      <td>...</td>\n",
       "      <td>-1.880835</td>\n",
       "      <td>-0.884265</td>\n",
       "      <td>-1.647615</td>\n",
       "      <td>-2.032835</td>\n",
       "      <td>-1.036265</td>\n",
       "      <td>-0.385220</td>\n",
       "      <td>0.611350</td>\n",
       "      <td>0.996570</td>\n",
       "      <td>test</td>\n",
       "      <td>1.0</td>\n",
       "    </tr>\n",
       "    <tr>\n",
       "      <th>59896</th>\n",
       "      <td>CD-40 5337</td>\n",
       "      <td>A2</td>\n",
       "      <td>1919AnHar..94.....C</td>\n",
       "      <td>5425558101706488192</td>\n",
       "      <td>143.861476</td>\n",
       "      <td>-41.451704</td>\n",
       "      <td>0.199545</td>\n",
       "      <td>0.209763</td>\n",
       "      <td>0.243878</td>\n",
       "      <td>0.291947</td>\n",
       "      <td>...</td>\n",
       "      <td>-0.374896</td>\n",
       "      <td>-0.180279</td>\n",
       "      <td>-0.832027</td>\n",
       "      <td>-0.445896</td>\n",
       "      <td>-0.251278</td>\n",
       "      <td>0.386131</td>\n",
       "      <td>0.580749</td>\n",
       "      <td>0.194618</td>\n",
       "      <td>train</td>\n",
       "      <td>1.0</td>\n",
       "    </tr>\n",
       "    <tr>\n",
       "      <th>59897</th>\n",
       "      <td>HD 62733</td>\n",
       "      <td>B9</td>\n",
       "      <td>1919AnHar..93.....C</td>\n",
       "      <td>5615568897995004288</td>\n",
       "      <td>116.134148</td>\n",
       "      <td>-23.854216</td>\n",
       "      <td>0.073291</td>\n",
       "      <td>0.068251</td>\n",
       "      <td>0.423211</td>\n",
       "      <td>0.103676</td>\n",
       "      <td>...</td>\n",
       "      <td>0.021633</td>\n",
       "      <td>0.016870</td>\n",
       "      <td>-0.447410</td>\n",
       "      <td>0.038633</td>\n",
       "      <td>0.033870</td>\n",
       "      <td>0.486043</td>\n",
       "      <td>0.481280</td>\n",
       "      <td>-0.004763</td>\n",
       "      <td>train</td>\n",
       "      <td>1.0</td>\n",
       "    </tr>\n",
       "  </tbody>\n",
       "</table>\n",
       "<p>15469 rows × 75 columns</p>\n",
       "</div>"
      ],
      "text/plain": [
       "                   name sptype              bibcode            source_id  \\\n",
       "22                JL 76    B2V  1977MNRAS.180p..31B  6348013516630089600   \n",
       "50             NSV 5313   A3/6  1998A&AS..131..115C  5199521463337441152   \n",
       "57          SOPS Ia-216    OB-  1972POAN....2...59S  5784536347386426624   \n",
       "60          SOPS Ia-213    OB-  1972POAN....2...59S  5200546586130959744   \n",
       "70          SOPS Ia-209     OB  1972POAN....2...59S  5788398313259527808   \n",
       "...                 ...    ...                  ...                  ...   \n",
       "59869  NGC 6705 Str 663    A5:  1925LicOB..12...10T  4252502748189542400   \n",
       "59883         HD 225563      A  1925AnHar.100....1C  2047732345358266240   \n",
       "59891         HD 147792     A0  1921AnHar..96.....C  5993094663582797696   \n",
       "59896        CD-40 5337     A2  1919AnHar..94.....C  5425558101706488192   \n",
       "59897          HD 62733     B9  1919AnHar..93.....C  5615568897995004288   \n",
       "\n",
       "               ra        dec  ra_error  dec_error  parallax  parallax_error  \\\n",
       "22     322.772001 -82.681432  0.012610   0.013970  0.122137        0.015700   \n",
       "50     176.050334 -80.193009  0.018525   0.019063  0.226265        0.018960   \n",
       "57     201.243944 -79.750117  0.016352   0.015946  0.106836        0.019451   \n",
       "60     166.289165 -79.362332  0.019892   0.017272  0.169451        0.021138   \n",
       "70     186.408724 -78.797513  0.023525   0.019014  0.187114        0.024753   \n",
       "...           ...        ...       ...        ...       ...             ...   \n",
       "59869  282.813209  -6.265053  0.016050   0.020357  0.451592        0.027922   \n",
       "59883  296.035520  35.111018  0.061610   0.066032  0.407392        0.081663   \n",
       "59891  246.415740 -40.655231  0.181629   0.139302  0.490554        0.214927   \n",
       "59896  143.861476 -41.451704  0.199545   0.209763  0.243878        0.291947   \n",
       "59897  116.134148 -23.854216  0.073291   0.068251  0.423211        0.103676   \n",
       "\n",
       "       ...  h_m-phot_bp_mean_mag  h_m-phot_rp_mean_mag  ks_m-phot_g_mean_mag  \\\n",
       "22     ...             -0.267812             -0.079797             -0.120970   \n",
       "50     ...             -1.930328             -1.031173             -1.628895   \n",
       "57     ...              0.350538              0.206725              0.330375   \n",
       "60     ...             -0.069871             -0.006728             -0.031265   \n",
       "70     ...             -0.479261             -0.352803             -0.626556   \n",
       "...    ...                   ...                   ...                   ...   \n",
       "59869  ...             -1.862153             -0.948872             -1.645575   \n",
       "59883  ...             -0.322541             -0.172670             -0.678761   \n",
       "59891  ...             -1.880835             -0.884265             -1.647615   \n",
       "59896  ...             -0.374896             -0.180279             -0.832027   \n",
       "59897  ...              0.021633              0.016870             -0.447410   \n",
       "\n",
       "       ks_m-phot_bp_mean_mag  ks_m-phot_rp_mean_mag  \\\n",
       "22                 -0.173813               0.014203   \n",
       "50                 -1.990328              -1.091173   \n",
       "57                  0.383538               0.239725   \n",
       "60                 -0.043871               0.019272   \n",
       "70                 -0.576261              -0.449803   \n",
       "...                      ...                    ...   \n",
       "59869              -1.989153              -1.075872   \n",
       "59883              -0.339541              -0.189670   \n",
       "59891              -2.032835              -1.036265   \n",
       "59896              -0.445896              -0.251278   \n",
       "59897               0.038633               0.033870   \n",
       "\n",
       "       phot_g_mean_mag-phot_bp_mean_mag  phot_g_mean_mag-phot_rp_mean_mag  \\\n",
       "22                            -0.052843                          0.135173   \n",
       "50                            -0.361433                          0.537722   \n",
       "57                             0.053163                         -0.090650   \n",
       "60                            -0.012606                          0.050537   \n",
       "70                             0.050295                          0.176753   \n",
       "...                                 ...                               ...   \n",
       "59869                         -0.343578                          0.569703   \n",
       "59883                          0.339220                          0.489091   \n",
       "59891                         -0.385220                          0.611350   \n",
       "59896                          0.386131                          0.580749   \n",
       "59897                          0.486043                          0.481280   \n",
       "\n",
       "       phot_bp_mean_mag-phot_rp_mean_mag  split  rf_predict  \n",
       "22                              0.188016  train         1.0  \n",
       "50                              0.899155   test         1.0  \n",
       "57                             -0.143813    NaN         1.0  \n",
       "60                              0.063143    NaN         1.0  \n",
       "70                              0.126458    NaN         1.0  \n",
       "...                                  ...    ...         ...  \n",
       "59869                           0.913281  train         1.0  \n",
       "59883                           0.149871  train         1.0  \n",
       "59891                           0.996570   test         1.0  \n",
       "59896                           0.194618  train         1.0  \n",
       "59897                          -0.004763  train         1.0  \n",
       "\n",
       "[15469 rows x 75 columns]"
      ]
     },
     "execution_count": 150,
     "metadata": {},
     "output_type": "execute_result"
    }
   ],
   "source": [
    "df_1"
   ]
  },
  {
   "cell_type": "code",
   "execution_count": null,
   "id": "3fb03fcb",
   "metadata": {},
   "outputs": [],
   "source": [
    "# se equivoca mas con las B entonces esta clasificando cosas mas azules\n",
    "# Como calculo el tipo espectral representativo y estar seguro que es el mismo objeto\n",
    "# Cuantos objetos cumplen los objetos de Zari y no tienen tipos expectrales --> Descargar desde simbad\n",
    "# Buscar espectros para los que no esten en zari\n",
    "# Otros datos\n",
    "# Labels gorupby 5 tipos espectrales vemos una dispersión mayor de danto no uso el objeto\n",
    "# Label hago un sigma clipping con los numeros\n",
    "distribucion de las dispersiones de tipo espectrales, hacemos corte cuando se va de la normal\n",
    "Para los otros que no tienen dispersones extremas me quedo con un tipo expectral mediano\n",
    "Me quedo con unas coordenadas medianas y esas uso para hacer el cross match"
   ]
  },
  {
   "cell_type": "code",
   "execution_count": 148,
   "id": "302cfb65",
   "metadata": {},
   "outputs": [
    {
     "data": {
      "text/plain": [
       "mk\n",
       "A    14497\n",
       "B    30824\n",
       "F     2976\n",
       "G      380\n",
       "K       68\n",
       "M       61\n",
       "O     7849\n",
       "Name: name, dtype: int64"
      ]
     },
     "execution_count": 148,
     "metadata": {},
     "output_type": "execute_result"
    }
   ],
   "source": [
    "df.groupby(\"mk\").count()[\"name\"]"
   ]
  },
  {
   "cell_type": "code",
   "execution_count": 58,
   "id": "245bb0b1",
   "metadata": {},
   "outputs": [],
   "source": [
    "pd.set_option('display.max_row', 10)\n"
   ]
  },
  {
   "cell_type": "code",
   "execution_count": null,
   "id": "ed56b86c",
   "metadata": {},
   "outputs": [],
   "source": [
    "import joblib\n",
    "joblib.dump(model, 'r_f_sin_correccion.joblib')"
   ]
  },
  {
   "cell_type": "code",
   "execution_count": 59,
   "id": "c5bdcfea",
   "metadata": {},
   "outputs": [],
   "source": [
    "df_1.to_csv(\"candidate_to_massive_stars.csv\",index=False)"
   ]
  },
  {
   "cell_type": "code",
   "execution_count": 62,
   "id": "c41b18af",
   "metadata": {},
   "outputs": [],
   "source": [
    "df_1[\"source_id\"].to_csv(\"source_id_Candidatas_massive_stars.csv\",index=False)"
   ]
  },
  {
   "cell_type": "markdown",
   "id": "c600c981",
   "metadata": {},
   "source": [
    "## Resta colores consecutivos"
   ]
  },
  {
   "cell_type": "code",
   "execution_count": 81,
   "id": "6c005aaf",
   "metadata": {},
   "outputs": [
    {
     "name": "stderr",
     "output_type": "stream",
     "text": [
      "/tmp/ipykernel_22667/4136818439.py:1: DtypeWarning: Columns (5,42,47,48) have mixed types. Specify dtype option on import or set low_memory=False.\n",
      "  sample = pd.read_csv(\"skiff_UCAC4_topcat_labels.csv\")\n"
     ]
    }
   ],
   "source": [
    "sample = pd.read_csv(\"skiff_UCAC4_topcat_labels.csv\")\n",
    "sample = sample.loc[sample[\"label\"]!=2].reset_index(drop=True)\n",
    "\n",
    "mag_features = sample[['Jmag', 'Hmag', 'Kmag', 'Bmag', 'Vmag',\n",
    "       'Gmag', 'Rmag', 'Imag']]\n",
    "\n",
    "\n",
    "df_rf = sample[[\"Name\",\"label\"]].reset_index(drop=True)\n",
    "\n",
    "combinaciones = [\n",
    "    \"Bmag-Vmag\",\n",
    "    \"Vmag-Gmag\",\n",
    "    \"Gmag-Rmag\",\n",
    "    \"Rmag-Imag\",\n",
    "    \"Jmag-Hmag\",\n",
    "    \"Jmag-Kmag\"]\n",
    "for v in combinaciones :\n",
    "    magnitudes = v.split(\"-\")\n",
    "    df_rf[v] = sample[magnitudes[0]] - sample[magnitudes[1]]"
   ]
  },
  {
   "cell_type": "code",
   "execution_count": 82,
   "id": "409dc9ed",
   "metadata": {},
   "outputs": [
    {
     "name": "stdout",
     "output_type": "stream",
     "text": [
      "              precision    recall  f1-score   support\n",
      "\n",
      "         0.0       1.00      0.87      0.93     75160\n",
      "         1.0       0.02      0.87      0.05       283\n",
      "\n",
      "    accuracy                           0.87     75443\n",
      "   macro avg       0.51      0.87      0.49     75443\n",
      "weighted avg       1.00      0.87      0.93     75443\n",
      "\n"
     ]
    },
    {
     "data": {
      "image/png": "[encoded data removed]",
      "text/plain": [
       "<Figure size 640x480 with 1 Axes>"
      ]
     },
     "metadata": {},
     "output_type": "display_data"
    }
   ],
   "source": [
    "X_train, X_test, y_train, y_test = train_test_split(df_rf.drop(columns={\"Name\",\"label\"}),\n",
    "                                                    df_rf[\"label\"], test_size=0.2, random_state=42)\n",
    "\n",
    "\n",
    "\n",
    "# Definir el modelo\n",
    "model = BalancedRandomForestClassifier(random_state=42)\n",
    "model.fit(X_train, y_train)\n",
    "\n",
    "y_predict = model.predict(X_test)\n",
    "\n",
    "resultados = pd.DataFrame({\"y_predict\":y_predict,\"y_test\":y_test})\n",
    "\n",
    "print(classification_report(y_test, y_predict))\n",
    "\n",
    "\n",
    "import matplotlib.pyplot as plt\n",
    "\n",
    "# Datos de ejemplo\n",
    "x = model.feature_names_in_\n",
    "y = model.feature_importances_\n",
    "\n",
    "# Crear el gráfico de barras\n",
    "plt.bar(x, y)\n",
    "\n",
    "# Opcional: Personalizar el gráfico\n",
    "plt.ylabel('Importance')\n",
    "plt.title('Importancia Filtros Sin corrección')\n",
    "plt.xticks(rotation='vertical')\n",
    "\n",
    "# Mostrar el gráfico\n",
    "plt.show()\n"
   ]
  },
  {
   "cell_type": "markdown",
   "id": "c1be579e",
   "metadata": {},
   "source": [
    "###  Balanced random forest corregido"
   ]
  },
  {
   "cell_type": "code",
   "execution_count": 78,
   "id": "524d9ed1",
   "metadata": {},
   "outputs": [
    {
     "name": "stderr",
     "output_type": "stream",
     "text": [
      "/tmp/ipykernel_22667/584730718.py:1: DtypeWarning: Columns (5,42,47,48) have mixed types. Specify dtype option on import or set low_memory=False.\n",
      "  sample = pd.read_csv(\"skiff_UCAC4_topcat_labels.csv\")\n"
     ]
    },
    {
     "name": "stdout",
     "output_type": "stream",
     "text": [
      "The SFD'98 dust map is not in the data directory:\n",
      "\n",
      "    /home/nico/universidad/dustmap\n",
      "\n",
      "To change the data directory, call:\n",
      "\n",
      "    from dustmaps.config import config\n",
      "    config['data_dir'] = '/path/to/data/directory'\n",
      "\n",
      "To download the SFD'98 map to the data directory, call:\n",
      "\n",
      "    import dustmaps.sfd\n",
      "    dustmaps.sfd.fetch()\n",
      "\n"
     ]
    },
    {
     "ename": "FileNotFoundError",
     "evalue": "[Errno 2] No such file or directory: '/home/nico/universidad/dustmap/sfd/SFD_dust_4096_ngp.fits'",
     "output_type": "error",
     "traceback": [
      "\u001b[0;31m---------------------------------------------------------------------------\u001b[0m",
      "\u001b[0;31mFileNotFoundError\u001b[0m                         Traceback (most recent call last)",
      "Cell \u001b[0;32mIn [78], line 16\u001b[0m\n\u001b[1;32m      4\u001b[0m data \u001b[38;5;241m=\u001b[39m {\n\u001b[1;32m      5\u001b[0m     \u001b[38;5;124m\"\u001b[39m\u001b[38;5;124mBmag\u001b[39m\u001b[38;5;124m\"\u001b[39m: \u001b[38;5;241m3.626\u001b[39m,\n\u001b[1;32m      6\u001b[0m     \u001b[38;5;124m\"\u001b[39m\u001b[38;5;124mVmag\u001b[39m\u001b[38;5;124m\"\u001b[39m: \u001b[38;5;241m2.742\u001b[39m,\n\u001b[0;32m   (...)\u001b[0m\n\u001b[1;32m     12\u001b[0m     \u001b[38;5;124m\"\u001b[39m\u001b[38;5;124mKmag\u001b[39m\u001b[38;5;124m\"\u001b[39m: \u001b[38;5;241m0.302\u001b[39m\n\u001b[1;32m     13\u001b[0m }\n\u001b[1;32m     15\u001b[0m coords \u001b[38;5;241m=\u001b[39m SkyCoord(sample[\u001b[38;5;124m\"\u001b[39m\u001b[38;5;124m_RAJ2000\u001b[39m\u001b[38;5;124m\"\u001b[39m],sample[\u001b[38;5;124m\"\u001b[39m\u001b[38;5;124m_DEJ2000\u001b[39m\u001b[38;5;124m\"\u001b[39m], unit\u001b[38;5;241m=\u001b[39m\u001b[38;5;124m'\u001b[39m\u001b[38;5;124mdeg\u001b[39m\u001b[38;5;124m'\u001b[39m)\u001b[38;5;241m.\u001b[39mgalactic\n\u001b[0;32m---> 16\u001b[0m sfd \u001b[38;5;241m=\u001b[39m \u001b[43mSFDQuery\u001b[49m\u001b[43m(\u001b[49m\u001b[43m)\u001b[49m\n\u001b[1;32m     17\u001b[0m sample[\u001b[38;5;124m\"\u001b[39m\u001b[38;5;124mebv\u001b[39m\u001b[38;5;124m\"\u001b[39m] \u001b[38;5;241m=\u001b[39m sfd(coords)\n\u001b[1;32m     19\u001b[0m \u001b[38;5;28;01mfor\u001b[39;00m key, value \u001b[38;5;129;01min\u001b[39;00m data\u001b[38;5;241m.\u001b[39mitems():\n",
      "File \u001b[0;32m~/miniconda3/envs/deep/lib/python3.8/site-packages/dustmaps/sfd.py:115\u001b[0m, in \u001b[0;36mSFDQuery.__init__\u001b[0;34m(self, map_dir)\u001b[0m\n\u001b[1;32m    111\u001b[0m     map_dir \u001b[38;5;241m=\u001b[39m os\u001b[38;5;241m.\u001b[39mpath\u001b[38;5;241m.\u001b[39mjoin(data_dir(), \u001b[38;5;124m'\u001b[39m\u001b[38;5;124msfd\u001b[39m\u001b[38;5;124m'\u001b[39m)\n\u001b[1;32m    113\u001b[0m base_fname \u001b[38;5;241m=\u001b[39m os\u001b[38;5;241m.\u001b[39mpath\u001b[38;5;241m.\u001b[39mjoin(map_dir, \u001b[38;5;124m'\u001b[39m\u001b[38;5;124mSFD_dust_4096\u001b[39m\u001b[38;5;124m'\u001b[39m)\n\u001b[0;32m--> 115\u001b[0m \u001b[38;5;28;43msuper\u001b[39;49m\u001b[43m(\u001b[49m\u001b[43mSFDQuery\u001b[49m\u001b[43m,\u001b[49m\u001b[43m \u001b[49m\u001b[38;5;28;43mself\u001b[39;49m\u001b[43m)\u001b[49m\u001b[38;5;241;43m.\u001b[39;49m\u001b[38;5;21;43m__init__\u001b[39;49m\u001b[43m(\u001b[49m\u001b[43mbase_fname\u001b[49m\u001b[43m)\u001b[49m\n",
      "File \u001b[0;32m~/miniconda3/envs/deep/lib/python3.8/site-packages/dustmaps/sfd.py:64\u001b[0m, in \u001b[0;36mSFDBase.__init__\u001b[0;34m(self, base_fname)\u001b[0m\n\u001b[1;32m     61\u001b[0m \u001b[38;5;28;01mexcept\u001b[39;00m \u001b[38;5;167;01mIOError\u001b[39;00m \u001b[38;5;28;01mas\u001b[39;00m error:\n\u001b[1;32m     62\u001b[0m     \u001b[38;5;28mprint\u001b[39m(dustexceptions\u001b[38;5;241m.\u001b[39mdata_missing_message(\u001b[38;5;28mself\u001b[39m\u001b[38;5;241m.\u001b[39mmap_name,\n\u001b[1;32m     63\u001b[0m                                               \u001b[38;5;28mself\u001b[39m\u001b[38;5;241m.\u001b[39mmap_name_long))\n\u001b[0;32m---> 64\u001b[0m     \u001b[38;5;28;01mraise\u001b[39;00m error\n",
      "File \u001b[0;32m~/miniconda3/envs/deep/lib/python3.8/site-packages/dustmaps/sfd.py:59\u001b[0m, in \u001b[0;36mSFDBase.__init__\u001b[0;34m(self, base_fname)\u001b[0m\n\u001b[1;32m     57\u001b[0m fname \u001b[38;5;241m=\u001b[39m \u001b[38;5;124m'\u001b[39m\u001b[38;5;132;01m{}\u001b[39;00m\u001b[38;5;124m_\u001b[39m\u001b[38;5;132;01m{}\u001b[39;00m\u001b[38;5;124m.fits\u001b[39m\u001b[38;5;124m'\u001b[39m\u001b[38;5;241m.\u001b[39mformat(base_fname, pole)\n\u001b[1;32m     58\u001b[0m \u001b[38;5;28;01mtry\u001b[39;00m:\n\u001b[0;32m---> 59\u001b[0m     \u001b[38;5;28;01mwith\u001b[39;00m \u001b[43mfits\u001b[49m\u001b[38;5;241;43m.\u001b[39;49m\u001b[43mopen\u001b[49m\u001b[43m(\u001b[49m\u001b[43mfname\u001b[49m\u001b[43m)\u001b[49m \u001b[38;5;28;01mas\u001b[39;00m hdulist:\n\u001b[1;32m     60\u001b[0m         \u001b[38;5;28mself\u001b[39m\u001b[38;5;241m.\u001b[39m_data[pole] \u001b[38;5;241m=\u001b[39m [hdulist[\u001b[38;5;241m0\u001b[39m]\u001b[38;5;241m.\u001b[39mdata, wcs\u001b[38;5;241m.\u001b[39mWCS(hdulist[\u001b[38;5;241m0\u001b[39m]\u001b[38;5;241m.\u001b[39mheader)]\n\u001b[1;32m     61\u001b[0m \u001b[38;5;28;01mexcept\u001b[39;00m \u001b[38;5;167;01mIOError\u001b[39;00m \u001b[38;5;28;01mas\u001b[39;00m error:\n",
      "File \u001b[0;32m~/.local/lib/python3.8/site-packages/astropy/io/fits/hdu/hdulist.py:214\u001b[0m, in \u001b[0;36mfitsopen\u001b[0;34m(name, mode, memmap, save_backup, cache, lazy_load_hdus, ignore_missing_simple, use_fsspec, fsspec_kwargs, **kwargs)\u001b[0m\n\u001b[1;32m    211\u001b[0m \u001b[38;5;28;01mif\u001b[39;00m \u001b[38;5;129;01mnot\u001b[39;00m name:\n\u001b[1;32m    212\u001b[0m     \u001b[38;5;28;01mraise\u001b[39;00m \u001b[38;5;167;01mValueError\u001b[39;00m(\u001b[38;5;124mf\u001b[39m\u001b[38;5;124m\"\u001b[39m\u001b[38;5;124mEmpty filename: \u001b[39m\u001b[38;5;132;01m{\u001b[39;00mname\u001b[38;5;132;01m!r}\u001b[39;00m\u001b[38;5;124m\"\u001b[39m)\n\u001b[0;32m--> 214\u001b[0m \u001b[38;5;28;01mreturn\u001b[39;00m \u001b[43mHDUList\u001b[49m\u001b[38;5;241;43m.\u001b[39;49m\u001b[43mfromfile\u001b[49m\u001b[43m(\u001b[49m\n\u001b[1;32m    215\u001b[0m \u001b[43m    \u001b[49m\u001b[43mname\u001b[49m\u001b[43m,\u001b[49m\n\u001b[1;32m    216\u001b[0m \u001b[43m    \u001b[49m\u001b[43mmode\u001b[49m\u001b[43m,\u001b[49m\n\u001b[1;32m    217\u001b[0m \u001b[43m    \u001b[49m\u001b[43mmemmap\u001b[49m\u001b[43m,\u001b[49m\n\u001b[1;32m    218\u001b[0m \u001b[43m    \u001b[49m\u001b[43msave_backup\u001b[49m\u001b[43m,\u001b[49m\n\u001b[1;32m    219\u001b[0m \u001b[43m    \u001b[49m\u001b[43mcache\u001b[49m\u001b[43m,\u001b[49m\n\u001b[1;32m    220\u001b[0m \u001b[43m    \u001b[49m\u001b[43mlazy_load_hdus\u001b[49m\u001b[43m,\u001b[49m\n\u001b[1;32m    221\u001b[0m \u001b[43m    \u001b[49m\u001b[43mignore_missing_simple\u001b[49m\u001b[43m,\u001b[49m\n\u001b[1;32m    222\u001b[0m \u001b[43m    \u001b[49m\u001b[43muse_fsspec\u001b[49m\u001b[38;5;241;43m=\u001b[39;49m\u001b[43muse_fsspec\u001b[49m\u001b[43m,\u001b[49m\n\u001b[1;32m    223\u001b[0m \u001b[43m    \u001b[49m\u001b[43mfsspec_kwargs\u001b[49m\u001b[38;5;241;43m=\u001b[39;49m\u001b[43mfsspec_kwargs\u001b[49m\u001b[43m,\u001b[49m\n\u001b[1;32m    224\u001b[0m \u001b[43m    \u001b[49m\u001b[38;5;241;43m*\u001b[39;49m\u001b[38;5;241;43m*\u001b[39;49m\u001b[43mkwargs\u001b[49m\u001b[43m,\u001b[49m\n\u001b[1;32m    225\u001b[0m \u001b[43m\u001b[49m\u001b[43m)\u001b[49m\n",
      "File \u001b[0;32m~/.local/lib/python3.8/site-packages/astropy/io/fits/hdu/hdulist.py:482\u001b[0m, in \u001b[0;36mHDUList.fromfile\u001b[0;34m(cls, fileobj, mode, memmap, save_backup, cache, lazy_load_hdus, ignore_missing_simple, **kwargs)\u001b[0m\n\u001b[1;32m    462\u001b[0m \u001b[38;5;129m@classmethod\u001b[39m\n\u001b[1;32m    463\u001b[0m \u001b[38;5;28;01mdef\u001b[39;00m \u001b[38;5;21mfromfile\u001b[39m(\n\u001b[1;32m    464\u001b[0m     \u001b[38;5;28mcls\u001b[39m,\n\u001b[0;32m   (...)\u001b[0m\n\u001b[1;32m    472\u001b[0m     \u001b[38;5;241m*\u001b[39m\u001b[38;5;241m*\u001b[39mkwargs,\n\u001b[1;32m    473\u001b[0m ):\n\u001b[1;32m    474\u001b[0m     \u001b[38;5;124;03m\"\"\"\u001b[39;00m\n\u001b[1;32m    475\u001b[0m \u001b[38;5;124;03m    Creates an `HDUList` instance from a file-like object.\u001b[39;00m\n\u001b[1;32m    476\u001b[0m \n\u001b[0;32m   (...)\u001b[0m\n\u001b[1;32m    479\u001b[0m \u001b[38;5;124;03m    documentation for details of the parameters accepted by this method).\u001b[39;00m\n\u001b[1;32m    480\u001b[0m \u001b[38;5;124;03m    \"\"\"\u001b[39;00m\n\u001b[0;32m--> 482\u001b[0m     \u001b[38;5;28;01mreturn\u001b[39;00m \u001b[38;5;28;43mcls\u001b[39;49m\u001b[38;5;241;43m.\u001b[39;49m\u001b[43m_readfrom\u001b[49m\u001b[43m(\u001b[49m\n\u001b[1;32m    483\u001b[0m \u001b[43m        \u001b[49m\u001b[43mfileobj\u001b[49m\u001b[38;5;241;43m=\u001b[39;49m\u001b[43mfileobj\u001b[49m\u001b[43m,\u001b[49m\n\u001b[1;32m    484\u001b[0m \u001b[43m        \u001b[49m\u001b[43mmode\u001b[49m\u001b[38;5;241;43m=\u001b[39;49m\u001b[43mmode\u001b[49m\u001b[43m,\u001b[49m\n\u001b[1;32m    485\u001b[0m \u001b[43m        \u001b[49m\u001b[43mmemmap\u001b[49m\u001b[38;5;241;43m=\u001b[39;49m\u001b[43mmemmap\u001b[49m\u001b[43m,\u001b[49m\n\u001b[1;32m    486\u001b[0m \u001b[43m        \u001b[49m\u001b[43msave_backup\u001b[49m\u001b[38;5;241;43m=\u001b[39;49m\u001b[43msave_backup\u001b[49m\u001b[43m,\u001b[49m\n\u001b[1;32m    487\u001b[0m \u001b[43m        \u001b[49m\u001b[43mcache\u001b[49m\u001b[38;5;241;43m=\u001b[39;49m\u001b[43mcache\u001b[49m\u001b[43m,\u001b[49m\n\u001b[1;32m    488\u001b[0m \u001b[43m        \u001b[49m\u001b[43mignore_missing_simple\u001b[49m\u001b[38;5;241;43m=\u001b[39;49m\u001b[43mignore_missing_simple\u001b[49m\u001b[43m,\u001b[49m\n\u001b[1;32m    489\u001b[0m \u001b[43m        \u001b[49m\u001b[43mlazy_load_hdus\u001b[49m\u001b[38;5;241;43m=\u001b[39;49m\u001b[43mlazy_load_hdus\u001b[49m\u001b[43m,\u001b[49m\n\u001b[1;32m    490\u001b[0m \u001b[43m        \u001b[49m\u001b[38;5;241;43m*\u001b[39;49m\u001b[38;5;241;43m*\u001b[39;49m\u001b[43mkwargs\u001b[49m\u001b[43m,\u001b[49m\n\u001b[1;32m    491\u001b[0m \u001b[43m    \u001b[49m\u001b[43m)\u001b[49m\n",
      "File \u001b[0;32m~/.local/lib/python3.8/site-packages/astropy/io/fits/hdu/hdulist.py:1170\u001b[0m, in \u001b[0;36mHDUList._readfrom\u001b[0;34m(cls, fileobj, data, mode, memmap, cache, lazy_load_hdus, ignore_missing_simple, use_fsspec, fsspec_kwargs, **kwargs)\u001b[0m\n\u001b[1;32m   1167\u001b[0m \u001b[38;5;28;01mif\u001b[39;00m fileobj \u001b[38;5;129;01mis\u001b[39;00m \u001b[38;5;129;01mnot\u001b[39;00m \u001b[38;5;28;01mNone\u001b[39;00m:\n\u001b[1;32m   1168\u001b[0m     \u001b[38;5;28;01mif\u001b[39;00m \u001b[38;5;129;01mnot\u001b[39;00m \u001b[38;5;28misinstance\u001b[39m(fileobj, _File):\n\u001b[1;32m   1169\u001b[0m         \u001b[38;5;66;03m# instantiate a FITS file object (ffo)\u001b[39;00m\n\u001b[0;32m-> 1170\u001b[0m         fileobj \u001b[38;5;241m=\u001b[39m \u001b[43m_File\u001b[49m\u001b[43m(\u001b[49m\n\u001b[1;32m   1171\u001b[0m \u001b[43m            \u001b[49m\u001b[43mfileobj\u001b[49m\u001b[43m,\u001b[49m\n\u001b[1;32m   1172\u001b[0m \u001b[43m            \u001b[49m\u001b[43mmode\u001b[49m\u001b[38;5;241;43m=\u001b[39;49m\u001b[43mmode\u001b[49m\u001b[43m,\u001b[49m\n\u001b[1;32m   1173\u001b[0m \u001b[43m            \u001b[49m\u001b[43mmemmap\u001b[49m\u001b[38;5;241;43m=\u001b[39;49m\u001b[43mmemmap\u001b[49m\u001b[43m,\u001b[49m\n\u001b[1;32m   1174\u001b[0m \u001b[43m            \u001b[49m\u001b[43mcache\u001b[49m\u001b[38;5;241;43m=\u001b[39;49m\u001b[43mcache\u001b[49m\u001b[43m,\u001b[49m\n\u001b[1;32m   1175\u001b[0m \u001b[43m            \u001b[49m\u001b[43muse_fsspec\u001b[49m\u001b[38;5;241;43m=\u001b[39;49m\u001b[43muse_fsspec\u001b[49m\u001b[43m,\u001b[49m\n\u001b[1;32m   1176\u001b[0m \u001b[43m            \u001b[49m\u001b[43mfsspec_kwargs\u001b[49m\u001b[38;5;241;43m=\u001b[39;49m\u001b[43mfsspec_kwargs\u001b[49m\u001b[43m,\u001b[49m\n\u001b[1;32m   1177\u001b[0m \u001b[43m        \u001b[49m\u001b[43m)\u001b[49m\n\u001b[1;32m   1178\u001b[0m     \u001b[38;5;66;03m# The Astropy mode is determined by the _File initializer if the\u001b[39;00m\n\u001b[1;32m   1179\u001b[0m     \u001b[38;5;66;03m# supplied mode was None\u001b[39;00m\n\u001b[1;32m   1180\u001b[0m     mode \u001b[38;5;241m=\u001b[39m fileobj\u001b[38;5;241m.\u001b[39mmode\n",
      "File \u001b[0;32m~/.local/lib/python3.8/site-packages/astropy/io/fits/file.py:218\u001b[0m, in \u001b[0;36m_File.__init__\u001b[0;34m(self, fileobj, mode, memmap, overwrite, cache, use_fsspec, fsspec_kwargs)\u001b[0m\n\u001b[1;32m    216\u001b[0m     \u001b[38;5;28mself\u001b[39m\u001b[38;5;241m.\u001b[39m_open_fileobj(fileobj, mode, overwrite)\n\u001b[1;32m    217\u001b[0m \u001b[38;5;28;01melif\u001b[39;00m \u001b[38;5;28misinstance\u001b[39m(fileobj, (\u001b[38;5;28mstr\u001b[39m, \u001b[38;5;28mbytes\u001b[39m)):\n\u001b[0;32m--> 218\u001b[0m     \u001b[38;5;28;43mself\u001b[39;49m\u001b[38;5;241;43m.\u001b[39;49m\u001b[43m_open_filename\u001b[49m\u001b[43m(\u001b[49m\u001b[43mfileobj\u001b[49m\u001b[43m,\u001b[49m\u001b[43m \u001b[49m\u001b[43mmode\u001b[49m\u001b[43m,\u001b[49m\u001b[43m \u001b[49m\u001b[43moverwrite\u001b[49m\u001b[43m)\u001b[49m\n\u001b[1;32m    219\u001b[0m \u001b[38;5;28;01melse\u001b[39;00m:\n\u001b[1;32m    220\u001b[0m     \u001b[38;5;28mself\u001b[39m\u001b[38;5;241m.\u001b[39m_open_filelike(fileobj, mode, overwrite)\n",
      "File \u001b[0;32m~/.local/lib/python3.8/site-packages/astropy/io/fits/file.py:636\u001b[0m, in \u001b[0;36m_File._open_filename\u001b[0;34m(self, filename, mode, overwrite)\u001b[0m\n\u001b[1;32m    633\u001b[0m ext \u001b[38;5;241m=\u001b[39m os\u001b[38;5;241m.\u001b[39mpath\u001b[38;5;241m.\u001b[39msplitext(\u001b[38;5;28mself\u001b[39m\u001b[38;5;241m.\u001b[39mname)[\u001b[38;5;241m1\u001b[39m]\n\u001b[1;32m    635\u001b[0m \u001b[38;5;28;01mif\u001b[39;00m \u001b[38;5;129;01mnot\u001b[39;00m \u001b[38;5;28mself\u001b[39m\u001b[38;5;241m.\u001b[39m_try_read_compressed(\u001b[38;5;28mself\u001b[39m\u001b[38;5;241m.\u001b[39mname, magic, mode, ext\u001b[38;5;241m=\u001b[39mext):\n\u001b[0;32m--> 636\u001b[0m     \u001b[38;5;28mself\u001b[39m\u001b[38;5;241m.\u001b[39m_file \u001b[38;5;241m=\u001b[39m \u001b[38;5;28;43mopen\u001b[39;49m\u001b[43m(\u001b[49m\u001b[38;5;28;43mself\u001b[39;49m\u001b[38;5;241;43m.\u001b[39;49m\u001b[43mname\u001b[49m\u001b[43m,\u001b[49m\u001b[43m \u001b[49m\u001b[43mIO_FITS_MODES\u001b[49m\u001b[43m[\u001b[49m\u001b[43mmode\u001b[49m\u001b[43m]\u001b[49m\u001b[43m)\u001b[49m\n\u001b[1;32m    637\u001b[0m     \u001b[38;5;28mself\u001b[39m\u001b[38;5;241m.\u001b[39mclose_on_error \u001b[38;5;241m=\u001b[39m \u001b[38;5;28;01mTrue\u001b[39;00m\n\u001b[1;32m    639\u001b[0m \u001b[38;5;66;03m# Make certain we're back at the beginning of the file\u001b[39;00m\n\u001b[1;32m    640\u001b[0m \u001b[38;5;66;03m# BZ2File does not support seek when the file is open for writing, but\u001b[39;00m\n\u001b[1;32m    641\u001b[0m \u001b[38;5;66;03m# when opening a file for write, bz2.BZ2File always truncates anyway.\u001b[39;00m\n",
      "\u001b[0;31mFileNotFoundError\u001b[0m: [Errno 2] No such file or directory: '/home/nico/universidad/dustmap/sfd/SFD_dust_4096_ngp.fits'"
     ]
    }
   ],
   "source": [
    "sample = pd.read_csv(\"skiff_UCAC4_topcat_labels.csv\")\n",
    "sample = sample.loc[sample[\"label\"]!=2].reset_index(drop=True)\n",
    "\n",
    "data = {\n",
    "    \"Bmag\": 3.626,\n",
    "    \"Vmag\": 2.742,\n",
    "    \"Gmag\": 3.303,\n",
    "    \"Rmag\": 2.285,\n",
    "    \"Imag\": 1.698,\n",
    "    \"Jmag\": 0.709,\n",
    "    \"Hmag\": 0.449,\n",
    "    \"Kmag\": 0.302\n",
    "}\n",
    "\n",
    "coords = SkyCoord(sample[\"_RAJ2000\"],sample[\"_DEJ2000\"], unit='deg').galactic\n",
    "sfd = SFDQuery()\n",
    "sample[\"ebv\"] = sfd(coords)\n",
    "\n",
    "for key, value in data.items():\n",
    "    sample[key] = sample[key] - (value * sample[\"ebv\"])\n",
    "    \n",
    "mag_features = sample[['Jmag', 'Hmag', 'Kmag', 'Bmag', 'Vmag',\n",
    "       'Gmag', 'Rmag', 'Imag']]\n",
    "\n",
    "df_rf = sample[[\"Name\",\"label\"]].reset_index(drop=True)\n",
    "\n",
    "from itertools import combinations\n",
    "for v in combinations(mag_features, 2):\n",
    "    df_rf[f\"{v[0]}-{v[1]}\"] = sample[v[0]] - sample[v[1]]"
   ]
  },
  {
   "cell_type": "code",
   "execution_count": null,
   "id": "f67c5c93",
   "metadata": {},
   "outputs": [],
   "source": [
    "X_train, X_test, y_train, y_test = train_test_split(df_rf.drop(columns={\"Name\",\"label\"}),\n",
    "                                                    df_rf[\"label\"], test_size=0.2, random_state=42)\n",
    "\n",
    "\n",
    "\n",
    "# Definir el modelo\n",
    "model = BalancedRandomForestClassifier(random_state=42)\n",
    "model.fit(X_train, y_train)\n",
    "\n",
    "y_predict = model.predict(X_test)\n",
    "\n",
    "resultados = pd.DataFrame({\"y_predict\":y_predict,\"y_test\":y_test})\n",
    "\n",
    "print(classification_report(y_test, y_predict))\n",
    "\n",
    "\n",
    "import matplotlib.pyplot as plt\n",
    "\n",
    "# Datos de ejemplo\n",
    "x = model.feature_names_in_\n",
    "y = model.feature_importances_\n",
    "\n",
    "# Crear el gráfico de barras\n",
    "plt.bar(x, y)\n",
    "\n",
    "# Opcional: Personalizar el gráfico\n",
    "plt.ylabel('Importance')\n",
    "plt.title('Importancia Filtros Sin corrección')\n",
    "plt.xticks(rotation='vertical')\n",
    "\n",
    "# Mostrar el gráfico\n",
    "plt.show()\n"
   ]
  },
  {
   "cell_type": "markdown",
   "id": "f0e4496a",
   "metadata": {},
   "source": [
    "## Resta consecutiva corregida"
   ]
  },
  {
   "cell_type": "code",
   "execution_count": 91,
   "id": "ebbc8326",
   "metadata": {},
   "outputs": [
    {
     "name": "stderr",
     "output_type": "stream",
     "text": [
      "/tmp/ipykernel_6276/1201379821.py:1: DtypeWarning: Columns (5,42,47,48,52) have mixed types. Specify dtype option on import or set low_memory=False.\n",
      "  df = pd.read_csv(\"skiff_UCAC4_topcat_labels.csv\")\n"
     ]
    },
    {
     "name": "stdout",
     "output_type": "stream",
     "text": [
      "              precision    recall  f1-score   support\n",
      "\n",
      "         0.0       1.00      0.83      0.91     68640\n",
      "         1.0       0.02      0.92      0.04       287\n",
      "\n",
      "    accuracy                           0.83     68927\n",
      "   macro avg       0.51      0.87      0.47     68927\n",
      "weighted avg       1.00      0.83      0.90     68927\n",
      "\n"
     ]
    },
    {
     "data": {
      "image/png": "[encoded data removed]",
      "text/plain": [
       "<Figure size 640x480 with 1 Axes>"
      ]
     },
     "metadata": {},
     "output_type": "display_data"
    }
   ],
   "source": [
    "df = pd.read_csv(\"skiff_UCAC4_topcat_labels.csv\")\n",
    "sample = df.loc[df[\"prepro\"]==1].reset_index(drop=True)\n",
    "\n",
    "data = {\n",
    "    \"Bmag\": 3.626,\n",
    "    \"Vmag\": 2.742,\n",
    "    \"Gmag\": 3.303,\n",
    "    \"Rmag\": 2.285,\n",
    "    \"Imag\": 1.698,\n",
    "    \"Jmag\": 0.709,\n",
    "    \"Hmag\": 0.449,\n",
    "    \"Kmag\": 0.302\n",
    "}\n",
    "\n",
    "coords = SkyCoord(sample[\"_RAJ2000\"],sample[\"_DEJ2000\"], unit='deg').galactic\n",
    "sfd = SFDQuery()\n",
    "sample[\"ebv\"] = sfd(coords)\n",
    "\n",
    "for key, value in data.items():\n",
    "    sample[key] = sample[key] - (value * sample[\"ebv\"])\n",
    "    \n",
    "mag_features = sample[['Jmag', 'Hmag', 'Kmag', 'Bmag', 'Vmag',\n",
    "       'Gmag', 'Rmag', 'Imag']]\n",
    "\n",
    "\n",
    "df_rf = sample[[\"Name\",\"label\"]].reset_index(drop=True)\n",
    "\n",
    "for v in combinaciones :\n",
    "    magnitudes = v.split(\"-\")\n",
    "    df_rf[v] = sample[magnitudes[0]] - sample[magnitudes[1]]\n",
    "    \n",
    "    \n",
    "\n",
    "X_train, X_test, y_train, y_test = train_test_split(df_rf.drop(columns={\"Name\",\"label\"}),\n",
    "                                                    df_rf[\"label\"], test_size=0.2, random_state=42)\n",
    "\n",
    "\n",
    "\n",
    "# Definir el modelo\n",
    "model = BalancedRandomForestClassifier(random_state=42)\n",
    "model.fit(X_train, y_train)\n",
    "\n",
    "y_predict = model.predict(X_test)\n",
    "\n",
    "resultados = pd.DataFrame({\"y_predict\":y_predict,\"y_test\":y_test})\n",
    "\n",
    "print(classification_report(y_test, y_predict))\n",
    "\n",
    "\n",
    "import matplotlib.pyplot as plt\n",
    "\n",
    "# Datos de ejemplo\n",
    "x = model.feature_names_in_\n",
    "y = model.feature_importances_\n",
    "\n",
    "# Crear el gráfico de barras\n",
    "plt.bar(x, y)\n",
    "\n",
    "# Opcional: Personalizar el gráfico\n",
    "plt.ylabel('Importance')\n",
    "plt.title('Importancia Filtros Sin corrección')\n",
    "plt.xticks(rotation='vertical')\n",
    "\n",
    "# Mostrar el gráfico\n",
    "plt.show()\n"
   ]
  },
  {
   "cell_type": "markdown",
   "id": "16feb192",
   "metadata": {},
   "source": [
    "### Pareciera que lo que anda mejor son los colores sin corrección"
   ]
  },
  {
   "cell_type": "code",
   "execution_count": 131,
   "id": "2100ec28",
   "metadata": {},
   "outputs": [
    {
     "name": "stderr",
     "output_type": "stream",
     "text": [
      "/tmp/ipykernel_22667/3528597407.py:1: DtypeWarning: Columns (5,42,47,48) have mixed types. Specify dtype option on import or set low_memory=False.\n",
      "  sample = pd.read_csv(\"skiff_UCAC4_topcat_labels_split.csv\")\n"
     ]
    }
   ],
   "source": [
    "sample = pd.read_csv(\"skiff_UCAC4_topcat_labels_split.csv\")\n",
    "mag_features = sample[['Jmag', 'Hmag', 'Kmag', 'Bmag', 'Vmag',\n",
    "       'Gmag', 'Rmag', 'Imag']]\n",
    "df_rf = sample[[\"Name\",\"label\"]].reset_index(drop=True)"
   ]
  },
  {
   "cell_type": "code",
   "execution_count": 132,
   "id": "c3b79786",
   "metadata": {},
   "outputs": [],
   "source": [
    "from itertools import combinations\n",
    "for v in combinations(mag_features, 2):\n",
    "    df_rf[f\"{v[0]}-{v[1]}\"] = sample[v[0]] - sample[v[1]]"
   ]
  },
  {
   "cell_type": "code",
   "execution_count": 133,
   "id": "bfe31573",
   "metadata": {},
   "outputs": [],
   "source": [
    "loaded_model = joblib.load('r_f_sin_correccion.joblib')\n"
   ]
  },
  {
   "cell_type": "code",
   "execution_count": 141,
   "id": "8befe4d9",
   "metadata": {},
   "outputs": [],
   "source": [
    "sample[\"predict\"] = loaded_model.predict(df_rf.drop(columns=[\"Name\",\"label\"]))\n",
    "sample[[\"p1\",\"p2\"]] = loaded_model.predict_proba(df_rf.drop(columns=[\"Name\",\"label\"]))"
   ]
  },
  {
   "cell_type": "code",
   "execution_count": 169,
   "id": "db23097b",
   "metadata": {},
   "outputs": [],
   "source": [
    "sample = sample.loc[(sample[\"predict\"]==1)|(sample[\"label\"]==1)|(sample[\"label\"]==2)].reset_index(drop=True)"
   ]
  },
  {
   "cell_type": "code",
   "execution_count": 170,
   "id": "f0039814",
   "metadata": {},
   "outputs": [],
   "source": [
    "sample.to_csv(\"catalog_filtros_colores.csv\",index=False)"
   ]
  }
 ],
 "metadata": {
  "kernelspec": {
   "display_name": "Python 3 (ipykernel)",
   "language": "python",
   "name": "python3"
  },
  "language_info": {
   "codemirror_mode": {
    "name": "ipython",
    "version": 3
   },
   "file_extension": ".py",
   "mimetype": "text/x-python",
   "name": "python",
   "nbconvert_exporter": "python",
   "pygments_lexer": "ipython3",
   "version": "3.8.18"
  }
 },
 "nbformat": 4,
 "nbformat_minor": 5
}
