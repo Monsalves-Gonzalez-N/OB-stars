{
 "cells": [
  {
   "cell_type": "code",
   "execution_count": 1,
   "id": "9d1e7008",
   "metadata": {},
   "outputs": [
    {
     "name": "stderr",
     "output_type": "stream",
     "text": [
      "2023-10-26 11:37:22.381090: I tensorflow/tsl/cuda/cudart_stub.cc:28] Could not find cuda drivers on your machine, GPU will not be used.\n",
      "2023-10-26 11:37:22.407870: E tensorflow/compiler/xla/stream_executor/cuda/cuda_dnn.cc:9342] Unable to register cuDNN factory: Attempting to register factory for plugin cuDNN when one has already been registered\n",
      "2023-10-26 11:37:22.407890: E tensorflow/compiler/xla/stream_executor/cuda/cuda_fft.cc:609] Unable to register cuFFT factory: Attempting to register factory for plugin cuFFT when one has already been registered\n",
      "2023-10-26 11:37:22.407906: E tensorflow/compiler/xla/stream_executor/cuda/cuda_blas.cc:1518] Unable to register cuBLAS factory: Attempting to register factory for plugin cuBLAS when one has already been registered\n",
      "2023-10-26 11:37:22.412526: I tensorflow/tsl/cuda/cudart_stub.cc:28] Could not find cuda drivers on your machine, GPU will not be used.\n",
      "2023-10-26 11:37:22.413118: I tensorflow/core/platform/cpu_feature_guard.cc:182] This TensorFlow binary is optimized to use available CPU instructions in performance-critical operations.\n",
      "To enable the following instructions: AVX2 FMA, in other operations, rebuild TensorFlow with the appropriate compiler flags.\n",
      "2023-10-26 11:37:23.063211: W tensorflow/compiler/tf2tensorrt/utils/py_utils.cc:38] TF-TRT Warning: Could not find TensorRT\n"
     ]
    }
   ],
   "source": [
    "import pandas as pd\n",
    "import ray\n",
    "import seaborn as sns\n",
    "import matplotlib.pyplot as plt\n",
    "import tensorflow as tf\n",
    "import plotly.graph_objects as go\n",
    "from itertools import combinations\n",
    "from sklearn.preprocessing import LabelEncoder, StandardScaler\n",
    "from sklearn.model_selection import (train_test_split, GridSearchCV,\n",
    "                                    StratifiedKFold, StratifiedShuffleSplit,\n",
    "                                    cross_val_score)\n",
    "from sklearn.metrics import make_scorer, recall_score, precision_score, f1_score, classification_report\n",
    "from imblearn.ensemble import BalancedRandomForestClassifier\n",
    "import numpy as np\n",
    "import joblib\n",
    "from pandarallel import pandarallel\n",
    "from sklearn.preprocessing import LabelEncoder, StandardScaler\n",
    "import re"
   ]
  },
  {
   "cell_type": "code",
   "execution_count": 2,
   "id": "1e86f6c8",
   "metadata": {},
   "outputs": [],
   "source": [
    "def busqueda(expression,column,name=None):\n",
    "    if column is np.nan:\n",
    "        return np.nan\n",
    "    m = re.search(expression,column)\n",
    "    if m == None:\n",
    "        return np.nan\n",
    "    if name != None:\n",
    "        return name\n",
    "    else :\n",
    "        return m.group(0)"
   ]
  },
  {
   "cell_type": "code",
   "execution_count": 43,
   "id": "016880e4",
   "metadata": {},
   "outputs": [
    {
     "name": "stderr",
     "output_type": "stream",
     "text": [
      "/tmp/ipykernel_5899/1297598039.py:1: DtypeWarning: Columns (72,74,83,84,85,86,88,89,105,116,119,122,124,125,127,128,130,131,133,134,141,163,166,167,186,193,211,279,280,285) have mixed types. Specify dtype option on import or set low_memory=False.\n",
      "  df_1 = pd.read_csv(\"/home/marcelo/nico/MasivasData/Skiff_zari_gaia_OGLE_Splus_Unwise_vsxpredicted.csv\")\n"
     ]
    }
   ],
   "source": [
    "df_1 = pd.read_csv(\"/home/marcelo/nico/MasivasData/Skiff_zari_gaia_OGLE_Splus_Unwise_vsxpredicted.csv\")"
   ]
  },
  {
   "cell_type": "code",
   "execution_count": 4,
   "id": "22b913a4-2764-44f0-a54c-f060826644af",
   "metadata": {},
   "outputs": [],
   "source": [
    "skiff = df_1[['source_id_1',\"skiff_type\",'Bibcode','GroupID_2arcsec_skiff']].astype(str)"
   ]
  },
  {
   "cell_type": "code",
   "execution_count": 5,
   "id": "f7fd4e33-d67b-41c0-995f-2f13835ea76a",
   "metadata": {},
   "outputs": [],
   "source": [
    "skiff['skiff_type'] = skiff['skiff_type'].replace('nan', np.nan)\n",
    "skiff['Bibcode'] = skiff['Bibcode'].replace('nan', np.nan)\n",
    "skiff['GroupID_2arcsec_skiff'] = skiff['GroupID_2arcsec_skiff'].replace('nan', np.nan)"
   ]
  },
  {
   "cell_type": "code",
   "execution_count": 6,
   "id": "6b5de6b6-827c-4599-affa-a128730996f1",
   "metadata": {},
   "outputs": [],
   "source": [
    "skiff = skiff.loc[skiff['skiff_type'].notna()]"
   ]
  },
  {
   "cell_type": "code",
   "execution_count": 7,
   "id": "681a175e-ab3e-4bb5-9cd7-87bae13664b5",
   "metadata": {},
   "outputs": [],
   "source": [
    "skiff[\"skiff_mk\"] = skiff.apply(lambda row: busqueda(r\"^(?!.*[+/])[a-zA-Z]\\d+(?:\\.\\d+)?\",row[\"skiff_type\"]),axis=1)"
   ]
  },
  {
   "cell_type": "code",
   "execution_count": 8,
   "id": "5f73dea7-9adf-4e36-beed-4e362a200339",
   "metadata": {},
   "outputs": [],
   "source": [
    "skiff.loc[(skiff['skiff_mk'].isna())&(skiff['skiff_type'].str[:2]=='em'),'skiff_mk'] = 'em_WR_Be'\n",
    "skiff.loc[skiff['skiff_mk'].isna(),'skiff_mk'] = skiff.loc[skiff['skiff_mk'].isna()].apply(lambda row: busqueda(r\"WR|WN|WC\", row[\"skiff_type\"],'em_WR_Be'), axis=1)\n",
    "skiff.loc[skiff['skiff_mk'].isna(),'skiff_mk'] = skiff.loc[skiff['skiff_mk'].isna()].apply(lambda row: busqueda(r\"Be\", row[\"skiff_type\"],'em_WR_Be'), axis=1)\n",
    "skiff.loc[skiff['skiff_mk'].isna(),'skiff_mk'] = skiff.loc[skiff['skiff_mk'].isna()].apply(lambda row: busqueda(r\"OB\", row[\"skiff_type\"]), axis=1)"
   ]
  },
  {
   "cell_type": "code",
   "execution_count": 9,
   "id": "7e7b3277-cb66-4362-8c13-50c4cf5389fa",
   "metadata": {},
   "outputs": [],
   "source": [
    "skiff.loc[(skiff['skiff_mk'].isna())&(skiff['skiff_type'].str[0]=='h'),'skiff_mk'] = skiff.loc[(skiff['skiff_mk'].isna())&(skiff['skiff_type'].str[0]=='h')]['skiff_type'].str[1:3]"
   ]
  },
  {
   "cell_type": "code",
   "execution_count": 10,
   "id": "708319d0-8bcb-478b-92f2-278aefc6f77d",
   "metadata": {},
   "outputs": [],
   "source": [
    "def busqueda_2(pattern, string, default=None):\n",
    "    match = re.search(pattern, string)\n",
    "    if match:\n",
    "        return match.group(1)  # Retornamos el primer grupo de captura\n",
    "    return default\n",
    "\n",
    "skiff.loc[skiff['skiff_mk'].isna(),'skiff_mk'] = skiff.loc[skiff['skiff_mk'].isna()].apply(lambda row: busqueda_2(r\"^(.*?)(?=(V|IV|III|II|Ia|Ib|Iab)(?:/(V|IV|III|II|Ia|Ib|Iab))?$)\", row[\"skiff_type\"]), axis=1)\n"
   ]
  },
  {
   "cell_type": "code",
   "execution_count": 11,
   "id": "22b75a0e-5660-4cbb-b265-3facd1ad7b9a",
   "metadata": {},
   "outputs": [],
   "source": [
    "skiff.loc[skiff['skiff_mk'].isna(),'skiff_mk'] = skiff.loc[skiff['skiff_mk'].isna()].apply(lambda row: busqueda(r\"^(O|B|A|F|G|K|M)$\", row[\"skiff_type\"]), axis=1)\n"
   ]
  },
  {
   "cell_type": "code",
   "execution_count": 12,
   "id": "f3a76a16-85ea-426d-8a9d-a987dd2a1be2",
   "metadata": {},
   "outputs": [],
   "source": [
    "skiff.loc[(skiff['skiff_type']=='Ofe'),'skiff_mk'] = 'em_WR_Be'"
   ]
  },
  {
   "cell_type": "code",
   "execution_count": 13,
   "id": "42da5a21-fe3b-4b87-8cfc-e618de06ee36",
   "metadata": {},
   "outputs": [],
   "source": [
    "skiff.loc[skiff['skiff_mk'].isna(),'skiff_mk'] = skiff.loc[skiff['skiff_mk'].isna()].apply(lambda row: busqueda(r\"e\", row[\"skiff_type\"],'em_WR_Be'), axis=1)\n"
   ]
  },
  {
   "cell_type": "code",
   "execution_count": 14,
   "id": "17abe6fd-6171-4230-b36c-3c438a84e4c9",
   "metadata": {},
   "outputs": [],
   "source": [
    "skiff.loc[skiff['skiff_mk'].isna(),'skiff_mk'] = skiff.loc[skiff['skiff_mk'].isna()].apply(lambda row: busqueda(r\"^(O|B|A|F|G|K|M|N)(\\d*(\\.\\d*)?)?(\\/(\\d*(\\.\\d*)?)?)?\", row[\"skiff_type\"]), axis=1)"
   ]
  },
  {
   "cell_type": "code",
   "execution_count": 15,
   "id": "019ad43b-9220-4526-9b97-b07520380acd",
   "metadata": {},
   "outputs": [],
   "source": [
    "skiff_mk = skiff.loc[(skiff['skiff_mk']!='em_WR_Be')&(skiff['skiff_mk']!='OB')&(skiff['skiff_mk'].notna())]"
   ]
  },
  {
   "cell_type": "code",
   "execution_count": 16,
   "id": "9405f5b4-c798-49f4-8abf-93015563c84f",
   "metadata": {},
   "outputs": [
    {
     "name": "stderr",
     "output_type": "stream",
     "text": [
      "/tmp/ipykernel_5899/2992802417.py:1: SettingWithCopyWarning: \n",
      "A value is trying to be set on a copy of a slice from a DataFrame.\n",
      "Try using .loc[row_indexer,col_indexer] = value instead\n",
      "\n",
      "See the caveats in the documentation: https://pandas.pydata.org/pandas-docs/stable/user_guide/indexing.html#returning-a-view-versus-a-copy\n",
      "  skiff_mk['skiff_mk'] = skiff_mk['skiff_mk'].str.replace('.', '')\n"
     ]
    }
   ],
   "source": [
    "skiff_mk['skiff_mk'] = skiff_mk['skiff_mk'].str.replace('.', '')"
   ]
  },
  {
   "cell_type": "code",
   "execution_count": 17,
   "id": "3d83e2e0-1b9c-4b0d-8c81-4837327c09d8",
   "metadata": {},
   "outputs": [],
   "source": [
    "replace_map = {\n",
    "    'O': '0.',\n",
    "    'B': '1.',\n",
    "    'A': '2.',\n",
    "    'F': '3.',\n",
    "    'G': '4.',\n",
    "    'K': '5.',\n",
    "    'M': '6.'\n",
    "}"
   ]
  },
  {
   "cell_type": "code",
   "execution_count": 18,
   "id": "faab775d-0a5e-4081-add8-b47848c141a4",
   "metadata": {},
   "outputs": [
    {
     "name": "stderr",
     "output_type": "stream",
     "text": [
      "/tmp/ipykernel_5899/2936214468.py:1: SettingWithCopyWarning: \n",
      "A value is trying to be set on a copy of a slice from a DataFrame.\n",
      "Try using .loc[row_indexer,col_indexer] = value instead\n",
      "\n",
      "See the caveats in the documentation: https://pandas.pydata.org/pandas-docs/stable/user_guide/indexing.html#returning-a-view-versus-a-copy\n",
      "  skiff_mk['skiff_mk'] = skiff_mk['skiff_mk'].replace(replace_map, regex=True)\n"
     ]
    }
   ],
   "source": [
    "skiff_mk['skiff_mk'] = skiff_mk['skiff_mk'].replace(replace_map, regex=True)\n"
   ]
  },
  {
   "cell_type": "code",
   "execution_count": 19,
   "id": "3de3496f-ae4a-43d2-89a6-f75d42b8c841",
   "metadata": {},
   "outputs": [
    {
     "name": "stdout",
     "output_type": "stream",
     "text": [
      "0.97\n"
     ]
    }
   ],
   "source": [
    "import re\n",
    "\n",
    "def extract_first_float(s):\n",
    "    match = re.search(r\"(\\d{1,2}(?:\\.\\d{1,2})?)\", s)\n",
    "    return float(match.group()) if match else None\n",
    "\n",
    "s = '0.97Ib + 0.9'\n",
    "number = extract_first_float(s)\n",
    "print(number)\n"
   ]
  },
  {
   "cell_type": "code",
   "execution_count": 20,
   "id": "81a96f34-b695-45f3-93b8-583af5011fc6",
   "metadata": {},
   "outputs": [],
   "source": [
    "skiff_mk = skiff_mk[skiff_mk['skiff_mk'].str.split('/').str[0].str.len() !=1].reset_index(drop=True)"
   ]
  },
  {
   "cell_type": "code",
   "execution_count": 21,
   "id": "abcb6d56-a6c3-4504-b704-7c25c75f4f2a",
   "metadata": {},
   "outputs": [],
   "source": [
    "n1 = skiff_mk['skiff_mk'].str.split('/').str[0].reset_index(drop=True)"
   ]
  },
  {
   "cell_type": "code",
   "execution_count": 22,
   "id": "bc0d715c-411f-4c42-8d86-486966a4de28",
   "metadata": {},
   "outputs": [],
   "source": [
    "n1 = n1.apply(extract_first_float)"
   ]
  },
  {
   "cell_type": "code",
   "execution_count": 23,
   "id": "1d041051-3f5e-43c0-9dbb-16ecb6571b26",
   "metadata": {},
   "outputs": [],
   "source": [
    "entero = n1.astype(str).str.split('.').str[0]\n",
    "decimal = n1.astype(str).str.split('.').str[1]"
   ]
  },
  {
   "cell_type": "code",
   "execution_count": 24,
   "id": "930283c6-9d20-4736-9c19-57508faa985c",
   "metadata": {},
   "outputs": [],
   "source": [
    "n2 = skiff_mk['skiff_mk'].str.split('/').str[1].replace(np.nan,0).replace('',0).astype(str).reset_index(drop=True)"
   ]
  },
  {
   "cell_type": "code",
   "execution_count": 25,
   "id": "3402429f-b762-4c17-803e-365ede577cbe",
   "metadata": {},
   "outputs": [],
   "source": [
    "decimal  = '0.'+decimal\n",
    "n2  = '0.'+n2"
   ]
  },
  {
   "cell_type": "code",
   "execution_count": 26,
   "id": "c0eac1ba-61ad-48e3-b49e-2428db39283c",
   "metadata": {},
   "outputs": [],
   "source": [
    "n2 = n2.apply(extract_first_float)\n",
    "decimal = decimal.apply(extract_first_float)"
   ]
  },
  {
   "cell_type": "code",
   "execution_count": 27,
   "id": "f55e38e4-18c6-43ac-8cfb-a405ae8b391e",
   "metadata": {},
   "outputs": [],
   "source": [
    "n2.loc[n2 > 0] = n2.loc[n2 > 0] / 2\n",
    "decimal.loc[n2 > 0] = decimal.loc[n2 > 0] / 2\n"
   ]
  },
  {
   "cell_type": "code",
   "execution_count": 28,
   "id": "b6d731ca-78fe-4356-969e-7686c01ef328",
   "metadata": {},
   "outputs": [],
   "source": [
    "skiff_mk['label'] = entero.astype(int) + (decimal + n2)"
   ]
  },
  {
   "cell_type": "code",
   "execution_count": 29,
   "id": "88e94a61-3d18-4c8e-a256-c7e80c0e59fc",
   "metadata": {},
   "outputs": [],
   "source": [
    "import numpy as np\n",
    "\n",
    "# Define los posibles valores\n",
    "values = [0.0, 0.1, 0.2, 0.3, 0.4, 0.5, 0.6, 0.7, 0.8, 0.9]\n",
    "\n",
    "# Selecciona las filas donde la longitud de 'skiff_type' es 1\n",
    "mask = skiff_mk['skiff_type'].str.len() == 1\n",
    "\n",
    "# Suma el valor en 'skiff_mk' con un valor aleatorio de 'values' y asigna el resultado a 'label'\n",
    "skiff_mk.loc[mask, 'label'] = skiff_mk.loc[mask, 'label'] + np.random.choice(values, size=sum(mask))\n",
    "\n"
   ]
  },
  {
   "cell_type": "code",
   "execution_count": 30,
   "id": "04687611",
   "metadata": {},
   "outputs": [],
   "source": [
    "skiff_mk[\"year\"] = skiff_mk.apply(lambda row: busqueda(r\"\\d{4}\",row[\"Bibcode\"]),axis=1)  "
   ]
  },
  {
   "cell_type": "code",
   "execution_count": 31,
   "id": "db34131c",
   "metadata": {},
   "outputs": [],
   "source": [
    "skiff_mk[\"arxiv\"] = skiff_mk.apply(lambda row: busqueda(r\"arXiv\",row[\"Bibcode\"]),axis=1)  "
   ]
  },
  {
   "cell_type": "code",
   "execution_count": 32,
   "id": "b125154b",
   "metadata": {},
   "outputs": [],
   "source": [
    "skiff_mk.loc[skiff_mk[\"arxiv\"].notna(),\"year\"] = \"20\" + skiff_mk.loc[skiff_mk[\"arxiv\"].notna()][\"year\"].astype(\"str\").str[:2]"
   ]
  },
  {
   "cell_type": "code",
   "execution_count": 33,
   "id": "28c1c39f",
   "metadata": {},
   "outputs": [],
   "source": [
    "skiff_mk[\"year\"] = pd.to_numeric(skiff_mk[\"year\"],errors=\"coerce\")"
   ]
  },
  {
   "cell_type": "code",
   "execution_count": 34,
   "id": "1f2151d6",
   "metadata": {},
   "outputs": [],
   "source": [
    "# si realmente es el mismo objeto\n",
    "#keywoard de los papers S/N y/o R\n",
    "# Pasar a numeros los tipos espectrales redondear!\n",
    "# Escribir en la tesis como determinar tipos espectrales\n",
    "stars_unicas = skiff_mk.loc[skiff_mk[\"GroupID_2arcsec_skiff\"].isna()]\n",
    "star_no_unicas = skiff_mk.loc[skiff_mk[\"GroupID_2arcsec_skiff\"].notna()]\n",
    "#df_1 = pd.concat([stars_unicas,star_no_unicas])"
   ]
  },
  {
   "cell_type": "code",
   "execution_count": 35,
   "id": "7c724243",
   "metadata": {},
   "outputs": [
    {
     "name": "stderr",
     "output_type": "stream",
     "text": [
      "/tmp/ipykernel_5899/396490030.py:5: SettingWithCopyWarning: \n",
      "A value is trying to be set on a copy of a slice from a DataFrame.\n",
      "Try using .loc[row_indexer,col_indexer] = value instead\n",
      "\n",
      "See the caveats in the documentation: https://pandas.pydata.org/pandas-docs/stable/user_guide/indexing.html#returning-a-view-versus-a-copy\n",
      "  star_no_unicas[\"std_sp\"] = std_by_group\n"
     ]
    }
   ],
   "source": [
    "# Calcula la desviación estándar dentro de cada grupo\n",
    "std_by_group = star_no_unicas.groupby(\"GroupID_2arcsec_skiff\")[\"label\"].transform(\"std\")\n",
    "\n",
    "# Agrega la columna al DataFrame\n",
    "star_no_unicas[\"std_sp\"] = std_by_group"
   ]
  },
  {
   "cell_type": "code",
   "execution_count": 36,
   "id": "870cba1d",
   "metadata": {},
   "outputs": [],
   "source": [
    "star_no_unicas = star_no_unicas.loc[(star_no_unicas[\"std_sp\"]<0.5)|(star_no_unicas[\"std_sp\"].isna())]"
   ]
  },
  {
   "cell_type": "code",
   "execution_count": 37,
   "id": "dfdf03ef",
   "metadata": {},
   "outputs": [],
   "source": [
    "mean_by_group = star_no_unicas.groupby(\"GroupID_2arcsec_skiff\")[\"label\"].transform(\"mean\")\n",
    "\n",
    "# Agrega la columna al DataFrame\n",
    "star_no_unicas[\"label\"] = mean_by_group"
   ]
  },
  {
   "cell_type": "code",
   "execution_count": 38,
   "id": "01a22996",
   "metadata": {},
   "outputs": [],
   "source": [
    "star_no_unicas = star_no_unicas.sort_values(by=\"year\",ascending=False).drop_duplicates(subset=\"GroupID_2arcsec_skiff\",keep='first')"
   ]
  },
  {
   "cell_type": "code",
   "execution_count": 39,
   "id": "8ecb0e92",
   "metadata": {},
   "outputs": [],
   "source": [
    "skiff_mk = pd.concat([star_no_unicas,stars_unicas])"
   ]
  },
  {
   "cell_type": "code",
   "execution_count": 44,
   "id": "b50f6ffd-ab9e-41bc-b457-1c9863e04e3d",
   "metadata": {},
   "outputs": [
    {
     "data": {
      "text/html": [
       "<div>\n",
       "<style scoped>\n",
       "    .dataframe tbody tr th:only-of-type {\n",
       "        vertical-align: middle;\n",
       "    }\n",
       "\n",
       "    .dataframe tbody tr th {\n",
       "        vertical-align: top;\n",
       "    }\n",
       "\n",
       "    .dataframe thead th {\n",
       "        text-align: right;\n",
       "    }\n",
       "</style>\n",
       "<table border=\"1\" class=\"dataframe\">\n",
       "  <thead>\n",
       "    <tr style=\"text-align: right;\">\n",
       "      <th></th>\n",
       "      <th>source_id_1</th>\n",
       "      <th>ra_1_1</th>\n",
       "      <th>dec_1_1</th>\n",
       "      <th>ra_error</th>\n",
       "      <th>dec_error</th>\n",
       "      <th>parallax</th>\n",
       "      <th>parallax_error</th>\n",
       "      <th>parallax_over_error</th>\n",
       "      <th>pmra</th>\n",
       "      <th>pmdec</th>\n",
       "      <th>...</th>\n",
       "      <th>PrimW1</th>\n",
       "      <th>PrimW2</th>\n",
       "      <th>FlagsW1</th>\n",
       "      <th>FlagsW2</th>\n",
       "      <th>f_FlagsW1</th>\n",
       "      <th>f_FlagsW2</th>\n",
       "      <th>Prim</th>\n",
       "      <th>GroupID</th>\n",
       "      <th>GroupSize</th>\n",
       "      <th>Separation</th>\n",
       "    </tr>\n",
       "  </thead>\n",
       "  <tbody>\n",
       "    <tr>\n",
       "      <th>0</th>\n",
       "      <td>233646976817920640</td>\n",
       "      <td>62.929438</td>\n",
       "      <td>45.399682</td>\n",
       "      <td>0.010003</td>\n",
       "      <td>0.007647</td>\n",
       "      <td>0.667127</td>\n",
       "      <td>0.013129</td>\n",
       "      <td>50.815056</td>\n",
       "      <td>0.131989</td>\n",
       "      <td>-2.964688</td>\n",
       "      <td>...</td>\n",
       "      <td>True</td>\n",
       "      <td>True</td>\n",
       "      <td>0.0</td>\n",
       "      <td>0.0</td>\n",
       "      <td>0.0</td>\n",
       "      <td>0.0</td>\n",
       "      <td>True</td>\n",
       "      <td>1.0</td>\n",
       "      <td>4.0</td>\n",
       "      <td>0.051736</td>\n",
       "    </tr>\n",
       "    <tr>\n",
       "      <th>1</th>\n",
       "      <td>233646976817920640</td>\n",
       "      <td>62.929438</td>\n",
       "      <td>45.399682</td>\n",
       "      <td>0.010003</td>\n",
       "      <td>0.007647</td>\n",
       "      <td>0.667127</td>\n",
       "      <td>0.013129</td>\n",
       "      <td>50.815056</td>\n",
       "      <td>0.131989</td>\n",
       "      <td>-2.964688</td>\n",
       "      <td>...</td>\n",
       "      <td>True</td>\n",
       "      <td>True</td>\n",
       "      <td>0.0</td>\n",
       "      <td>0.0</td>\n",
       "      <td>0.0</td>\n",
       "      <td>0.0</td>\n",
       "      <td>True</td>\n",
       "      <td>1.0</td>\n",
       "      <td>4.0</td>\n",
       "      <td>0.051736</td>\n",
       "    </tr>\n",
       "    <tr>\n",
       "      <th>2</th>\n",
       "      <td>233646976817920640</td>\n",
       "      <td>62.929438</td>\n",
       "      <td>45.399682</td>\n",
       "      <td>0.010003</td>\n",
       "      <td>0.007647</td>\n",
       "      <td>0.667127</td>\n",
       "      <td>0.013129</td>\n",
       "      <td>50.815056</td>\n",
       "      <td>0.131989</td>\n",
       "      <td>-2.964688</td>\n",
       "      <td>...</td>\n",
       "      <td>True</td>\n",
       "      <td>True</td>\n",
       "      <td>0.0</td>\n",
       "      <td>0.0</td>\n",
       "      <td>0.0</td>\n",
       "      <td>0.0</td>\n",
       "      <td>True</td>\n",
       "      <td>1.0</td>\n",
       "      <td>4.0</td>\n",
       "      <td>0.051736</td>\n",
       "    </tr>\n",
       "    <tr>\n",
       "      <th>3</th>\n",
       "      <td>233646976817920640</td>\n",
       "      <td>62.929438</td>\n",
       "      <td>45.399682</td>\n",
       "      <td>0.010003</td>\n",
       "      <td>0.007647</td>\n",
       "      <td>0.667127</td>\n",
       "      <td>0.013129</td>\n",
       "      <td>50.815056</td>\n",
       "      <td>0.131989</td>\n",
       "      <td>-2.964688</td>\n",
       "      <td>...</td>\n",
       "      <td>True</td>\n",
       "      <td>True</td>\n",
       "      <td>0.0</td>\n",
       "      <td>0.0</td>\n",
       "      <td>0.0</td>\n",
       "      <td>0.0</td>\n",
       "      <td>True</td>\n",
       "      <td>1.0</td>\n",
       "      <td>4.0</td>\n",
       "      <td>0.051736</td>\n",
       "    </tr>\n",
       "    <tr>\n",
       "      <th>4</th>\n",
       "      <td>3440665079255783296</td>\n",
       "      <td>95.963683</td>\n",
       "      <td>34.949777</td>\n",
       "      <td>0.028062</td>\n",
       "      <td>0.027380</td>\n",
       "      <td>0.162584</td>\n",
       "      <td>0.032647</td>\n",
       "      <td>4.980018</td>\n",
       "      <td>0.256059</td>\n",
       "      <td>-1.424456</td>\n",
       "      <td>...</td>\n",
       "      <td>False</td>\n",
       "      <td>False</td>\n",
       "      <td>0.0</td>\n",
       "      <td>0.0</td>\n",
       "      <td>0.0</td>\n",
       "      <td>0.0</td>\n",
       "      <td>False</td>\n",
       "      <td>2.0</td>\n",
       "      <td>4.0</td>\n",
       "      <td>0.103058</td>\n",
       "    </tr>\n",
       "    <tr>\n",
       "      <th>...</th>\n",
       "      <td>...</td>\n",
       "      <td>...</td>\n",
       "      <td>...</td>\n",
       "      <td>...</td>\n",
       "      <td>...</td>\n",
       "      <td>...</td>\n",
       "      <td>...</td>\n",
       "      <td>...</td>\n",
       "      <td>...</td>\n",
       "      <td>...</td>\n",
       "      <td>...</td>\n",
       "      <td>...</td>\n",
       "      <td>...</td>\n",
       "      <td>...</td>\n",
       "      <td>...</td>\n",
       "      <td>...</td>\n",
       "      <td>...</td>\n",
       "      <td>...</td>\n",
       "      <td>...</td>\n",
       "      <td>...</td>\n",
       "      <td>...</td>\n",
       "    </tr>\n",
       "    <tr>\n",
       "      <th>1180243</th>\n",
       "      <td>5321470325202411904</td>\n",
       "      <td>128.507836</td>\n",
       "      <td>-52.154300</td>\n",
       "      <td>0.018835</td>\n",
       "      <td>0.020499</td>\n",
       "      <td>0.263431</td>\n",
       "      <td>0.021107</td>\n",
       "      <td>12.480559</td>\n",
       "      <td>-4.582145</td>\n",
       "      <td>4.806116</td>\n",
       "      <td>...</td>\n",
       "      <td>True</td>\n",
       "      <td>True</td>\n",
       "      <td>34.0</td>\n",
       "      <td>32.0</td>\n",
       "      <td>0.0</td>\n",
       "      <td>0.0</td>\n",
       "      <td>True</td>\n",
       "      <td>NaN</td>\n",
       "      <td>NaN</td>\n",
       "      <td>0.081991</td>\n",
       "    </tr>\n",
       "    <tr>\n",
       "      <th>1180244</th>\n",
       "      <td>4306612880787921920</td>\n",
       "      <td>285.998597</td>\n",
       "      <td>6.537983</td>\n",
       "      <td>0.020446</td>\n",
       "      <td>0.019099</td>\n",
       "      <td>0.528764</td>\n",
       "      <td>0.024796</td>\n",
       "      <td>21.324427</td>\n",
       "      <td>0.609010</td>\n",
       "      <td>-4.342659</td>\n",
       "      <td>...</td>\n",
       "      <td>True</td>\n",
       "      <td>True</td>\n",
       "      <td>0.0</td>\n",
       "      <td>0.0</td>\n",
       "      <td>0.0</td>\n",
       "      <td>0.0</td>\n",
       "      <td>True</td>\n",
       "      <td>NaN</td>\n",
       "      <td>NaN</td>\n",
       "      <td>0.590170</td>\n",
       "    </tr>\n",
       "    <tr>\n",
       "      <th>1180245</th>\n",
       "      <td>5813630490211736064</td>\n",
       "      <td>264.508115</td>\n",
       "      <td>-65.756562</td>\n",
       "      <td>0.024764</td>\n",
       "      <td>0.025970</td>\n",
       "      <td>0.171369</td>\n",
       "      <td>0.038170</td>\n",
       "      <td>4.489561</td>\n",
       "      <td>-2.617784</td>\n",
       "      <td>-2.812394</td>\n",
       "      <td>...</td>\n",
       "      <td>True</td>\n",
       "      <td>True</td>\n",
       "      <td>0.0</td>\n",
       "      <td>0.0</td>\n",
       "      <td>0.0</td>\n",
       "      <td>0.0</td>\n",
       "      <td>True</td>\n",
       "      <td>NaN</td>\n",
       "      <td>NaN</td>\n",
       "      <td>0.288961</td>\n",
       "    </tr>\n",
       "    <tr>\n",
       "      <th>1180246</th>\n",
       "      <td>3099461469831899776</td>\n",
       "      <td>101.944628</td>\n",
       "      <td>-6.622163</td>\n",
       "      <td>0.029762</td>\n",
       "      <td>0.029760</td>\n",
       "      <td>0.112302</td>\n",
       "      <td>0.034121</td>\n",
       "      <td>3.291275</td>\n",
       "      <td>-0.018374</td>\n",
       "      <td>0.090998</td>\n",
       "      <td>...</td>\n",
       "      <td>True</td>\n",
       "      <td>True</td>\n",
       "      <td>0.0</td>\n",
       "      <td>0.0</td>\n",
       "      <td>0.0</td>\n",
       "      <td>0.0</td>\n",
       "      <td>True</td>\n",
       "      <td>NaN</td>\n",
       "      <td>NaN</td>\n",
       "      <td>0.162946</td>\n",
       "    </tr>\n",
       "    <tr>\n",
       "      <th>1180247</th>\n",
       "      <td>5943353449067411712</td>\n",
       "      <td>250.201985</td>\n",
       "      <td>-45.493857</td>\n",
       "      <td>0.019498</td>\n",
       "      <td>0.012410</td>\n",
       "      <td>0.285074</td>\n",
       "      <td>0.022662</td>\n",
       "      <td>12.579576</td>\n",
       "      <td>-2.052568</td>\n",
       "      <td>-3.395930</td>\n",
       "      <td>...</td>\n",
       "      <td>True</td>\n",
       "      <td>True</td>\n",
       "      <td>0.0</td>\n",
       "      <td>0.0</td>\n",
       "      <td>0.0</td>\n",
       "      <td>0.0</td>\n",
       "      <td>True</td>\n",
       "      <td>NaN</td>\n",
       "      <td>NaN</td>\n",
       "      <td>0.297083</td>\n",
       "    </tr>\n",
       "  </tbody>\n",
       "</table>\n",
       "<p>1180248 rows × 289 columns</p>\n",
       "</div>"
      ],
      "text/plain": [
       "                 source_id_1      ra_1_1    dec_1_1  ra_error  dec_error  \\\n",
       "0         233646976817920640   62.929438  45.399682  0.010003   0.007647   \n",
       "1         233646976817920640   62.929438  45.399682  0.010003   0.007647   \n",
       "2         233646976817920640   62.929438  45.399682  0.010003   0.007647   \n",
       "3         233646976817920640   62.929438  45.399682  0.010003   0.007647   \n",
       "4        3440665079255783296   95.963683  34.949777  0.028062   0.027380   \n",
       "...                      ...         ...        ...       ...        ...   \n",
       "1180243  5321470325202411904  128.507836 -52.154300  0.018835   0.020499   \n",
       "1180244  4306612880787921920  285.998597   6.537983  0.020446   0.019099   \n",
       "1180245  5813630490211736064  264.508115 -65.756562  0.024764   0.025970   \n",
       "1180246  3099461469831899776  101.944628  -6.622163  0.029762   0.029760   \n",
       "1180247  5943353449067411712  250.201985 -45.493857  0.019498   0.012410   \n",
       "\n",
       "         parallax  parallax_error  parallax_over_error      pmra     pmdec  \\\n",
       "0        0.667127        0.013129            50.815056  0.131989 -2.964688   \n",
       "1        0.667127        0.013129            50.815056  0.131989 -2.964688   \n",
       "2        0.667127        0.013129            50.815056  0.131989 -2.964688   \n",
       "3        0.667127        0.013129            50.815056  0.131989 -2.964688   \n",
       "4        0.162584        0.032647             4.980018  0.256059 -1.424456   \n",
       "...           ...             ...                  ...       ...       ...   \n",
       "1180243  0.263431        0.021107            12.480559 -4.582145  4.806116   \n",
       "1180244  0.528764        0.024796            21.324427  0.609010 -4.342659   \n",
       "1180245  0.171369        0.038170             4.489561 -2.617784 -2.812394   \n",
       "1180246  0.112302        0.034121             3.291275 -0.018374  0.090998   \n",
       "1180247  0.285074        0.022662            12.579576 -2.052568 -3.395930   \n",
       "\n",
       "         ...  PrimW1  PrimW2  FlagsW1  FlagsW2  f_FlagsW1  f_FlagsW2   Prim  \\\n",
       "0        ...    True    True      0.0      0.0        0.0        0.0   True   \n",
       "1        ...    True    True      0.0      0.0        0.0        0.0   True   \n",
       "2        ...    True    True      0.0      0.0        0.0        0.0   True   \n",
       "3        ...    True    True      0.0      0.0        0.0        0.0   True   \n",
       "4        ...   False   False      0.0      0.0        0.0        0.0  False   \n",
       "...      ...     ...     ...      ...      ...        ...        ...    ...   \n",
       "1180243  ...    True    True     34.0     32.0        0.0        0.0   True   \n",
       "1180244  ...    True    True      0.0      0.0        0.0        0.0   True   \n",
       "1180245  ...    True    True      0.0      0.0        0.0        0.0   True   \n",
       "1180246  ...    True    True      0.0      0.0        0.0        0.0   True   \n",
       "1180247  ...    True    True      0.0      0.0        0.0        0.0   True   \n",
       "\n",
       "         GroupID  GroupSize  Separation  \n",
       "0            1.0        4.0    0.051736  \n",
       "1            1.0        4.0    0.051736  \n",
       "2            1.0        4.0    0.051736  \n",
       "3            1.0        4.0    0.051736  \n",
       "4            2.0        4.0    0.103058  \n",
       "...          ...        ...         ...  \n",
       "1180243      NaN        NaN    0.081991  \n",
       "1180244      NaN        NaN    0.590170  \n",
       "1180245      NaN        NaN    0.288961  \n",
       "1180246      NaN        NaN    0.162946  \n",
       "1180247      NaN        NaN    0.297083  \n",
       "\n",
       "[1180248 rows x 289 columns]"
      ]
     },
     "execution_count": 44,
     "metadata": {},
     "output_type": "execute_result"
    }
   ],
   "source": [
    "df_1"
   ]
  },
  {
   "cell_type": "code",
   "execution_count": 45,
   "id": "317676a7-ace9-4b86-ac3a-580fe7be1329",
   "metadata": {},
   "outputs": [],
   "source": [
    "df_1.drop(columns=['Bibcode', 'GroupID_2arcsec_skiff'], inplace=True)\n"
   ]
  },
  {
   "cell_type": "code",
   "execution_count": 46,
   "id": "5edc8218-f056-4cf3-bef1-ff6bcebf8bde",
   "metadata": {},
   "outputs": [],
   "source": [
    "# Convierte la columna 'source_id_1' a int64 en ambas DataFrames\n",
    "df_1['source_id_1'] = df_1['source_id_1'].astype(int)\n",
    "skiff_mk['source_id_1'] = skiff_mk['source_id_1'].astype(int)\n",
    "\n",
    "# Ahora realiza el merge\n",
    "result = skiff_mk.merge(df_1, on=['source_id_1','skiff_type'], how='left')\n"
   ]
  },
  {
   "cell_type": "code",
   "execution_count": 51,
   "id": "bb8b9fa2",
   "metadata": {},
   "outputs": [],
   "source": [
    "result.to_csv(\"/home/marcelo/nico/MasivasData/skiff_2arcsec_internal_match_preprocesing.csv\",index=False)"
   ]
  },
  {
   "cell_type": "code",
   "execution_count": 231,
   "id": "37c772d0-4761-413d-a728-3d43e3ae52da",
   "metadata": {},
   "outputs": [],
   "source": [
    "df['Flux_w2_over_error'] = df['FW2'] / df['e_FW2']\n",
    "df['Flux_w1_over_error'] = df['FW1'] / df['e_FW1']"
   ]
  }
 ],
 "metadata": {
  "kernelspec": {
   "display_name": "Python 3 (ipykernel)",
   "language": "python",
   "name": "python3"
  },
  "language_info": {
   "codemirror_mode": {
    "name": "ipython",
    "version": 3
   },
   "file_extension": ".py",
   "mimetype": "text/x-python",
   "name": "python",
   "nbconvert_exporter": "python",
   "pygments_lexer": "ipython3",
   "version": "3.9.18"
  }
 },
 "nbformat": 4,
 "nbformat_minor": 5
}
