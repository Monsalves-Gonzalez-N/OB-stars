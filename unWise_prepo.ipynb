{
 "cells": [
  {
   "cell_type": "code",
   "execution_count": 1,
   "id": "7f4c5e70-dc3f-4bd3-9e2a-d6ae9573e146",
   "metadata": {},
   "outputs": [],
   "source": [
    "import pandas as pd"
   ]
  },
  {
   "cell_type": "code",
   "execution_count": 50,
   "id": "4a32057d-05c1-42b4-8ccb-e82c4dd7dea9",
   "metadata": {},
   "outputs": [],
   "source": [
    "df = pd.read_csv('../../MasivasData/zari_Unwise.csv')"
   ]
  },
  {
   "cell_type": "code",
   "execution_count": 51,
   "id": "92854f17-a312-42de-b36c-7f73ee61034e",
   "metadata": {},
   "outputs": [],
   "source": [
    "df = df[['objID', 'RAdeg', 'DEdeg',\n",
    "       'XposW1', 'XposW2', 'YposW1', 'YposW2', 'FW1', 'FW2', 'e_XposW1',\n",
    "       'e_XposW2', 'e_YposW1', 'e_YposW2', 'e_FW1', 'e_FW2', 'q_W1', 'q_W2',\n",
    "       'rchi2W1', 'rchi2W2', 'fFW1', 'fFW2', 'FW1lbs', 'FW2lbs', 'e_FW1lbs',\n",
    "       'e_FW2lbs', 'fwhmW1', 'fwhmW2', 'SpModW1', 'SpModW2', 'e_SpModW1',\n",
    "       'e_SpModW2', 'skyW1', 'skyW2', 'RAW1deg', 'RAW2deg', 'DEW1deg',\n",
    "       'DEW2deg', 'coaddID', 'detIDW1', 'detIDW2', 'nmW1', 'nmW2', 'PrimW1',\n",
    "       'PrimW2', 'FlagsW1', 'FlagsW2', 'f_FlagsW1', 'f_FlagsW2', 'Prim']]"
   ]
  },
  {
   "cell_type": "code",
   "execution_count": 55,
   "id": "3f5df8dd-a34e-4fba-85b1-dc73af90f2bd",
   "metadata": {},
   "outputs": [],
   "source": [
    "df.drop_duplicates(subset='objID').to_csv('../../MasivasData/zari_Unwise.csv',index=False)"
   ]
  },
  {
   "cell_type": "code",
   "execution_count": null,
   "id": "299cbb92-5306-4f90-80cb-1564c0642f42",
   "metadata": {},
   "outputs": [],
   "source": []
  }
 ],
 "metadata": {
  "kernelspec": {
   "display_name": "Python 3 (ipykernel)",
   "language": "python",
   "name": "python3"
  },
  "language_info": {
   "codemirror_mode": {
    "name": "ipython",
    "version": 3
   },
   "file_extension": ".py",
   "mimetype": "text/x-python",
   "name": "python",
   "nbconvert_exporter": "python",
   "pygments_lexer": "ipython3",
   "version": "3.9.18"
  }
 },
 "nbformat": 4,
 "nbformat_minor": 5
}
